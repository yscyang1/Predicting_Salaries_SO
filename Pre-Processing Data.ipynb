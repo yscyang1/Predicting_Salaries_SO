{
 "cells": [
  {
   "cell_type": "markdown",
   "metadata": {},
   "source": [
    "# 1 - Predicting Salaries from Stack Overflow Surveys\n",
    "Stack Overflow has been conducting [annual user surveys](https://insights.stackoverflow.com/survey/?utm_source=so-owned&utm_medium=blog&utm_campaign=dev-survey-2017&utm_content=blog-link&utm_term=data) starting in 2011. Yes, this is the same survey that (re)started the whole tabs vs spaces [debate](https://stackoverflow.blog/2017/06/15/developers-use-spaces-make-money-use-tabs/) in 2017. The results for the 2018 survey has been released, and I wanted to try **to use the 2017 results to try and predict salaries in the 2018 results**.  \n",
    "\n",
    "For anyone who has worked on a dataset not from Kaggle or the UCI repository, you might have experienced of the 80/20 rule, where 80% of your time is spent cleaning data, and 20% on modeling.  Despite knowing the rule, it still surprised me how much time I spent cleaning the data, which is detailed below.\n",
    "\n",
    "Broadly, I will be going through:\n",
    "\n",
    "-  Downcasting data  \n",
    "-  Identifying  and renaming common columns\n",
    "-  Pre-processing data"
   ]
  },
  {
   "cell_type": "markdown",
   "metadata": {},
   "source": [
    "#### 1.1 - Importing Libraries\n",
    "Importing all standard libraries because its just habit now.  I've also set options to view up to 50 columns without truncation."
   ]
  },
  {
   "cell_type": "code",
   "execution_count": 1,
   "metadata": {
    "collapsed": false
   },
   "outputs": [],
   "source": [
    "import pandas as pd\n",
    "import numpy as np\n",
    "import seaborn as sns\n",
    "import matplotlib.pyplot as plt\n",
    "%matplotlib inline"
   ]
  },
  {
   "cell_type": "code",
   "execution_count": 2,
   "metadata": {
    "collapsed": false
   },
   "outputs": [],
   "source": [
    "pd.set_option('display.max_columns', 50)"
   ]
  },
  {
   "cell_type": "markdown",
   "metadata": {},
   "source": [
    "# 2 - Reading and Downcasting Data\n",
    "Downcasting data means to optimize the datatype of each column to reduce memory usage.  For 2018, the dataset was more than 500 MB, which unfortunately is reaching the upper computational limits of my computer.  If you are interested in a more detailed explanation, check out my [kernel](https://www.kaggle.com/yscyang1/microsoft-malware-1-loading-a-large-data-set) for the Microsoft malware competition.\n",
    "\n",
    "Both 2017 and 2018 had the same treatment.  First, I printed the breakdown of each datatype's memory usage, including the total memory usage.  Then I downcasted each column and checked to see that the downcasting occurred.  \n",
    "\n",
    "Note:  I changed the columns \"Respondent\" from int32 to float32 because when saving to feather format, an error occurs with int32 dtype."
   ]
  },
  {
   "cell_type": "markdown",
   "metadata": {},
   "source": [
    "### 2.1 - 2017 Data\n",
    "- Memory usage before downcasting: 405.03 MB\n",
    "- Memory usage after downcasting: 15.56 MB\n",
    "- About a 95% reduction in memory usage"
   ]
  },
  {
   "cell_type": "code",
   "execution_count": 3,
   "metadata": {
    "collapsed": true
   },
   "outputs": [],
   "source": [
    "df_2017 = pd.read_csv('2017/survey_results_public.csv')"
   ]
  },
  {
   "cell_type": "code",
   "execution_count": 4,
   "metadata": {
    "collapsed": false
   },
   "outputs": [
    {
     "name": "stdout",
     "output_type": "stream",
     "text": [
      "<class 'pandas.core.frame.DataFrame'>\n",
      "RangeIndex: 51392 entries, 0 to 51391\n",
      "Columns: 154 entries, Respondent to ExpectedSalary\n",
      "dtypes: float64(6), int64(1), object(147)\n",
      "memory usage: 405.0 MB\n"
     ]
    }
   ],
   "source": [
    "df_2017.info(memory_usage='deep')"
   ]
  },
  {
   "cell_type": "code",
   "execution_count": 5,
   "metadata": {
    "collapsed": false
   },
   "outputs": [],
   "source": [
    "def get_memoryUsage(df):\n",
    "    dtype_lst = list(df.get_dtype_counts().index)\n",
    "    for dtype in dtype_lst:\n",
    "        print('Total memory usage for {}: {} MB'.format(dtype, format(df.select_dtypes([dtype]).memory_usage(deep = True).sum()/1024**2,'.5f')))\n",
    "    \n",
    "    print('\\n' + 'Total Memory Usage: {} MB'.format(format(df.memory_usage(deep=True).sum()/1024**2, '.2f')))"
   ]
  },
  {
   "cell_type": "code",
   "execution_count": 6,
   "metadata": {
    "collapsed": false
   },
   "outputs": [
    {
     "name": "stdout",
     "output_type": "stream",
     "text": [
      "Total memory usage for float64: 2.35262 MB\n",
      "Total memory usage for int64: 0.39217 MB\n",
      "Total memory usage for object: 402.28901 MB\n",
      "\n",
      "Total Memory Usage: 405.03 MB\n"
     ]
    }
   ],
   "source": [
    "get_memoryUsage(df_2017)"
   ]
  },
  {
   "cell_type": "code",
   "execution_count": 7,
   "metadata": {
    "collapsed": true
   },
   "outputs": [],
   "source": [
    "def downcast(df):\n",
    "    for col in df.select_dtypes(['int64']):\n",
    "        df[col] = pd.to_numeric(df[col], downcast = 'signed')\n",
    "    for col in df.select_dtypes(['float64']):\n",
    "        df[col] = pd.to_numeric(df[col], downcast = 'float')\n",
    "    for col in df.select_dtypes(['object']):\n",
    "        df[col] = df[col].astype('category')"
   ]
  },
  {
   "cell_type": "code",
   "execution_count": 8,
   "metadata": {
    "collapsed": true
   },
   "outputs": [],
   "source": [
    "downcast(df_2017)"
   ]
  },
  {
   "cell_type": "code",
   "execution_count": 9,
   "metadata": {
    "collapsed": false
   },
   "outputs": [
    {
     "name": "stdout",
     "output_type": "stream",
     "text": [
      "Total memory usage for category: 14.18455 MB\n",
      "Total memory usage for float32: 1.17635 MB\n",
      "Total memory usage for int32: 0.00008 MB\n",
      "\n",
      "Total Memory Usage: 15.56 MB\n"
     ]
    }
   ],
   "source": [
    "get_memoryUsage(df_2017)"
   ]
  },
  {
   "cell_type": "code",
   "execution_count": 10,
   "metadata": {
    "collapsed": false
   },
   "outputs": [],
   "source": [
    "df_2017['Respondent'] = df_2017['Respondent'].astype('float32')"
   ]
  },
  {
   "cell_type": "markdown",
   "metadata": {},
   "source": [
    "### 2.2 - 2018 Data\n",
    "- Memory usage before downcasting: 619.4 MB\n",
    "- Memory usage after downcasting: 45.08 MB\n",
    "- About a 90% reduction in memory usage"
   ]
  },
  {
   "cell_type": "code",
   "execution_count": 11,
   "metadata": {
    "collapsed": false
   },
   "outputs": [],
   "source": [
    "df_2018 = pd.read_csv('2018/survey_results_public.csv', low_memory=False)"
   ]
  },
  {
   "cell_type": "code",
   "execution_count": 12,
   "metadata": {
    "collapsed": false
   },
   "outputs": [
    {
     "name": "stdout",
     "output_type": "stream",
     "text": [
      "<class 'pandas.core.frame.DataFrame'>\n",
      "RangeIndex: 98855 entries, 0 to 98854\n",
      "Columns: 129 entries, Respondent to SurveyEasy\n",
      "dtypes: float64(41), int64(1), object(87)\n",
      "memory usage: 619.4 MB\n"
     ]
    }
   ],
   "source": [
    "get_memoryUsage(df_2018)"
   ]
  },
  {
   "cell_type": "code",
   "execution_count": 13,
   "metadata": {
    "collapsed": true
   },
   "outputs": [],
   "source": [
    "downcast(df_2018)"
   ]
  },
  {
   "cell_type": "code",
   "execution_count": 14,
   "metadata": {
    "collapsed": false
   },
   "outputs": [
    {
     "name": "stdout",
     "output_type": "stream",
     "text": [
      "Total memory usage for category: 29.23987 MB\n",
      "Total memory usage for float32: 15.46125 MB\n",
      "Total memory usage for int32: 0.00008 MB\n",
      "\n",
      "Total Memory Usage: 45.08 MB\n"
     ]
    }
   ],
   "source": [
    "get_memoryUsage(df_2018)"
   ]
  },
  {
   "cell_type": "code",
   "execution_count": 9,
   "metadata": {
    "collapsed": false
   },
   "outputs": [],
   "source": [
    "df_2018['Respondent'] = df_2018['Respondent'].astype('float32')"
   ]
  },
  {
   "cell_type": "markdown",
   "metadata": {},
   "source": [
    "### 2.3 - A Brief Glance at the Columns\n",
    "There are 154 columns in 2017 and 129 in 2018.  Yet, there are only 17 columns with the same name.  Surely there are more common columns between the two years?"
   ]
  },
  {
   "cell_type": "code",
   "execution_count": 15,
   "metadata": {
    "collapsed": false
   },
   "outputs": [],
   "source": [
    "pd.set_option('display.max_columns', 155)"
   ]
  },
  {
   "cell_type": "code",
   "execution_count": 16,
   "metadata": {
    "collapsed": false
   },
   "outputs": [
    {
     "data": {
      "text/html": [
       "<div>\n",
       "<style>\n",
       "    .dataframe thead tr:only-child th {\n",
       "        text-align: right;\n",
       "    }\n",
       "\n",
       "    .dataframe thead th {\n",
       "        text-align: left;\n",
       "    }\n",
       "\n",
       "    .dataframe tbody tr th {\n",
       "        vertical-align: top;\n",
       "    }\n",
       "</style>\n",
       "<table border=\"1\" class=\"dataframe\">\n",
       "  <thead>\n",
       "    <tr style=\"text-align: right;\">\n",
       "      <th></th>\n",
       "      <th>Respondent</th>\n",
       "      <th>Professional</th>\n",
       "      <th>ProgramHobby</th>\n",
       "      <th>Country</th>\n",
       "      <th>University</th>\n",
       "      <th>EmploymentStatus</th>\n",
       "      <th>FormalEducation</th>\n",
       "      <th>MajorUndergrad</th>\n",
       "      <th>HomeRemote</th>\n",
       "      <th>CompanySize</th>\n",
       "      <th>CompanyType</th>\n",
       "      <th>YearsProgram</th>\n",
       "      <th>YearsCodedJob</th>\n",
       "      <th>YearsCodedJobPast</th>\n",
       "      <th>DeveloperType</th>\n",
       "      <th>WebDeveloperType</th>\n",
       "      <th>MobileDeveloperType</th>\n",
       "      <th>NonDeveloperType</th>\n",
       "      <th>CareerSatisfaction</th>\n",
       "      <th>JobSatisfaction</th>\n",
       "      <th>ExCoderReturn</th>\n",
       "      <th>ExCoderNotForMe</th>\n",
       "      <th>ExCoderBalance</th>\n",
       "      <th>ExCoder10Years</th>\n",
       "      <th>ExCoderBelonged</th>\n",
       "      <th>ExCoderSkills</th>\n",
       "      <th>ExCoderWillNotCode</th>\n",
       "      <th>ExCoderActive</th>\n",
       "      <th>PronounceGIF</th>\n",
       "      <th>ProblemSolving</th>\n",
       "      <th>BuildingThings</th>\n",
       "      <th>LearningNewTech</th>\n",
       "      <th>BoringDetails</th>\n",
       "      <th>JobSecurity</th>\n",
       "      <th>DiversityImportant</th>\n",
       "      <th>AnnoyingUI</th>\n",
       "      <th>FriendsDevelopers</th>\n",
       "      <th>RightWrongWay</th>\n",
       "      <th>UnderstandComputers</th>\n",
       "      <th>SeriousWork</th>\n",
       "      <th>InvestTimeTools</th>\n",
       "      <th>WorkPayCare</th>\n",
       "      <th>KinshipDevelopers</th>\n",
       "      <th>ChallengeMyself</th>\n",
       "      <th>CompetePeers</th>\n",
       "      <th>ChangeWorld</th>\n",
       "      <th>JobSeekingStatus</th>\n",
       "      <th>HoursPerWeek</th>\n",
       "      <th>LastNewJob</th>\n",
       "      <th>AssessJobIndustry</th>\n",
       "      <th>AssessJobRole</th>\n",
       "      <th>AssessJobExp</th>\n",
       "      <th>AssessJobDept</th>\n",
       "      <th>AssessJobTech</th>\n",
       "      <th>AssessJobProjects</th>\n",
       "      <th>AssessJobCompensation</th>\n",
       "      <th>AssessJobOffice</th>\n",
       "      <th>AssessJobCommute</th>\n",
       "      <th>AssessJobRemote</th>\n",
       "      <th>AssessJobLeaders</th>\n",
       "      <th>AssessJobProfDevel</th>\n",
       "      <th>AssessJobDiversity</th>\n",
       "      <th>AssessJobProduct</th>\n",
       "      <th>AssessJobFinances</th>\n",
       "      <th>ImportantBenefits</th>\n",
       "      <th>ClickyKeys</th>\n",
       "      <th>JobProfile</th>\n",
       "      <th>ResumePrompted</th>\n",
       "      <th>LearnedHiring</th>\n",
       "      <th>ImportantHiringAlgorithms</th>\n",
       "      <th>ImportantHiringTechExp</th>\n",
       "      <th>ImportantHiringCommunication</th>\n",
       "      <th>ImportantHiringOpenSource</th>\n",
       "      <th>ImportantHiringPMExp</th>\n",
       "      <th>ImportantHiringCompanies</th>\n",
       "      <th>ImportantHiringTitles</th>\n",
       "      <th>ImportantHiringEducation</th>\n",
       "      <th>ImportantHiringRep</th>\n",
       "      <th>ImportantHiringGettingThingsDone</th>\n",
       "      <th>Currency</th>\n",
       "      <th>Overpaid</th>\n",
       "      <th>TabsSpaces</th>\n",
       "      <th>EducationImportant</th>\n",
       "      <th>EducationTypes</th>\n",
       "      <th>SelfTaughtTypes</th>\n",
       "      <th>TimeAfterBootcamp</th>\n",
       "      <th>CousinEducation</th>\n",
       "      <th>WorkStart</th>\n",
       "      <th>HaveWorkedLanguage</th>\n",
       "      <th>WantWorkLanguage</th>\n",
       "      <th>HaveWorkedFramework</th>\n",
       "      <th>WantWorkFramework</th>\n",
       "      <th>HaveWorkedDatabase</th>\n",
       "      <th>WantWorkDatabase</th>\n",
       "      <th>HaveWorkedPlatform</th>\n",
       "      <th>WantWorkPlatform</th>\n",
       "      <th>IDE</th>\n",
       "      <th>AuditoryEnvironment</th>\n",
       "      <th>Methodology</th>\n",
       "      <th>VersionControl</th>\n",
       "      <th>CheckInCode</th>\n",
       "      <th>ShipIt</th>\n",
       "      <th>OtherPeoplesCode</th>\n",
       "      <th>ProjectManagement</th>\n",
       "      <th>EnjoyDebugging</th>\n",
       "      <th>InTheZone</th>\n",
       "      <th>DifficultCommunication</th>\n",
       "      <th>CollaborateRemote</th>\n",
       "      <th>MetricAssess</th>\n",
       "      <th>EquipmentSatisfiedMonitors</th>\n",
       "      <th>EquipmentSatisfiedCPU</th>\n",
       "      <th>EquipmentSatisfiedRAM</th>\n",
       "      <th>EquipmentSatisfiedStorage</th>\n",
       "      <th>EquipmentSatisfiedRW</th>\n",
       "      <th>InfluenceInternet</th>\n",
       "      <th>InfluenceWorkstation</th>\n",
       "      <th>InfluenceHardware</th>\n",
       "      <th>InfluenceServers</th>\n",
       "      <th>InfluenceTechStack</th>\n",
       "      <th>InfluenceDeptTech</th>\n",
       "      <th>InfluenceVizTools</th>\n",
       "      <th>InfluenceDatabase</th>\n",
       "      <th>InfluenceCloud</th>\n",
       "      <th>InfluenceConsultants</th>\n",
       "      <th>InfluenceRecruitment</th>\n",
       "      <th>InfluenceCommunication</th>\n",
       "      <th>StackOverflowDescribes</th>\n",
       "      <th>StackOverflowSatisfaction</th>\n",
       "      <th>StackOverflowDevices</th>\n",
       "      <th>StackOverflowFoundAnswer</th>\n",
       "      <th>StackOverflowCopiedCode</th>\n",
       "      <th>StackOverflowJobListing</th>\n",
       "      <th>StackOverflowCompanyPage</th>\n",
       "      <th>StackOverflowJobSearch</th>\n",
       "      <th>StackOverflowNewQuestion</th>\n",
       "      <th>StackOverflowAnswer</th>\n",
       "      <th>StackOverflowMetaChat</th>\n",
       "      <th>StackOverflowAdsRelevant</th>\n",
       "      <th>StackOverflowAdsDistracting</th>\n",
       "      <th>StackOverflowModeration</th>\n",
       "      <th>StackOverflowCommunity</th>\n",
       "      <th>StackOverflowHelpful</th>\n",
       "      <th>StackOverflowBetter</th>\n",
       "      <th>StackOverflowWhatDo</th>\n",
       "      <th>StackOverflowMakeMoney</th>\n",
       "      <th>Gender</th>\n",
       "      <th>HighestEducationParents</th>\n",
       "      <th>Race</th>\n",
       "      <th>SurveyLong</th>\n",
       "      <th>QuestionsInteresting</th>\n",
       "      <th>QuestionsConfusing</th>\n",
       "      <th>InterestedAnswers</th>\n",
       "      <th>Salary</th>\n",
       "      <th>ExpectedSalary</th>\n",
       "    </tr>\n",
       "  </thead>\n",
       "  <tbody>\n",
       "    <tr>\n",
       "      <th>0</th>\n",
       "      <td>1.0</td>\n",
       "      <td>Student</td>\n",
       "      <td>Yes, both</td>\n",
       "      <td>United States</td>\n",
       "      <td>No</td>\n",
       "      <td>Not employed, and not looking for work</td>\n",
       "      <td>Secondary school</td>\n",
       "      <td>NaN</td>\n",
       "      <td>NaN</td>\n",
       "      <td>NaN</td>\n",
       "      <td>NaN</td>\n",
       "      <td>2 to 3 years</td>\n",
       "      <td>NaN</td>\n",
       "      <td>NaN</td>\n",
       "      <td>NaN</td>\n",
       "      <td>NaN</td>\n",
       "      <td>NaN</td>\n",
       "      <td>NaN</td>\n",
       "      <td>NaN</td>\n",
       "      <td>NaN</td>\n",
       "      <td>NaN</td>\n",
       "      <td>NaN</td>\n",
       "      <td>NaN</td>\n",
       "      <td>NaN</td>\n",
       "      <td>NaN</td>\n",
       "      <td>NaN</td>\n",
       "      <td>NaN</td>\n",
       "      <td>NaN</td>\n",
       "      <td>With a soft \"g,\" like \"jiff\"</td>\n",
       "      <td>Strongly agree</td>\n",
       "      <td>Strongly agree</td>\n",
       "      <td>Agree</td>\n",
       "      <td>Disagree</td>\n",
       "      <td>Strongly agree</td>\n",
       "      <td>Agree</td>\n",
       "      <td>Agree</td>\n",
       "      <td>Disagree</td>\n",
       "      <td>Somewhat agree</td>\n",
       "      <td>Disagree</td>\n",
       "      <td>Strongly agree</td>\n",
       "      <td>Strongly agree</td>\n",
       "      <td>Strongly disagree</td>\n",
       "      <td>Agree</td>\n",
       "      <td>Agree</td>\n",
       "      <td>Disagree</td>\n",
       "      <td>Agree</td>\n",
       "      <td>I'm not actively looking, but I am open to new...</td>\n",
       "      <td>0.0</td>\n",
       "      <td>Not applicable/ never</td>\n",
       "      <td>Very important</td>\n",
       "      <td>Very important</td>\n",
       "      <td>Important</td>\n",
       "      <td>Very important</td>\n",
       "      <td>Very important</td>\n",
       "      <td>Very important</td>\n",
       "      <td>Important</td>\n",
       "      <td>Very important</td>\n",
       "      <td>Very important</td>\n",
       "      <td>Very important</td>\n",
       "      <td>Very important</td>\n",
       "      <td>Very important</td>\n",
       "      <td>Somewhat important</td>\n",
       "      <td>Not very important</td>\n",
       "      <td>Somewhat important</td>\n",
       "      <td>Stock options; Vacation/days off; Remote options</td>\n",
       "      <td>Yes</td>\n",
       "      <td>Other</td>\n",
       "      <td>NaN</td>\n",
       "      <td>NaN</td>\n",
       "      <td>Important</td>\n",
       "      <td>Important</td>\n",
       "      <td>Important</td>\n",
       "      <td>Somewhat important</td>\n",
       "      <td>Important</td>\n",
       "      <td>Not very important</td>\n",
       "      <td>Not very important</td>\n",
       "      <td>Not at all important</td>\n",
       "      <td>Somewhat important</td>\n",
       "      <td>Very important</td>\n",
       "      <td>NaN</td>\n",
       "      <td>NaN</td>\n",
       "      <td>Tabs</td>\n",
       "      <td>NaN</td>\n",
       "      <td>Online course; Open source contributions</td>\n",
       "      <td>NaN</td>\n",
       "      <td>NaN</td>\n",
       "      <td>NaN</td>\n",
       "      <td>6:00 AM</td>\n",
       "      <td>Swift</td>\n",
       "      <td>Swift</td>\n",
       "      <td>NaN</td>\n",
       "      <td>NaN</td>\n",
       "      <td>NaN</td>\n",
       "      <td>NaN</td>\n",
       "      <td>iOS</td>\n",
       "      <td>iOS</td>\n",
       "      <td>Atom; Xcode</td>\n",
       "      <td>Turn on some music</td>\n",
       "      <td>NaN</td>\n",
       "      <td>NaN</td>\n",
       "      <td>NaN</td>\n",
       "      <td>NaN</td>\n",
       "      <td>NaN</td>\n",
       "      <td>NaN</td>\n",
       "      <td>NaN</td>\n",
       "      <td>NaN</td>\n",
       "      <td>NaN</td>\n",
       "      <td>NaN</td>\n",
       "      <td>NaN</td>\n",
       "      <td>Somewhat satisfied</td>\n",
       "      <td>Not very satisfied</td>\n",
       "      <td>Not at all satisfied</td>\n",
       "      <td>Very satisfied</td>\n",
       "      <td>Satisfied</td>\n",
       "      <td>Not very satisfied</td>\n",
       "      <td>NaN</td>\n",
       "      <td>NaN</td>\n",
       "      <td>NaN</td>\n",
       "      <td>NaN</td>\n",
       "      <td>NaN</td>\n",
       "      <td>NaN</td>\n",
       "      <td>NaN</td>\n",
       "      <td>NaN</td>\n",
       "      <td>NaN</td>\n",
       "      <td>NaN</td>\n",
       "      <td>NaN</td>\n",
       "      <td>I have created a CV or Developer Story on Stac...</td>\n",
       "      <td>9.0</td>\n",
       "      <td>Desktop; iOS app</td>\n",
       "      <td>At least once each week</td>\n",
       "      <td>Haven't done at all</td>\n",
       "      <td>Once or twice</td>\n",
       "      <td>Haven't done at all</td>\n",
       "      <td>Haven't done at all</td>\n",
       "      <td>Several times</td>\n",
       "      <td>Several times</td>\n",
       "      <td>Once or twice</td>\n",
       "      <td>Somewhat agree</td>\n",
       "      <td>Strongly disagree</td>\n",
       "      <td>Strongly disagree</td>\n",
       "      <td>Strongly agree</td>\n",
       "      <td>Agree</td>\n",
       "      <td>Strongly agree</td>\n",
       "      <td>Strongly agree</td>\n",
       "      <td>Strongly disagree</td>\n",
       "      <td>Male</td>\n",
       "      <td>High school</td>\n",
       "      <td>White or of European descent</td>\n",
       "      <td>Strongly disagree</td>\n",
       "      <td>Strongly agree</td>\n",
       "      <td>Disagree</td>\n",
       "      <td>Strongly agree</td>\n",
       "      <td>NaN</td>\n",
       "      <td>NaN</td>\n",
       "    </tr>\n",
       "    <tr>\n",
       "      <th>1</th>\n",
       "      <td>2.0</td>\n",
       "      <td>Student</td>\n",
       "      <td>Yes, both</td>\n",
       "      <td>United Kingdom</td>\n",
       "      <td>Yes, full-time</td>\n",
       "      <td>Employed part-time</td>\n",
       "      <td>Some college/university study without earning ...</td>\n",
       "      <td>Computer science or software engineering</td>\n",
       "      <td>More than half, but not all, the time</td>\n",
       "      <td>20 to 99 employees</td>\n",
       "      <td>Privately-held limited company, not in startup...</td>\n",
       "      <td>9 to 10 years</td>\n",
       "      <td>NaN</td>\n",
       "      <td>NaN</td>\n",
       "      <td>NaN</td>\n",
       "      <td>NaN</td>\n",
       "      <td>NaN</td>\n",
       "      <td>NaN</td>\n",
       "      <td>NaN</td>\n",
       "      <td>NaN</td>\n",
       "      <td>NaN</td>\n",
       "      <td>NaN</td>\n",
       "      <td>NaN</td>\n",
       "      <td>NaN</td>\n",
       "      <td>NaN</td>\n",
       "      <td>NaN</td>\n",
       "      <td>NaN</td>\n",
       "      <td>NaN</td>\n",
       "      <td>With a hard \"g,\" like \"gift\"</td>\n",
       "      <td>NaN</td>\n",
       "      <td>NaN</td>\n",
       "      <td>NaN</td>\n",
       "      <td>NaN</td>\n",
       "      <td>NaN</td>\n",
       "      <td>NaN</td>\n",
       "      <td>NaN</td>\n",
       "      <td>NaN</td>\n",
       "      <td>NaN</td>\n",
       "      <td>NaN</td>\n",
       "      <td>NaN</td>\n",
       "      <td>NaN</td>\n",
       "      <td>NaN</td>\n",
       "      <td>NaN</td>\n",
       "      <td>NaN</td>\n",
       "      <td>NaN</td>\n",
       "      <td>NaN</td>\n",
       "      <td>NaN</td>\n",
       "      <td>NaN</td>\n",
       "      <td>NaN</td>\n",
       "      <td>NaN</td>\n",
       "      <td>NaN</td>\n",
       "      <td>NaN</td>\n",
       "      <td>NaN</td>\n",
       "      <td>NaN</td>\n",
       "      <td>NaN</td>\n",
       "      <td>NaN</td>\n",
       "      <td>NaN</td>\n",
       "      <td>NaN</td>\n",
       "      <td>NaN</td>\n",
       "      <td>NaN</td>\n",
       "      <td>NaN</td>\n",
       "      <td>NaN</td>\n",
       "      <td>NaN</td>\n",
       "      <td>NaN</td>\n",
       "      <td>NaN</td>\n",
       "      <td>No</td>\n",
       "      <td>Other</td>\n",
       "      <td>NaN</td>\n",
       "      <td>Some other way</td>\n",
       "      <td>Important</td>\n",
       "      <td>Important</td>\n",
       "      <td>Important</td>\n",
       "      <td>Important</td>\n",
       "      <td>Somewhat important</td>\n",
       "      <td>Somewhat important</td>\n",
       "      <td>Not very important</td>\n",
       "      <td>Somewhat important</td>\n",
       "      <td>Not very important</td>\n",
       "      <td>Very important</td>\n",
       "      <td>British pounds sterling (£)</td>\n",
       "      <td>NaN</td>\n",
       "      <td>Spaces</td>\n",
       "      <td>NaN</td>\n",
       "      <td>Online course; Self-taught; Hackathon; Open so...</td>\n",
       "      <td>Official documentation; Stack Overflow Q&amp;A; Other</td>\n",
       "      <td>NaN</td>\n",
       "      <td>NaN</td>\n",
       "      <td>10:00 AM</td>\n",
       "      <td>JavaScript; Python; Ruby; SQL</td>\n",
       "      <td>Java; Python; Ruby; SQL</td>\n",
       "      <td>.NET Core</td>\n",
       "      <td>.NET Core</td>\n",
       "      <td>MySQL; SQLite</td>\n",
       "      <td>MySQL; SQLite</td>\n",
       "      <td>Amazon Web Services (AWS)</td>\n",
       "      <td>Linux Desktop; Raspberry Pi; Amazon Web Servic...</td>\n",
       "      <td>Atom; Notepad++; Vim; PyCharm; RubyMine; Visua...</td>\n",
       "      <td>Put on some ambient sounds (e.g. whale songs, ...</td>\n",
       "      <td>NaN</td>\n",
       "      <td>Git</td>\n",
       "      <td>Multiple times a day</td>\n",
       "      <td>Agree</td>\n",
       "      <td>Disagree</td>\n",
       "      <td>Strongly disagree</td>\n",
       "      <td>Agree</td>\n",
       "      <td>Somewhat agree</td>\n",
       "      <td>Disagree</td>\n",
       "      <td>Strongly disagree</td>\n",
       "      <td>Customer satisfaction; On time/in budget; Peer...</td>\n",
       "      <td>Not very satisfied</td>\n",
       "      <td>Satisfied</td>\n",
       "      <td>Satisfied</td>\n",
       "      <td>Satisfied</td>\n",
       "      <td>Somewhat satisfied</td>\n",
       "      <td>Satisfied</td>\n",
       "      <td>No influence at all</td>\n",
       "      <td>No influence at all</td>\n",
       "      <td>No influence at all</td>\n",
       "      <td>No influence at all</td>\n",
       "      <td>No influence at all</td>\n",
       "      <td>No influence at all</td>\n",
       "      <td>No influence at all</td>\n",
       "      <td>No influence at all</td>\n",
       "      <td>No influence at all</td>\n",
       "      <td>No influence at all</td>\n",
       "      <td>No influence at all</td>\n",
       "      <td>I have created a CV or Developer Story on Stac...</td>\n",
       "      <td>8.0</td>\n",
       "      <td>Desktop; iOS browser; iOS app; Android browser...</td>\n",
       "      <td>Several times</td>\n",
       "      <td>Several times</td>\n",
       "      <td>Once or twice</td>\n",
       "      <td>Once or twice</td>\n",
       "      <td>Once or twice</td>\n",
       "      <td>Haven't done at all</td>\n",
       "      <td>Several times</td>\n",
       "      <td>At least once each week</td>\n",
       "      <td>Disagree</td>\n",
       "      <td>Strongly disagree</td>\n",
       "      <td>Strongly disagree</td>\n",
       "      <td>Strongly agree</td>\n",
       "      <td>Agree</td>\n",
       "      <td>Strongly agree</td>\n",
       "      <td>Strongly agree</td>\n",
       "      <td>Strongly disagree</td>\n",
       "      <td>Male</td>\n",
       "      <td>A master's degree</td>\n",
       "      <td>White or of European descent</td>\n",
       "      <td>Somewhat agree</td>\n",
       "      <td>Somewhat agree</td>\n",
       "      <td>Disagree</td>\n",
       "      <td>Strongly agree</td>\n",
       "      <td>NaN</td>\n",
       "      <td>37500.0</td>\n",
       "    </tr>\n",
       "    <tr>\n",
       "      <th>2</th>\n",
       "      <td>3.0</td>\n",
       "      <td>Professional developer</td>\n",
       "      <td>Yes, both</td>\n",
       "      <td>United Kingdom</td>\n",
       "      <td>No</td>\n",
       "      <td>Employed full-time</td>\n",
       "      <td>Bachelor's degree</td>\n",
       "      <td>Computer science or software engineering</td>\n",
       "      <td>Less than half the time, but at least one day ...</td>\n",
       "      <td>10,000 or more employees</td>\n",
       "      <td>Publicly-traded corporation</td>\n",
       "      <td>20 or more years</td>\n",
       "      <td>20 or more years</td>\n",
       "      <td>NaN</td>\n",
       "      <td>Other</td>\n",
       "      <td>NaN</td>\n",
       "      <td>NaN</td>\n",
       "      <td>NaN</td>\n",
       "      <td>8.0</td>\n",
       "      <td>9.0</td>\n",
       "      <td>NaN</td>\n",
       "      <td>NaN</td>\n",
       "      <td>NaN</td>\n",
       "      <td>NaN</td>\n",
       "      <td>NaN</td>\n",
       "      <td>NaN</td>\n",
       "      <td>NaN</td>\n",
       "      <td>NaN</td>\n",
       "      <td>With a hard \"g,\" like \"gift\"</td>\n",
       "      <td>Strongly agree</td>\n",
       "      <td>Strongly agree</td>\n",
       "      <td>Strongly agree</td>\n",
       "      <td>Somewhat agree</td>\n",
       "      <td>Agree</td>\n",
       "      <td>Strongly agree</td>\n",
       "      <td>Agree</td>\n",
       "      <td>Somewhat agree</td>\n",
       "      <td>Disagree</td>\n",
       "      <td>Disagree</td>\n",
       "      <td>Agree</td>\n",
       "      <td>Somewhat agree</td>\n",
       "      <td>Disagree</td>\n",
       "      <td>Somewhat agree</td>\n",
       "      <td>Agree</td>\n",
       "      <td>Disagree</td>\n",
       "      <td>Agree</td>\n",
       "      <td>NaN</td>\n",
       "      <td>NaN</td>\n",
       "      <td>NaN</td>\n",
       "      <td>NaN</td>\n",
       "      <td>NaN</td>\n",
       "      <td>NaN</td>\n",
       "      <td>NaN</td>\n",
       "      <td>NaN</td>\n",
       "      <td>NaN</td>\n",
       "      <td>NaN</td>\n",
       "      <td>NaN</td>\n",
       "      <td>NaN</td>\n",
       "      <td>NaN</td>\n",
       "      <td>NaN</td>\n",
       "      <td>NaN</td>\n",
       "      <td>NaN</td>\n",
       "      <td>NaN</td>\n",
       "      <td>NaN</td>\n",
       "      <td>NaN</td>\n",
       "      <td>Yes</td>\n",
       "      <td>NaN</td>\n",
       "      <td>NaN</td>\n",
       "      <td>NaN</td>\n",
       "      <td>NaN</td>\n",
       "      <td>NaN</td>\n",
       "      <td>NaN</td>\n",
       "      <td>NaN</td>\n",
       "      <td>NaN</td>\n",
       "      <td>NaN</td>\n",
       "      <td>NaN</td>\n",
       "      <td>NaN</td>\n",
       "      <td>NaN</td>\n",
       "      <td>NaN</td>\n",
       "      <td>British pounds sterling (£)</td>\n",
       "      <td>Neither underpaid nor overpaid</td>\n",
       "      <td>Spaces</td>\n",
       "      <td>Not very important</td>\n",
       "      <td>Self-taught; Coding competition; Hackathon; Op...</td>\n",
       "      <td>Official documentation; Trade book; Textbook; ...</td>\n",
       "      <td>NaN</td>\n",
       "      <td>NaN</td>\n",
       "      <td>9:00 AM</td>\n",
       "      <td>Java; PHP; Python</td>\n",
       "      <td>C; Python; Rust</td>\n",
       "      <td>NaN</td>\n",
       "      <td>NaN</td>\n",
       "      <td>MySQL</td>\n",
       "      <td>NaN</td>\n",
       "      <td>NaN</td>\n",
       "      <td>NaN</td>\n",
       "      <td>Sublime Text; Vim; IntelliJ</td>\n",
       "      <td>Turn on some music</td>\n",
       "      <td>Agile; Lean; Scrum; Extreme; Pair; Kanban</td>\n",
       "      <td>Mercurial</td>\n",
       "      <td>Multiple times a day</td>\n",
       "      <td>Agree</td>\n",
       "      <td>Disagree</td>\n",
       "      <td>Disagree</td>\n",
       "      <td>Agree</td>\n",
       "      <td>Agree</td>\n",
       "      <td>Disagree</td>\n",
       "      <td>Somewhat agree</td>\n",
       "      <td>Customer satisfaction; Benchmarked product per...</td>\n",
       "      <td>Very satisfied</td>\n",
       "      <td>Somewhat satisfied</td>\n",
       "      <td>Satisfied</td>\n",
       "      <td>Satisfied</td>\n",
       "      <td>Somewhat satisfied</td>\n",
       "      <td>Very satisfied</td>\n",
       "      <td>A lot of influence</td>\n",
       "      <td>Some influence</td>\n",
       "      <td>Some influence</td>\n",
       "      <td>Some influence</td>\n",
       "      <td>A lot of influence</td>\n",
       "      <td>Some influence</td>\n",
       "      <td>Some influence</td>\n",
       "      <td>Some influence</td>\n",
       "      <td>Some influence</td>\n",
       "      <td>Some influence</td>\n",
       "      <td>Some influence</td>\n",
       "      <td>I have created a CV or Developer Story on Stac...</td>\n",
       "      <td>8.0</td>\n",
       "      <td>Desktop; iOS browser; iOS app</td>\n",
       "      <td>Once or twice</td>\n",
       "      <td>Haven't done at all</td>\n",
       "      <td>Haven't done at all</td>\n",
       "      <td>Haven't done at all</td>\n",
       "      <td>Haven't done at all</td>\n",
       "      <td>Haven't done at all</td>\n",
       "      <td>At least once each day</td>\n",
       "      <td>At least once each day</td>\n",
       "      <td>Disagree</td>\n",
       "      <td>Disagree</td>\n",
       "      <td>Strongly disagree</td>\n",
       "      <td>Strongly agree</td>\n",
       "      <td>Agree</td>\n",
       "      <td>Agree</td>\n",
       "      <td>Agree</td>\n",
       "      <td>Disagree</td>\n",
       "      <td>Male</td>\n",
       "      <td>A professional degree</td>\n",
       "      <td>White or of European descent</td>\n",
       "      <td>Somewhat agree</td>\n",
       "      <td>Agree</td>\n",
       "      <td>Disagree</td>\n",
       "      <td>Agree</td>\n",
       "      <td>113750.0</td>\n",
       "      <td>NaN</td>\n",
       "    </tr>\n",
       "  </tbody>\n",
       "</table>\n",
       "</div>"
      ],
      "text/plain": [
       "   Respondent            Professional ProgramHobby         Country  \\\n",
       "0         1.0                 Student    Yes, both   United States   \n",
       "1         2.0                 Student    Yes, both  United Kingdom   \n",
       "2         3.0  Professional developer    Yes, both  United Kingdom   \n",
       "\n",
       "       University                        EmploymentStatus  \\\n",
       "0              No  Not employed, and not looking for work   \n",
       "1  Yes, full-time                      Employed part-time   \n",
       "2              No                      Employed full-time   \n",
       "\n",
       "                                     FormalEducation  \\\n",
       "0                                   Secondary school   \n",
       "1  Some college/university study without earning ...   \n",
       "2                                  Bachelor's degree   \n",
       "\n",
       "                             MajorUndergrad  \\\n",
       "0                                       NaN   \n",
       "1  Computer science or software engineering   \n",
       "2  Computer science or software engineering   \n",
       "\n",
       "                                          HomeRemote  \\\n",
       "0                                                NaN   \n",
       "1              More than half, but not all, the time   \n",
       "2  Less than half the time, but at least one day ...   \n",
       "\n",
       "                CompanySize  \\\n",
       "0                       NaN   \n",
       "1        20 to 99 employees   \n",
       "2  10,000 or more employees   \n",
       "\n",
       "                                         CompanyType      YearsProgram  \\\n",
       "0                                                NaN      2 to 3 years   \n",
       "1  Privately-held limited company, not in startup...     9 to 10 years   \n",
       "2                        Publicly-traded corporation  20 or more years   \n",
       "\n",
       "      YearsCodedJob YearsCodedJobPast DeveloperType WebDeveloperType  \\\n",
       "0               NaN               NaN           NaN              NaN   \n",
       "1               NaN               NaN           NaN              NaN   \n",
       "2  20 or more years               NaN         Other              NaN   \n",
       "\n",
       "  MobileDeveloperType NonDeveloperType  CareerSatisfaction  JobSatisfaction  \\\n",
       "0                 NaN              NaN                 NaN              NaN   \n",
       "1                 NaN              NaN                 NaN              NaN   \n",
       "2                 NaN              NaN                 8.0              9.0   \n",
       "\n",
       "  ExCoderReturn ExCoderNotForMe ExCoderBalance ExCoder10Years ExCoderBelonged  \\\n",
       "0           NaN             NaN            NaN            NaN             NaN   \n",
       "1           NaN             NaN            NaN            NaN             NaN   \n",
       "2           NaN             NaN            NaN            NaN             NaN   \n",
       "\n",
       "  ExCoderSkills ExCoderWillNotCode ExCoderActive  \\\n",
       "0           NaN                NaN           NaN   \n",
       "1           NaN                NaN           NaN   \n",
       "2           NaN                NaN           NaN   \n",
       "\n",
       "                   PronounceGIF  ProblemSolving  BuildingThings  \\\n",
       "0  With a soft \"g,\" like \"jiff\"  Strongly agree  Strongly agree   \n",
       "1  With a hard \"g,\" like \"gift\"             NaN             NaN   \n",
       "2  With a hard \"g,\" like \"gift\"  Strongly agree  Strongly agree   \n",
       "\n",
       "  LearningNewTech   BoringDetails     JobSecurity DiversityImportant  \\\n",
       "0           Agree        Disagree  Strongly agree              Agree   \n",
       "1             NaN             NaN             NaN                NaN   \n",
       "2  Strongly agree  Somewhat agree           Agree     Strongly agree   \n",
       "\n",
       "  AnnoyingUI FriendsDevelopers   RightWrongWay UnderstandComputers  \\\n",
       "0      Agree          Disagree  Somewhat agree            Disagree   \n",
       "1        NaN               NaN             NaN                 NaN   \n",
       "2      Agree    Somewhat agree        Disagree            Disagree   \n",
       "\n",
       "      SeriousWork InvestTimeTools        WorkPayCare KinshipDevelopers  \\\n",
       "0  Strongly agree  Strongly agree  Strongly disagree             Agree   \n",
       "1             NaN             NaN                NaN               NaN   \n",
       "2           Agree  Somewhat agree           Disagree    Somewhat agree   \n",
       "\n",
       "  ChallengeMyself CompetePeers ChangeWorld  \\\n",
       "0           Agree     Disagree       Agree   \n",
       "1             NaN          NaN         NaN   \n",
       "2           Agree     Disagree       Agree   \n",
       "\n",
       "                                    JobSeekingStatus  HoursPerWeek  \\\n",
       "0  I'm not actively looking, but I am open to new...           0.0   \n",
       "1                                                NaN           NaN   \n",
       "2                                                NaN           NaN   \n",
       "\n",
       "              LastNewJob AssessJobIndustry   AssessJobRole AssessJobExp  \\\n",
       "0  Not applicable/ never    Very important  Very important    Important   \n",
       "1                    NaN               NaN             NaN          NaN   \n",
       "2                    NaN               NaN             NaN          NaN   \n",
       "\n",
       "    AssessJobDept   AssessJobTech AssessJobProjects AssessJobCompensation  \\\n",
       "0  Very important  Very important    Very important             Important   \n",
       "1             NaN             NaN               NaN                   NaN   \n",
       "2             NaN             NaN               NaN                   NaN   \n",
       "\n",
       "  AssessJobOffice AssessJobCommute AssessJobRemote AssessJobLeaders  \\\n",
       "0  Very important   Very important  Very important   Very important   \n",
       "1             NaN              NaN             NaN              NaN   \n",
       "2             NaN              NaN             NaN              NaN   \n",
       "\n",
       "  AssessJobProfDevel  AssessJobDiversity    AssessJobProduct  \\\n",
       "0     Very important  Somewhat important  Not very important   \n",
       "1                NaN                 NaN                 NaN   \n",
       "2                NaN                 NaN                 NaN   \n",
       "\n",
       "    AssessJobFinances                                 ImportantBenefits  \\\n",
       "0  Somewhat important  Stock options; Vacation/days off; Remote options   \n",
       "1                 NaN                                               NaN   \n",
       "2                 NaN                                               NaN   \n",
       "\n",
       "  ClickyKeys JobProfile ResumePrompted   LearnedHiring  \\\n",
       "0        Yes      Other            NaN             NaN   \n",
       "1         No      Other            NaN  Some other way   \n",
       "2        Yes        NaN            NaN             NaN   \n",
       "\n",
       "  ImportantHiringAlgorithms ImportantHiringTechExp  \\\n",
       "0                 Important              Important   \n",
       "1                 Important              Important   \n",
       "2                       NaN                    NaN   \n",
       "\n",
       "  ImportantHiringCommunication ImportantHiringOpenSource ImportantHiringPMExp  \\\n",
       "0                    Important        Somewhat important            Important   \n",
       "1                    Important                 Important   Somewhat important   \n",
       "2                          NaN                       NaN                  NaN   \n",
       "\n",
       "  ImportantHiringCompanies ImportantHiringTitles ImportantHiringEducation  \\\n",
       "0       Not very important    Not very important     Not at all important   \n",
       "1       Somewhat important    Not very important       Somewhat important   \n",
       "2                      NaN                   NaN                      NaN   \n",
       "\n",
       "   ImportantHiringRep ImportantHiringGettingThingsDone  \\\n",
       "0  Somewhat important                   Very important   \n",
       "1  Not very important                   Very important   \n",
       "2                 NaN                              NaN   \n",
       "\n",
       "                      Currency                        Overpaid TabsSpaces  \\\n",
       "0                          NaN                             NaN       Tabs   \n",
       "1  British pounds sterling (£)                             NaN     Spaces   \n",
       "2  British pounds sterling (£)  Neither underpaid nor overpaid     Spaces   \n",
       "\n",
       "   EducationImportant                                     EducationTypes  \\\n",
       "0                 NaN           Online course; Open source contributions   \n",
       "1                 NaN  Online course; Self-taught; Hackathon; Open so...   \n",
       "2  Not very important  Self-taught; Coding competition; Hackathon; Op...   \n",
       "\n",
       "                                     SelfTaughtTypes TimeAfterBootcamp  \\\n",
       "0                                                NaN               NaN   \n",
       "1  Official documentation; Stack Overflow Q&A; Other               NaN   \n",
       "2  Official documentation; Trade book; Textbook; ...               NaN   \n",
       "\n",
       "  CousinEducation WorkStart             HaveWorkedLanguage  \\\n",
       "0             NaN   6:00 AM                          Swift   \n",
       "1             NaN  10:00 AM  JavaScript; Python; Ruby; SQL   \n",
       "2             NaN   9:00 AM              Java; PHP; Python   \n",
       "\n",
       "          WantWorkLanguage HaveWorkedFramework WantWorkFramework  \\\n",
       "0                    Swift                 NaN               NaN   \n",
       "1  Java; Python; Ruby; SQL           .NET Core         .NET Core   \n",
       "2          C; Python; Rust                 NaN               NaN   \n",
       "\n",
       "  HaveWorkedDatabase WantWorkDatabase         HaveWorkedPlatform  \\\n",
       "0                NaN              NaN                        iOS   \n",
       "1      MySQL; SQLite    MySQL; SQLite  Amazon Web Services (AWS)   \n",
       "2              MySQL              NaN                        NaN   \n",
       "\n",
       "                                    WantWorkPlatform  \\\n",
       "0                                                iOS   \n",
       "1  Linux Desktop; Raspberry Pi; Amazon Web Servic...   \n",
       "2                                                NaN   \n",
       "\n",
       "                                                 IDE  \\\n",
       "0                                        Atom; Xcode   \n",
       "1  Atom; Notepad++; Vim; PyCharm; RubyMine; Visua...   \n",
       "2                        Sublime Text; Vim; IntelliJ   \n",
       "\n",
       "                                 AuditoryEnvironment  \\\n",
       "0                                 Turn on some music   \n",
       "1  Put on some ambient sounds (e.g. whale songs, ...   \n",
       "2                                 Turn on some music   \n",
       "\n",
       "                                 Methodology VersionControl  \\\n",
       "0                                        NaN            NaN   \n",
       "1                                        NaN            Git   \n",
       "2  Agile; Lean; Scrum; Extreme; Pair; Kanban      Mercurial   \n",
       "\n",
       "            CheckInCode ShipIt OtherPeoplesCode  ProjectManagement  \\\n",
       "0                   NaN    NaN              NaN                NaN   \n",
       "1  Multiple times a day  Agree         Disagree  Strongly disagree   \n",
       "2  Multiple times a day  Agree         Disagree           Disagree   \n",
       "\n",
       "  EnjoyDebugging       InTheZone DifficultCommunication  CollaborateRemote  \\\n",
       "0            NaN             NaN                    NaN                NaN   \n",
       "1          Agree  Somewhat agree               Disagree  Strongly disagree   \n",
       "2          Agree           Agree               Disagree     Somewhat agree   \n",
       "\n",
       "                                        MetricAssess  \\\n",
       "0                                                NaN   \n",
       "1  Customer satisfaction; On time/in budget; Peer...   \n",
       "2  Customer satisfaction; Benchmarked product per...   \n",
       "\n",
       "  EquipmentSatisfiedMonitors EquipmentSatisfiedCPU EquipmentSatisfiedRAM  \\\n",
       "0         Somewhat satisfied    Not very satisfied  Not at all satisfied   \n",
       "1         Not very satisfied             Satisfied             Satisfied   \n",
       "2             Very satisfied    Somewhat satisfied             Satisfied   \n",
       "\n",
       "  EquipmentSatisfiedStorage EquipmentSatisfiedRW   InfluenceInternet  \\\n",
       "0            Very satisfied            Satisfied  Not very satisfied   \n",
       "1                 Satisfied   Somewhat satisfied           Satisfied   \n",
       "2                 Satisfied   Somewhat satisfied      Very satisfied   \n",
       "\n",
       "  InfluenceWorkstation    InfluenceHardware     InfluenceServers  \\\n",
       "0                  NaN                  NaN                  NaN   \n",
       "1  No influence at all  No influence at all  No influence at all   \n",
       "2   A lot of influence       Some influence       Some influence   \n",
       "\n",
       "    InfluenceTechStack    InfluenceDeptTech    InfluenceVizTools  \\\n",
       "0                  NaN                  NaN                  NaN   \n",
       "1  No influence at all  No influence at all  No influence at all   \n",
       "2       Some influence   A lot of influence       Some influence   \n",
       "\n",
       "     InfluenceDatabase       InfluenceCloud InfluenceConsultants  \\\n",
       "0                  NaN                  NaN                  NaN   \n",
       "1  No influence at all  No influence at all  No influence at all   \n",
       "2       Some influence       Some influence       Some influence   \n",
       "\n",
       "  InfluenceRecruitment InfluenceCommunication  \\\n",
       "0                  NaN                    NaN   \n",
       "1  No influence at all    No influence at all   \n",
       "2       Some influence         Some influence   \n",
       "\n",
       "                              StackOverflowDescribes  \\\n",
       "0  I have created a CV or Developer Story on Stac...   \n",
       "1  I have created a CV or Developer Story on Stac...   \n",
       "2  I have created a CV or Developer Story on Stac...   \n",
       "\n",
       "   StackOverflowSatisfaction  \\\n",
       "0                        9.0   \n",
       "1                        8.0   \n",
       "2                        8.0   \n",
       "\n",
       "                                StackOverflowDevices StackOverflowFoundAnswer  \\\n",
       "0                                   Desktop; iOS app  At least once each week   \n",
       "1  Desktop; iOS browser; iOS app; Android browser...            Several times   \n",
       "2                      Desktop; iOS browser; iOS app            Once or twice   \n",
       "\n",
       "  StackOverflowCopiedCode StackOverflowJobListing StackOverflowCompanyPage  \\\n",
       "0     Haven't done at all           Once or twice      Haven't done at all   \n",
       "1           Several times           Once or twice            Once or twice   \n",
       "2     Haven't done at all     Haven't done at all      Haven't done at all   \n",
       "\n",
       "  StackOverflowJobSearch StackOverflowNewQuestion     StackOverflowAnswer  \\\n",
       "0    Haven't done at all            Several times           Several times   \n",
       "1          Once or twice      Haven't done at all           Several times   \n",
       "2    Haven't done at all      Haven't done at all  At least once each day   \n",
       "\n",
       "     StackOverflowMetaChat StackOverflowAdsRelevant  \\\n",
       "0            Once or twice           Somewhat agree   \n",
       "1  At least once each week                 Disagree   \n",
       "2   At least once each day                 Disagree   \n",
       "\n",
       "  StackOverflowAdsDistracting StackOverflowModeration StackOverflowCommunity  \\\n",
       "0           Strongly disagree       Strongly disagree         Strongly agree   \n",
       "1           Strongly disagree       Strongly disagree         Strongly agree   \n",
       "2                    Disagree       Strongly disagree         Strongly agree   \n",
       "\n",
       "  StackOverflowHelpful StackOverflowBetter StackOverflowWhatDo  \\\n",
       "0                Agree      Strongly agree      Strongly agree   \n",
       "1                Agree      Strongly agree      Strongly agree   \n",
       "2                Agree               Agree               Agree   \n",
       "\n",
       "  StackOverflowMakeMoney Gender HighestEducationParents  \\\n",
       "0      Strongly disagree   Male             High school   \n",
       "1      Strongly disagree   Male       A master's degree   \n",
       "2               Disagree   Male   A professional degree   \n",
       "\n",
       "                           Race         SurveyLong QuestionsInteresting  \\\n",
       "0  White or of European descent  Strongly disagree       Strongly agree   \n",
       "1  White or of European descent     Somewhat agree       Somewhat agree   \n",
       "2  White or of European descent     Somewhat agree                Agree   \n",
       "\n",
       "  QuestionsConfusing InterestedAnswers    Salary  ExpectedSalary  \n",
       "0           Disagree    Strongly agree       NaN             NaN  \n",
       "1           Disagree    Strongly agree       NaN         37500.0  \n",
       "2           Disagree             Agree  113750.0             NaN  "
      ]
     },
     "execution_count": 16,
     "metadata": {},
     "output_type": "execute_result"
    }
   ],
   "source": [
    "df_2017.head(3)"
   ]
  },
  {
   "cell_type": "code",
   "execution_count": 17,
   "metadata": {
    "collapsed": false
   },
   "outputs": [
    {
     "data": {
      "text/html": [
       "<div>\n",
       "<style>\n",
       "    .dataframe thead tr:only-child th {\n",
       "        text-align: right;\n",
       "    }\n",
       "\n",
       "    .dataframe thead th {\n",
       "        text-align: left;\n",
       "    }\n",
       "\n",
       "    .dataframe tbody tr th {\n",
       "        vertical-align: top;\n",
       "    }\n",
       "</style>\n",
       "<table border=\"1\" class=\"dataframe\">\n",
       "  <thead>\n",
       "    <tr style=\"text-align: right;\">\n",
       "      <th></th>\n",
       "      <th>Respondent</th>\n",
       "      <th>Hobby</th>\n",
       "      <th>OpenSource</th>\n",
       "      <th>Country</th>\n",
       "      <th>Student</th>\n",
       "      <th>Employment</th>\n",
       "      <th>FormalEducation</th>\n",
       "      <th>UndergradMajor</th>\n",
       "      <th>CompanySize</th>\n",
       "      <th>DevType</th>\n",
       "      <th>YearsCoding</th>\n",
       "      <th>YearsCodingProf</th>\n",
       "      <th>JobSatisfaction</th>\n",
       "      <th>CareerSatisfaction</th>\n",
       "      <th>HopeFiveYears</th>\n",
       "      <th>JobSearchStatus</th>\n",
       "      <th>LastNewJob</th>\n",
       "      <th>AssessJob1</th>\n",
       "      <th>AssessJob2</th>\n",
       "      <th>AssessJob3</th>\n",
       "      <th>AssessJob4</th>\n",
       "      <th>AssessJob5</th>\n",
       "      <th>AssessJob6</th>\n",
       "      <th>AssessJob7</th>\n",
       "      <th>AssessJob8</th>\n",
       "      <th>AssessJob9</th>\n",
       "      <th>AssessJob10</th>\n",
       "      <th>AssessBenefits1</th>\n",
       "      <th>AssessBenefits2</th>\n",
       "      <th>AssessBenefits3</th>\n",
       "      <th>AssessBenefits4</th>\n",
       "      <th>AssessBenefits5</th>\n",
       "      <th>AssessBenefits6</th>\n",
       "      <th>AssessBenefits7</th>\n",
       "      <th>AssessBenefits8</th>\n",
       "      <th>AssessBenefits9</th>\n",
       "      <th>AssessBenefits10</th>\n",
       "      <th>AssessBenefits11</th>\n",
       "      <th>JobContactPriorities1</th>\n",
       "      <th>JobContactPriorities2</th>\n",
       "      <th>JobContactPriorities3</th>\n",
       "      <th>JobContactPriorities4</th>\n",
       "      <th>JobContactPriorities5</th>\n",
       "      <th>JobEmailPriorities1</th>\n",
       "      <th>JobEmailPriorities2</th>\n",
       "      <th>JobEmailPriorities3</th>\n",
       "      <th>JobEmailPriorities4</th>\n",
       "      <th>JobEmailPriorities5</th>\n",
       "      <th>JobEmailPriorities6</th>\n",
       "      <th>JobEmailPriorities7</th>\n",
       "      <th>UpdateCV</th>\n",
       "      <th>Currency</th>\n",
       "      <th>Salary</th>\n",
       "      <th>SalaryType</th>\n",
       "      <th>ConvertedSalary</th>\n",
       "      <th>CurrencySymbol</th>\n",
       "      <th>CommunicationTools</th>\n",
       "      <th>TimeFullyProductive</th>\n",
       "      <th>EducationTypes</th>\n",
       "      <th>SelfTaughtTypes</th>\n",
       "      <th>TimeAfterBootcamp</th>\n",
       "      <th>HackathonReasons</th>\n",
       "      <th>AgreeDisagree1</th>\n",
       "      <th>AgreeDisagree2</th>\n",
       "      <th>AgreeDisagree3</th>\n",
       "      <th>LanguageWorkedWith</th>\n",
       "      <th>LanguageDesireNextYear</th>\n",
       "      <th>DatabaseWorkedWith</th>\n",
       "      <th>DatabaseDesireNextYear</th>\n",
       "      <th>PlatformWorkedWith</th>\n",
       "      <th>PlatformDesireNextYear</th>\n",
       "      <th>FrameworkWorkedWith</th>\n",
       "      <th>FrameworkDesireNextYear</th>\n",
       "      <th>IDE</th>\n",
       "      <th>OperatingSystem</th>\n",
       "      <th>NumberMonitors</th>\n",
       "      <th>Methodology</th>\n",
       "      <th>VersionControl</th>\n",
       "      <th>CheckInCode</th>\n",
       "      <th>AdBlocker</th>\n",
       "      <th>AdBlockerDisable</th>\n",
       "      <th>AdBlockerReasons</th>\n",
       "      <th>AdsAgreeDisagree1</th>\n",
       "      <th>AdsAgreeDisagree2</th>\n",
       "      <th>AdsAgreeDisagree3</th>\n",
       "      <th>AdsActions</th>\n",
       "      <th>AdsPriorities1</th>\n",
       "      <th>AdsPriorities2</th>\n",
       "      <th>AdsPriorities3</th>\n",
       "      <th>AdsPriorities4</th>\n",
       "      <th>AdsPriorities5</th>\n",
       "      <th>AdsPriorities6</th>\n",
       "      <th>AdsPriorities7</th>\n",
       "      <th>AIDangerous</th>\n",
       "      <th>AIInteresting</th>\n",
       "      <th>AIResponsible</th>\n",
       "      <th>AIFuture</th>\n",
       "      <th>EthicsChoice</th>\n",
       "      <th>EthicsReport</th>\n",
       "      <th>EthicsResponsible</th>\n",
       "      <th>EthicalImplications</th>\n",
       "      <th>StackOverflowRecommend</th>\n",
       "      <th>StackOverflowVisit</th>\n",
       "      <th>StackOverflowHasAccount</th>\n",
       "      <th>StackOverflowParticipate</th>\n",
       "      <th>StackOverflowJobs</th>\n",
       "      <th>StackOverflowDevStory</th>\n",
       "      <th>StackOverflowJobsRecommend</th>\n",
       "      <th>StackOverflowConsiderMember</th>\n",
       "      <th>HypotheticalTools1</th>\n",
       "      <th>HypotheticalTools2</th>\n",
       "      <th>HypotheticalTools3</th>\n",
       "      <th>HypotheticalTools4</th>\n",
       "      <th>HypotheticalTools5</th>\n",
       "      <th>WakeTime</th>\n",
       "      <th>HoursComputer</th>\n",
       "      <th>HoursOutside</th>\n",
       "      <th>SkipMeals</th>\n",
       "      <th>ErgonomicDevices</th>\n",
       "      <th>Exercise</th>\n",
       "      <th>Gender</th>\n",
       "      <th>SexualOrientation</th>\n",
       "      <th>EducationParents</th>\n",
       "      <th>RaceEthnicity</th>\n",
       "      <th>Age</th>\n",
       "      <th>Dependents</th>\n",
       "      <th>MilitaryUS</th>\n",
       "      <th>SurveyTooLong</th>\n",
       "      <th>SurveyEasy</th>\n",
       "    </tr>\n",
       "  </thead>\n",
       "  <tbody>\n",
       "    <tr>\n",
       "      <th>0</th>\n",
       "      <td>1.0</td>\n",
       "      <td>Yes</td>\n",
       "      <td>No</td>\n",
       "      <td>Kenya</td>\n",
       "      <td>No</td>\n",
       "      <td>Employed part-time</td>\n",
       "      <td>Bachelor’s degree (BA, BS, B.Eng., etc.)</td>\n",
       "      <td>Mathematics or statistics</td>\n",
       "      <td>20 to 99 employees</td>\n",
       "      <td>Full-stack developer</td>\n",
       "      <td>3-5 years</td>\n",
       "      <td>3-5 years</td>\n",
       "      <td>Extremely satisfied</td>\n",
       "      <td>Extremely satisfied</td>\n",
       "      <td>Working as a founder or co-founder of my own c...</td>\n",
       "      <td>I’m not actively looking, but I am open to new...</td>\n",
       "      <td>Less than a year ago</td>\n",
       "      <td>10.0</td>\n",
       "      <td>7.0</td>\n",
       "      <td>8.0</td>\n",
       "      <td>1.0</td>\n",
       "      <td>2.0</td>\n",
       "      <td>5.0</td>\n",
       "      <td>3.0</td>\n",
       "      <td>4.0</td>\n",
       "      <td>9.0</td>\n",
       "      <td>6.0</td>\n",
       "      <td>NaN</td>\n",
       "      <td>NaN</td>\n",
       "      <td>NaN</td>\n",
       "      <td>NaN</td>\n",
       "      <td>NaN</td>\n",
       "      <td>NaN</td>\n",
       "      <td>NaN</td>\n",
       "      <td>NaN</td>\n",
       "      <td>NaN</td>\n",
       "      <td>NaN</td>\n",
       "      <td>NaN</td>\n",
       "      <td>3.0</td>\n",
       "      <td>1.0</td>\n",
       "      <td>4.0</td>\n",
       "      <td>2.0</td>\n",
       "      <td>5.0</td>\n",
       "      <td>5.0</td>\n",
       "      <td>6.0</td>\n",
       "      <td>7.0</td>\n",
       "      <td>2.0</td>\n",
       "      <td>1.0</td>\n",
       "      <td>4.0</td>\n",
       "      <td>3.0</td>\n",
       "      <td>My job status or other personal status changed</td>\n",
       "      <td>NaN</td>\n",
       "      <td>NaN</td>\n",
       "      <td>Monthly</td>\n",
       "      <td>NaN</td>\n",
       "      <td>KES</td>\n",
       "      <td>Slack</td>\n",
       "      <td>One to three months</td>\n",
       "      <td>Taught yourself a new language, framework, or ...</td>\n",
       "      <td>The official documentation and/or standards fo...</td>\n",
       "      <td>NaN</td>\n",
       "      <td>To build my professional network</td>\n",
       "      <td>Strongly agree</td>\n",
       "      <td>Strongly agree</td>\n",
       "      <td>Neither Agree nor Disagree</td>\n",
       "      <td>JavaScript;Python;HTML;CSS</td>\n",
       "      <td>JavaScript;Python;HTML;CSS</td>\n",
       "      <td>Redis;SQL Server;MySQL;PostgreSQL;Amazon RDS/A...</td>\n",
       "      <td>Redis;SQL Server;MySQL;PostgreSQL;Amazon RDS/A...</td>\n",
       "      <td>AWS;Azure;Linux;Firebase</td>\n",
       "      <td>AWS;Azure;Linux;Firebase</td>\n",
       "      <td>Django;React</td>\n",
       "      <td>Django;React</td>\n",
       "      <td>Komodo;Vim;Visual Studio Code</td>\n",
       "      <td>Linux-based</td>\n",
       "      <td>1</td>\n",
       "      <td>Agile;Scrum</td>\n",
       "      <td>Git</td>\n",
       "      <td>Multiple times per day</td>\n",
       "      <td>Yes</td>\n",
       "      <td>No</td>\n",
       "      <td>NaN</td>\n",
       "      <td>Strongly agree</td>\n",
       "      <td>Strongly agree</td>\n",
       "      <td>Strongly agree</td>\n",
       "      <td>Saw an online advertisement and then researche...</td>\n",
       "      <td>1.0</td>\n",
       "      <td>5.0</td>\n",
       "      <td>4.0</td>\n",
       "      <td>7.0</td>\n",
       "      <td>2.0</td>\n",
       "      <td>6.0</td>\n",
       "      <td>3.0</td>\n",
       "      <td>Artificial intelligence surpassing human intel...</td>\n",
       "      <td>Algorithms making important decisions</td>\n",
       "      <td>The developers or the people creating the AI</td>\n",
       "      <td>I'm excited about the possibilities more than ...</td>\n",
       "      <td>No</td>\n",
       "      <td>Yes, and publicly</td>\n",
       "      <td>Upper management at the company/organization</td>\n",
       "      <td>Yes</td>\n",
       "      <td>10 (Very Likely)</td>\n",
       "      <td>Multiple times per day</td>\n",
       "      <td>Yes</td>\n",
       "      <td>I have never participated in Q&amp;A on Stack Over...</td>\n",
       "      <td>No, I knew that Stack Overflow had a jobs boar...</td>\n",
       "      <td>Yes</td>\n",
       "      <td>NaN</td>\n",
       "      <td>Yes</td>\n",
       "      <td>Extremely interested</td>\n",
       "      <td>Extremely interested</td>\n",
       "      <td>Extremely interested</td>\n",
       "      <td>Extremely interested</td>\n",
       "      <td>Extremely interested</td>\n",
       "      <td>Between 5:00 - 6:00 AM</td>\n",
       "      <td>9 - 12 hours</td>\n",
       "      <td>1 - 2 hours</td>\n",
       "      <td>Never</td>\n",
       "      <td>Standing desk</td>\n",
       "      <td>3 - 4 times per week</td>\n",
       "      <td>Male</td>\n",
       "      <td>Straight or heterosexual</td>\n",
       "      <td>Bachelor’s degree (BA, BS, B.Eng., etc.)</td>\n",
       "      <td>Black or of African descent</td>\n",
       "      <td>25 - 34 years old</td>\n",
       "      <td>Yes</td>\n",
       "      <td>NaN</td>\n",
       "      <td>The survey was an appropriate length</td>\n",
       "      <td>Very easy</td>\n",
       "    </tr>\n",
       "    <tr>\n",
       "      <th>1</th>\n",
       "      <td>3.0</td>\n",
       "      <td>Yes</td>\n",
       "      <td>Yes</td>\n",
       "      <td>United Kingdom</td>\n",
       "      <td>No</td>\n",
       "      <td>Employed full-time</td>\n",
       "      <td>Bachelor’s degree (BA, BS, B.Eng., etc.)</td>\n",
       "      <td>A natural science (ex. biology, chemistry, phy...</td>\n",
       "      <td>10,000 or more employees</td>\n",
       "      <td>Database administrator;DevOps specialist;Full-...</td>\n",
       "      <td>30 or more years</td>\n",
       "      <td>18-20 years</td>\n",
       "      <td>Moderately dissatisfied</td>\n",
       "      <td>Neither satisfied nor dissatisfied</td>\n",
       "      <td>Working in a different or more specialized tec...</td>\n",
       "      <td>I am actively looking for a job</td>\n",
       "      <td>More than 4 years ago</td>\n",
       "      <td>1.0</td>\n",
       "      <td>7.0</td>\n",
       "      <td>10.0</td>\n",
       "      <td>8.0</td>\n",
       "      <td>2.0</td>\n",
       "      <td>5.0</td>\n",
       "      <td>4.0</td>\n",
       "      <td>3.0</td>\n",
       "      <td>6.0</td>\n",
       "      <td>9.0</td>\n",
       "      <td>1.0</td>\n",
       "      <td>5.0</td>\n",
       "      <td>3.0</td>\n",
       "      <td>7.0</td>\n",
       "      <td>10.0</td>\n",
       "      <td>4.0</td>\n",
       "      <td>11.0</td>\n",
       "      <td>9.0</td>\n",
       "      <td>6.0</td>\n",
       "      <td>2.0</td>\n",
       "      <td>8.0</td>\n",
       "      <td>3.0</td>\n",
       "      <td>1.0</td>\n",
       "      <td>5.0</td>\n",
       "      <td>2.0</td>\n",
       "      <td>4.0</td>\n",
       "      <td>1.0</td>\n",
       "      <td>3.0</td>\n",
       "      <td>4.0</td>\n",
       "      <td>5.0</td>\n",
       "      <td>2.0</td>\n",
       "      <td>6.0</td>\n",
       "      <td>7.0</td>\n",
       "      <td>I saw an employer’s advertisement</td>\n",
       "      <td>British pounds sterling (£)</td>\n",
       "      <td>51000</td>\n",
       "      <td>Yearly</td>\n",
       "      <td>70841.0</td>\n",
       "      <td>GBP</td>\n",
       "      <td>Confluence;Office / productivity suite (Micros...</td>\n",
       "      <td>One to three months</td>\n",
       "      <td>Taught yourself a new language, framework, or ...</td>\n",
       "      <td>The official documentation and/or standards fo...</td>\n",
       "      <td>NaN</td>\n",
       "      <td>NaN</td>\n",
       "      <td>Agree</td>\n",
       "      <td>Agree</td>\n",
       "      <td>Neither Agree nor Disagree</td>\n",
       "      <td>JavaScript;Python;Bash/Shell</td>\n",
       "      <td>Go;Python</td>\n",
       "      <td>Redis;PostgreSQL;Memcached</td>\n",
       "      <td>PostgreSQL</td>\n",
       "      <td>Linux</td>\n",
       "      <td>Linux</td>\n",
       "      <td>Django</td>\n",
       "      <td>React</td>\n",
       "      <td>IPython / Jupyter;Sublime Text;Vim</td>\n",
       "      <td>Linux-based</td>\n",
       "      <td>2</td>\n",
       "      <td>NaN</td>\n",
       "      <td>Git;Subversion</td>\n",
       "      <td>A few times per week</td>\n",
       "      <td>Yes</td>\n",
       "      <td>Yes</td>\n",
       "      <td>The website I was visiting asked me to disable it</td>\n",
       "      <td>Somewhat agree</td>\n",
       "      <td>Neither agree nor disagree</td>\n",
       "      <td>Neither agree nor disagree</td>\n",
       "      <td>NaN</td>\n",
       "      <td>3.0</td>\n",
       "      <td>5.0</td>\n",
       "      <td>1.0</td>\n",
       "      <td>4.0</td>\n",
       "      <td>6.0</td>\n",
       "      <td>7.0</td>\n",
       "      <td>2.0</td>\n",
       "      <td>Increasing automation of jobs</td>\n",
       "      <td>Increasing automation of jobs</td>\n",
       "      <td>The developers or the people creating the AI</td>\n",
       "      <td>I'm excited about the possibilities more than ...</td>\n",
       "      <td>Depends on what it is</td>\n",
       "      <td>Depends on what it is</td>\n",
       "      <td>Upper management at the company/organization</td>\n",
       "      <td>Yes</td>\n",
       "      <td>10 (Very Likely)</td>\n",
       "      <td>A few times per month or weekly</td>\n",
       "      <td>Yes</td>\n",
       "      <td>A few times per month or weekly</td>\n",
       "      <td>Yes</td>\n",
       "      <td>No, I have one but it's out of date</td>\n",
       "      <td>7</td>\n",
       "      <td>Yes</td>\n",
       "      <td>A little bit interested</td>\n",
       "      <td>A little bit interested</td>\n",
       "      <td>A little bit interested</td>\n",
       "      <td>A little bit interested</td>\n",
       "      <td>A little bit interested</td>\n",
       "      <td>Between 6:01 - 7:00 AM</td>\n",
       "      <td>5 - 8 hours</td>\n",
       "      <td>30 - 59 minutes</td>\n",
       "      <td>Never</td>\n",
       "      <td>Ergonomic keyboard or mouse</td>\n",
       "      <td>Daily or almost every day</td>\n",
       "      <td>Male</td>\n",
       "      <td>Straight or heterosexual</td>\n",
       "      <td>Bachelor’s degree (BA, BS, B.Eng., etc.)</td>\n",
       "      <td>White or of European descent</td>\n",
       "      <td>35 - 44 years old</td>\n",
       "      <td>Yes</td>\n",
       "      <td>NaN</td>\n",
       "      <td>The survey was an appropriate length</td>\n",
       "      <td>Somewhat easy</td>\n",
       "    </tr>\n",
       "    <tr>\n",
       "      <th>2</th>\n",
       "      <td>4.0</td>\n",
       "      <td>Yes</td>\n",
       "      <td>Yes</td>\n",
       "      <td>United States</td>\n",
       "      <td>No</td>\n",
       "      <td>Employed full-time</td>\n",
       "      <td>Associate degree</td>\n",
       "      <td>Computer science, computer engineering, or sof...</td>\n",
       "      <td>20 to 99 employees</td>\n",
       "      <td>Engineering manager;Full-stack developer</td>\n",
       "      <td>24-26 years</td>\n",
       "      <td>6-8 years</td>\n",
       "      <td>Moderately satisfied</td>\n",
       "      <td>Moderately satisfied</td>\n",
       "      <td>Working as a founder or co-founder of my own c...</td>\n",
       "      <td>I’m not actively looking, but I am open to new...</td>\n",
       "      <td>Less than a year ago</td>\n",
       "      <td>NaN</td>\n",
       "      <td>NaN</td>\n",
       "      <td>NaN</td>\n",
       "      <td>NaN</td>\n",
       "      <td>NaN</td>\n",
       "      <td>NaN</td>\n",
       "      <td>NaN</td>\n",
       "      <td>NaN</td>\n",
       "      <td>NaN</td>\n",
       "      <td>NaN</td>\n",
       "      <td>NaN</td>\n",
       "      <td>NaN</td>\n",
       "      <td>NaN</td>\n",
       "      <td>NaN</td>\n",
       "      <td>NaN</td>\n",
       "      <td>NaN</td>\n",
       "      <td>NaN</td>\n",
       "      <td>NaN</td>\n",
       "      <td>NaN</td>\n",
       "      <td>NaN</td>\n",
       "      <td>NaN</td>\n",
       "      <td>NaN</td>\n",
       "      <td>NaN</td>\n",
       "      <td>NaN</td>\n",
       "      <td>NaN</td>\n",
       "      <td>NaN</td>\n",
       "      <td>NaN</td>\n",
       "      <td>NaN</td>\n",
       "      <td>NaN</td>\n",
       "      <td>NaN</td>\n",
       "      <td>NaN</td>\n",
       "      <td>NaN</td>\n",
       "      <td>NaN</td>\n",
       "      <td>NaN</td>\n",
       "      <td>NaN</td>\n",
       "      <td>NaN</td>\n",
       "      <td>NaN</td>\n",
       "      <td>NaN</td>\n",
       "      <td>NaN</td>\n",
       "      <td>NaN</td>\n",
       "      <td>NaN</td>\n",
       "      <td>NaN</td>\n",
       "      <td>NaN</td>\n",
       "      <td>NaN</td>\n",
       "      <td>NaN</td>\n",
       "      <td>NaN</td>\n",
       "      <td>NaN</td>\n",
       "      <td>NaN</td>\n",
       "      <td>NaN</td>\n",
       "      <td>NaN</td>\n",
       "      <td>NaN</td>\n",
       "      <td>NaN</td>\n",
       "      <td>NaN</td>\n",
       "      <td>NaN</td>\n",
       "      <td>NaN</td>\n",
       "      <td>NaN</td>\n",
       "      <td>NaN</td>\n",
       "      <td>NaN</td>\n",
       "      <td>NaN</td>\n",
       "      <td>NaN</td>\n",
       "      <td>NaN</td>\n",
       "      <td>NaN</td>\n",
       "      <td>NaN</td>\n",
       "      <td>NaN</td>\n",
       "      <td>NaN</td>\n",
       "      <td>NaN</td>\n",
       "      <td>NaN</td>\n",
       "      <td>NaN</td>\n",
       "      <td>NaN</td>\n",
       "      <td>NaN</td>\n",
       "      <td>NaN</td>\n",
       "      <td>NaN</td>\n",
       "      <td>NaN</td>\n",
       "      <td>NaN</td>\n",
       "      <td>NaN</td>\n",
       "      <td>NaN</td>\n",
       "      <td>NaN</td>\n",
       "      <td>NaN</td>\n",
       "      <td>NaN</td>\n",
       "      <td>NaN</td>\n",
       "      <td>NaN</td>\n",
       "      <td>NaN</td>\n",
       "      <td>NaN</td>\n",
       "      <td>NaN</td>\n",
       "      <td>NaN</td>\n",
       "      <td>NaN</td>\n",
       "      <td>NaN</td>\n",
       "      <td>NaN</td>\n",
       "      <td>NaN</td>\n",
       "      <td>NaN</td>\n",
       "      <td>NaN</td>\n",
       "      <td>NaN</td>\n",
       "      <td>NaN</td>\n",
       "      <td>NaN</td>\n",
       "      <td>NaN</td>\n",
       "      <td>NaN</td>\n",
       "      <td>NaN</td>\n",
       "      <td>NaN</td>\n",
       "      <td>NaN</td>\n",
       "      <td>NaN</td>\n",
       "      <td>NaN</td>\n",
       "      <td>NaN</td>\n",
       "      <td>NaN</td>\n",
       "      <td>NaN</td>\n",
       "      <td>NaN</td>\n",
       "      <td>NaN</td>\n",
       "      <td>NaN</td>\n",
       "      <td>NaN</td>\n",
       "      <td>NaN</td>\n",
       "      <td>NaN</td>\n",
       "      <td>NaN</td>\n",
       "      <td>NaN</td>\n",
       "    </tr>\n",
       "  </tbody>\n",
       "</table>\n",
       "</div>"
      ],
      "text/plain": [
       "   Respondent Hobby OpenSource         Country Student          Employment  \\\n",
       "0         1.0   Yes         No           Kenya      No  Employed part-time   \n",
       "1         3.0   Yes        Yes  United Kingdom      No  Employed full-time   \n",
       "2         4.0   Yes        Yes   United States      No  Employed full-time   \n",
       "\n",
       "                            FormalEducation  \\\n",
       "0  Bachelor’s degree (BA, BS, B.Eng., etc.)   \n",
       "1  Bachelor’s degree (BA, BS, B.Eng., etc.)   \n",
       "2                          Associate degree   \n",
       "\n",
       "                                      UndergradMajor  \\\n",
       "0                          Mathematics or statistics   \n",
       "1  A natural science (ex. biology, chemistry, phy...   \n",
       "2  Computer science, computer engineering, or sof...   \n",
       "\n",
       "                CompanySize  \\\n",
       "0        20 to 99 employees   \n",
       "1  10,000 or more employees   \n",
       "2        20 to 99 employees   \n",
       "\n",
       "                                             DevType       YearsCoding  \\\n",
       "0                               Full-stack developer         3-5 years   \n",
       "1  Database administrator;DevOps specialist;Full-...  30 or more years   \n",
       "2           Engineering manager;Full-stack developer       24-26 years   \n",
       "\n",
       "  YearsCodingProf          JobSatisfaction  \\\n",
       "0       3-5 years      Extremely satisfied   \n",
       "1     18-20 years  Moderately dissatisfied   \n",
       "2       6-8 years     Moderately satisfied   \n",
       "\n",
       "                   CareerSatisfaction  \\\n",
       "0                 Extremely satisfied   \n",
       "1  Neither satisfied nor dissatisfied   \n",
       "2                Moderately satisfied   \n",
       "\n",
       "                                       HopeFiveYears  \\\n",
       "0  Working as a founder or co-founder of my own c...   \n",
       "1  Working in a different or more specialized tec...   \n",
       "2  Working as a founder or co-founder of my own c...   \n",
       "\n",
       "                                     JobSearchStatus             LastNewJob  \\\n",
       "0  I’m not actively looking, but I am open to new...   Less than a year ago   \n",
       "1                    I am actively looking for a job  More than 4 years ago   \n",
       "2  I’m not actively looking, but I am open to new...   Less than a year ago   \n",
       "\n",
       "   AssessJob1  AssessJob2  AssessJob3  AssessJob4  AssessJob5  AssessJob6  \\\n",
       "0        10.0         7.0         8.0         1.0         2.0         5.0   \n",
       "1         1.0         7.0        10.0         8.0         2.0         5.0   \n",
       "2         NaN         NaN         NaN         NaN         NaN         NaN   \n",
       "\n",
       "   AssessJob7  AssessJob8  AssessJob9  AssessJob10  AssessBenefits1  \\\n",
       "0         3.0         4.0         9.0          6.0              NaN   \n",
       "1         4.0         3.0         6.0          9.0              1.0   \n",
       "2         NaN         NaN         NaN          NaN              NaN   \n",
       "\n",
       "   AssessBenefits2  AssessBenefits3  AssessBenefits4  AssessBenefits5  \\\n",
       "0              NaN              NaN              NaN              NaN   \n",
       "1              5.0              3.0              7.0             10.0   \n",
       "2              NaN              NaN              NaN              NaN   \n",
       "\n",
       "   AssessBenefits6  AssessBenefits7  AssessBenefits8  AssessBenefits9  \\\n",
       "0              NaN              NaN              NaN              NaN   \n",
       "1              4.0             11.0              9.0              6.0   \n",
       "2              NaN              NaN              NaN              NaN   \n",
       "\n",
       "   AssessBenefits10  AssessBenefits11  JobContactPriorities1  \\\n",
       "0               NaN               NaN                    3.0   \n",
       "1               2.0               8.0                    3.0   \n",
       "2               NaN               NaN                    NaN   \n",
       "\n",
       "   JobContactPriorities2  JobContactPriorities3  JobContactPriorities4  \\\n",
       "0                    1.0                    4.0                    2.0   \n",
       "1                    1.0                    5.0                    2.0   \n",
       "2                    NaN                    NaN                    NaN   \n",
       "\n",
       "   JobContactPriorities5  JobEmailPriorities1  JobEmailPriorities2  \\\n",
       "0                    5.0                  5.0                  6.0   \n",
       "1                    4.0                  1.0                  3.0   \n",
       "2                    NaN                  NaN                  NaN   \n",
       "\n",
       "   JobEmailPriorities3  JobEmailPriorities4  JobEmailPriorities5  \\\n",
       "0                  7.0                  2.0                  1.0   \n",
       "1                  4.0                  5.0                  2.0   \n",
       "2                  NaN                  NaN                  NaN   \n",
       "\n",
       "   JobEmailPriorities6  JobEmailPriorities7  \\\n",
       "0                  4.0                  3.0   \n",
       "1                  6.0                  7.0   \n",
       "2                  NaN                  NaN   \n",
       "\n",
       "                                         UpdateCV  \\\n",
       "0  My job status or other personal status changed   \n",
       "1               I saw an employer’s advertisement   \n",
       "2                                             NaN   \n",
       "\n",
       "                      Currency Salary SalaryType  ConvertedSalary  \\\n",
       "0                          NaN    NaN    Monthly              NaN   \n",
       "1  British pounds sterling (£)  51000     Yearly          70841.0   \n",
       "2                          NaN    NaN        NaN              NaN   \n",
       "\n",
       "  CurrencySymbol                                 CommunicationTools  \\\n",
       "0            KES                                              Slack   \n",
       "1            GBP  Confluence;Office / productivity suite (Micros...   \n",
       "2            NaN                                                NaN   \n",
       "\n",
       "   TimeFullyProductive                                     EducationTypes  \\\n",
       "0  One to three months  Taught yourself a new language, framework, or ...   \n",
       "1  One to three months  Taught yourself a new language, framework, or ...   \n",
       "2                  NaN                                                NaN   \n",
       "\n",
       "                                     SelfTaughtTypes TimeAfterBootcamp  \\\n",
       "0  The official documentation and/or standards fo...               NaN   \n",
       "1  The official documentation and/or standards fo...               NaN   \n",
       "2                                                NaN               NaN   \n",
       "\n",
       "                   HackathonReasons  AgreeDisagree1  AgreeDisagree2  \\\n",
       "0  To build my professional network  Strongly agree  Strongly agree   \n",
       "1                               NaN           Agree           Agree   \n",
       "2                               NaN             NaN             NaN   \n",
       "\n",
       "               AgreeDisagree3            LanguageWorkedWith  \\\n",
       "0  Neither Agree nor Disagree    JavaScript;Python;HTML;CSS   \n",
       "1  Neither Agree nor Disagree  JavaScript;Python;Bash/Shell   \n",
       "2                         NaN                           NaN   \n",
       "\n",
       "       LanguageDesireNextYear  \\\n",
       "0  JavaScript;Python;HTML;CSS   \n",
       "1                   Go;Python   \n",
       "2                         NaN   \n",
       "\n",
       "                                  DatabaseWorkedWith  \\\n",
       "0  Redis;SQL Server;MySQL;PostgreSQL;Amazon RDS/A...   \n",
       "1                         Redis;PostgreSQL;Memcached   \n",
       "2                                                NaN   \n",
       "\n",
       "                              DatabaseDesireNextYear  \\\n",
       "0  Redis;SQL Server;MySQL;PostgreSQL;Amazon RDS/A...   \n",
       "1                                         PostgreSQL   \n",
       "2                                                NaN   \n",
       "\n",
       "         PlatformWorkedWith    PlatformDesireNextYear FrameworkWorkedWith  \\\n",
       "0  AWS;Azure;Linux;Firebase  AWS;Azure;Linux;Firebase        Django;React   \n",
       "1                     Linux                     Linux              Django   \n",
       "2                       NaN                       NaN                 NaN   \n",
       "\n",
       "  FrameworkDesireNextYear                                 IDE OperatingSystem  \\\n",
       "0            Django;React       Komodo;Vim;Visual Studio Code     Linux-based   \n",
       "1                   React  IPython / Jupyter;Sublime Text;Vim     Linux-based   \n",
       "2                     NaN                                 NaN             NaN   \n",
       "\n",
       "  NumberMonitors  Methodology  VersionControl             CheckInCode  \\\n",
       "0              1  Agile;Scrum             Git  Multiple times per day   \n",
       "1              2          NaN  Git;Subversion    A few times per week   \n",
       "2            NaN          NaN             NaN                     NaN   \n",
       "\n",
       "  AdBlocker AdBlockerDisable  \\\n",
       "0       Yes               No   \n",
       "1       Yes              Yes   \n",
       "2       NaN              NaN   \n",
       "\n",
       "                                    AdBlockerReasons AdsAgreeDisagree1  \\\n",
       "0                                                NaN    Strongly agree   \n",
       "1  The website I was visiting asked me to disable it    Somewhat agree   \n",
       "2                                                NaN               NaN   \n",
       "\n",
       "            AdsAgreeDisagree2           AdsAgreeDisagree3  \\\n",
       "0              Strongly agree              Strongly agree   \n",
       "1  Neither agree nor disagree  Neither agree nor disagree   \n",
       "2                         NaN                         NaN   \n",
       "\n",
       "                                          AdsActions  AdsPriorities1  \\\n",
       "0  Saw an online advertisement and then researche...             1.0   \n",
       "1                                                NaN             3.0   \n",
       "2                                                NaN             NaN   \n",
       "\n",
       "   AdsPriorities2  AdsPriorities3  AdsPriorities4  AdsPriorities5  \\\n",
       "0             5.0             4.0             7.0             2.0   \n",
       "1             5.0             1.0             4.0             6.0   \n",
       "2             NaN             NaN             NaN             NaN   \n",
       "\n",
       "   AdsPriorities6  AdsPriorities7  \\\n",
       "0             6.0             3.0   \n",
       "1             7.0             2.0   \n",
       "2             NaN             NaN   \n",
       "\n",
       "                                         AIDangerous  \\\n",
       "0  Artificial intelligence surpassing human intel...   \n",
       "1                      Increasing automation of jobs   \n",
       "2                                                NaN   \n",
       "\n",
       "                           AIInteresting  \\\n",
       "0  Algorithms making important decisions   \n",
       "1          Increasing automation of jobs   \n",
       "2                                    NaN   \n",
       "\n",
       "                                  AIResponsible  \\\n",
       "0  The developers or the people creating the AI   \n",
       "1  The developers or the people creating the AI   \n",
       "2                                           NaN   \n",
       "\n",
       "                                            AIFuture           EthicsChoice  \\\n",
       "0  I'm excited about the possibilities more than ...                     No   \n",
       "1  I'm excited about the possibilities more than ...  Depends on what it is   \n",
       "2                                                NaN                    NaN   \n",
       "\n",
       "            EthicsReport                             EthicsResponsible  \\\n",
       "0      Yes, and publicly  Upper management at the company/organization   \n",
       "1  Depends on what it is  Upper management at the company/organization   \n",
       "2                    NaN                                           NaN   \n",
       "\n",
       "  EthicalImplications StackOverflowRecommend               StackOverflowVisit  \\\n",
       "0                 Yes       10 (Very Likely)           Multiple times per day   \n",
       "1                 Yes       10 (Very Likely)  A few times per month or weekly   \n",
       "2                 NaN                    NaN                              NaN   \n",
       "\n",
       "  StackOverflowHasAccount                           StackOverflowParticipate  \\\n",
       "0                     Yes  I have never participated in Q&A on Stack Over...   \n",
       "1                     Yes                    A few times per month or weekly   \n",
       "2                     NaN                                                NaN   \n",
       "\n",
       "                                   StackOverflowJobs  \\\n",
       "0  No, I knew that Stack Overflow had a jobs boar...   \n",
       "1                                                Yes   \n",
       "2                                                NaN   \n",
       "\n",
       "                 StackOverflowDevStory StackOverflowJobsRecommend  \\\n",
       "0                                  Yes                        NaN   \n",
       "1  No, I have one but it's out of date                          7   \n",
       "2                                  NaN                        NaN   \n",
       "\n",
       "  StackOverflowConsiderMember       HypotheticalTools1  \\\n",
       "0                         Yes     Extremely interested   \n",
       "1                         Yes  A little bit interested   \n",
       "2                         NaN                      NaN   \n",
       "\n",
       "        HypotheticalTools2       HypotheticalTools3       HypotheticalTools4  \\\n",
       "0     Extremely interested     Extremely interested     Extremely interested   \n",
       "1  A little bit interested  A little bit interested  A little bit interested   \n",
       "2                      NaN                      NaN                      NaN   \n",
       "\n",
       "        HypotheticalTools5                WakeTime HoursComputer  \\\n",
       "0     Extremely interested  Between 5:00 - 6:00 AM  9 - 12 hours   \n",
       "1  A little bit interested  Between 6:01 - 7:00 AM   5 - 8 hours   \n",
       "2                      NaN                     NaN           NaN   \n",
       "\n",
       "      HoursOutside SkipMeals             ErgonomicDevices  \\\n",
       "0      1 - 2 hours     Never                Standing desk   \n",
       "1  30 - 59 minutes     Never  Ergonomic keyboard or mouse   \n",
       "2              NaN       NaN                          NaN   \n",
       "\n",
       "                    Exercise Gender         SexualOrientation  \\\n",
       "0       3 - 4 times per week   Male  Straight or heterosexual   \n",
       "1  Daily or almost every day   Male  Straight or heterosexual   \n",
       "2                        NaN    NaN                       NaN   \n",
       "\n",
       "                           EducationParents                 RaceEthnicity  \\\n",
       "0  Bachelor’s degree (BA, BS, B.Eng., etc.)   Black or of African descent   \n",
       "1  Bachelor’s degree (BA, BS, B.Eng., etc.)  White or of European descent   \n",
       "2                                       NaN                           NaN   \n",
       "\n",
       "                 Age Dependents MilitaryUS  \\\n",
       "0  25 - 34 years old        Yes        NaN   \n",
       "1  35 - 44 years old        Yes        NaN   \n",
       "2                NaN        NaN        NaN   \n",
       "\n",
       "                          SurveyTooLong     SurveyEasy  \n",
       "0  The survey was an appropriate length      Very easy  \n",
       "1  The survey was an appropriate length  Somewhat easy  \n",
       "2                                   NaN            NaN  "
      ]
     },
     "execution_count": 17,
     "metadata": {},
     "output_type": "execute_result"
    }
   ],
   "source": [
    "df_2018.head(3)"
   ]
  },
  {
   "cell_type": "code",
   "execution_count": 18,
   "metadata": {
    "collapsed": false
   },
   "outputs": [
    {
     "name": "stdout",
     "output_type": "stream",
     "text": [
      "Number of common columns: 17 \n",
      "\n",
      "{'CheckInCode', 'Salary', 'CompanySize', 'Gender', 'VersionControl', 'SelfTaughtTypes', 'Respondent', 'FormalEducation', 'Currency', 'TimeAfterBootcamp', 'Methodology', 'CareerSatisfaction', 'LastNewJob', 'JobSatisfaction', 'EducationTypes', 'IDE', 'Country'}\n"
     ]
    }
   ],
   "source": [
    "print('Number of common columns: {} \\n'.format(len(set(df_2017.columns).intersection(set(df_2018)))))\n",
    "print(set(df_2017.columns).intersection(set(df_2018)))"
   ]
  },
  {
   "cell_type": "markdown",
   "metadata": {},
   "source": [
    "### 2.4 - Identifying and Renaming Columns\n",
    "From the documentation, I identified 49 columns in common between 2017 and 2018, including the 17 identified above.  I isolate each column and rename them to so both years have the same column names."
   ]
  },
  {
   "cell_type": "code",
   "execution_count": 19,
   "metadata": {
    "collapsed": false
   },
   "outputs": [],
   "source": [
    "# Identifying columns\n",
    "df_2017_keep = df_2017[['Respondent', 'ProgramHobby', 'Country', 'University', 'EmploymentStatus', 'FormalEducation', \n",
    "                        'MajorUndergrad', 'CompanySize', 'YearsProgram', 'YearsCodedJob', 'DeveloperType', 'CareerSatisfaction',\n",
    "                       'JobSatisfaction', 'KinshipDevelopers', 'CompetePeers', 'LastNewJob', 'AssessJobIndustry', 'AssessJobDept',\n",
    "                       'AssessJobTech', 'AssessJobCompensation', 'AssessJobOffice', 'AssessJobRemote', 'AssessJobProfDevel',\n",
    "                       'AssessJobDiversity', 'AssessJobProduct', 'AssessJobFinances', 'ResumePrompted', 'Currency', \n",
    "                       'EducationTypes', 'SelfTaughtTypes', 'TimeAfterBootcamp', 'HaveWorkedLanguage', 'WantWorkLanguage',\n",
    "                       'HaveWorkedFramework','WantWorkFramework', 'HaveWorkedDatabase', 'WantWorkDatabase', 'HaveWorkedPlatform',\n",
    "                       'WantWorkPlatform', 'IDE', 'Methodology', 'VersionControl', 'CheckInCode', 'StackOverflowJobListing',\n",
    "                       'Gender', 'HighestEducationParents', 'Race', 'SurveyLong', 'Salary']]"
   ]
  },
  {
   "cell_type": "code",
   "execution_count": 20,
   "metadata": {
    "collapsed": false
   },
   "outputs": [],
   "source": [
    "df_2018_keep = df_2018[['Respondent', 'Hobby', 'Country', 'Student', 'Employment', 'FormalEducation', 'UndergradMajor', \n",
    "                       'CompanySize', 'DevType', 'YearsCoding', 'YearsCodingProf', 'JobSatisfaction', 'CareerSatisfaction',\n",
    "                       'LastNewJob', 'AssessJob1', 'AssessJob2', 'AssessJob3', 'AssessJob4', 'AssessJob5', 'AssessJob6',\n",
    "                        'AssessJob7', 'AssessJob8', 'AssessJob9', 'AssessJob10', 'UpdateCV', 'Currency', 'ConvertedSalary',\n",
    "                       'EducationTypes', 'SelfTaughtTypes', 'TimeAfterBootcamp', 'AgreeDisagree1', 'AgreeDisagree2',\n",
    "                       'LanguageWorkedWith', 'LanguageDesireNextYear', 'DatabaseWorkedWith', 'DatabaseDesireNextYear', \n",
    "                       'PlatformWorkedWith', 'PlatformDesireNextYear', 'FrameworkWorkedWith', 'FrameworkDesireNextYear',\n",
    "                        'IDE', 'Methodology', 'VersionControl', 'CheckInCode', 'StackOverflowJobs', 'Gender', \n",
    "                        'EducationParents', 'RaceEthnicity', 'SurveyTooLong']]"
   ]
  },
  {
   "cell_type": "code",
   "execution_count": 21,
   "metadata": {
    "collapsed": false
   },
   "outputs": [
    {
     "name": "stderr",
     "output_type": "stream",
     "text": [
      "C:\\Users\\Crystal\\AppData\\Local\\Continuum\\Anaconda3\\lib\\site-packages\\pandas\\core\\frame.py:2746: SettingWithCopyWarning: \n",
      "A value is trying to be set on a copy of a slice from a DataFrame\n",
      "\n",
      "See the caveats in the documentation: http://pandas.pydata.org/pandas-docs/stable/indexing.html#indexing-view-versus-copy\n",
      "  **kwargs)\n"
     ]
    }
   ],
   "source": [
    "# Renaming columns\n",
    "df_2017_keep.rename(columns = {'Respondent': 'ID', 'ProgramHobby': 'Hobby', 'University': 'Student', 'EmploymentStatus': 'Employment',\n",
    "                               'FormalEducation': 'Education', 'MajorUndergrad': 'UndergradMajor', 'YearsProgram': 'YearsCoding',\n",
    "                              'YearsCodedJob': 'YearsCodingProf', 'DeveloperType': 'DevType', 'ResumePrompted': 'UpdateCV', \n",
    "                              'HaveWorkedLanguage': 'LanguageWorkedWith', 'WantWorkLanguage': 'LanguageDesireNextYear',\n",
    "                              'HaveWorkedFramework': 'FrameworkWorkedWith', 'WantWorkFramework': 'FrameworkDesireNextYear',\n",
    "                              'HaveWorkedDatabase': 'DatabaseWorkedWith', 'WantWorkDatabase': 'DatabaseDesireNextYear',\n",
    "                              'HaveWorkedPlatform': 'PlatformWorkedWith', 'WantWorkPlatform': 'PlatformDesireNextYear', \n",
    "                              'StackOverflowJobListing': \"StackOverflowJobs\", 'HighestEducationParents': 'EducationParents'},\n",
    "                   inplace = True)"
   ]
  },
  {
   "cell_type": "code",
   "execution_count": 22,
   "metadata": {
    "collapsed": false
   },
   "outputs": [
    {
     "name": "stderr",
     "output_type": "stream",
     "text": [
      "C:\\Users\\Crystal\\AppData\\Local\\Continuum\\Anaconda3\\lib\\site-packages\\pandas\\core\\frame.py:2746: SettingWithCopyWarning: \n",
      "A value is trying to be set on a copy of a slice from a DataFrame\n",
      "\n",
      "See the caveats in the documentation: http://pandas.pydata.org/pandas-docs/stable/indexing.html#indexing-view-versus-copy\n",
      "  **kwargs)\n"
     ]
    }
   ],
   "source": [
    "df_2018_keep.rename(columns = {'Respondent': 'ID', 'FormalEducation': 'Education', 'AssessJob1': 'AssessJobIndustry',\n",
    "                               'AssessJob2': 'AssessJobFinances', 'AssessJob3': 'AssessJobDept', 'AssessJob4': 'AssessJobTech',\n",
    "                               'AssessJob5': 'AssessJobCompensation', 'AssessJob6': 'AssessJobOffice', \n",
    "                               'AssessJob7': 'AssessJobRemote', 'AssessJob8': 'AssessJobProfDevel', 'AssessJob9': 'AssessJobDiversity',\n",
    "                               'AssessJob10': 'AssessJobProduct', 'AgreeDisagree1': 'KinshipDevelopers', 'AgreeDisagree2': 'CompetePeers',\n",
    "                              'RaceEthnicity': 'Race', 'SurveyTooLong': 'SurveyLong', 'ConvertedSalary': 'Salary'},\n",
    "                   inplace = True)"
   ]
  },
  {
   "cell_type": "markdown",
   "metadata": {},
   "source": [
    "### 2.5 - Save to Feather\n",
    "At this point, I would like to save my condensed raw data so I have something to go back to before I start manipulating things."
   ]
  },
  {
   "cell_type": "code",
   "execution_count": 25,
   "metadata": {
    "collapsed": false
   },
   "outputs": [],
   "source": [
    "import os\n",
    "os.makedirs('tmp', exist_ok=True)\n",
    "df_2017_keep.to_feather('tmp/df_2017_1keep')\n",
    "df_2018_keep.to_feather('tmp/df_2018_1keep')"
   ]
  },
  {
   "cell_type": "markdown",
   "metadata": {},
   "source": [
    "# 3 - Processing Each Column\n",
    "This is the last, but arguably the most important part of this post."
   ]
  },
  {
   "cell_type": "markdown",
   "metadata": {},
   "source": [
    "### 3.1 - Missing Data\n",
    "Some respondents didn't fill out too much of the survey.  For example, one person filled out the hobby section, and left the rest blank.  Such answers are going to be useless for analysis, so I will drop all the rows htat have more than 50% of the answers blank.  This results in ~30% reduction of rows."
   ]
  },
  {
   "cell_type": "code",
   "execution_count": 26,
   "metadata": {
    "collapsed": false
   },
   "outputs": [
    {
     "name": "stderr",
     "output_type": "stream",
     "text": [
      "C:\\Users\\Crystal\\AppData\\Local\\Continuum\\Anaconda3\\lib\\site-packages\\ipykernel\\__main__.py:1: SettingWithCopyWarning: \n",
      "A value is trying to be set on a copy of a slice from a DataFrame\n",
      "\n",
      "See the caveats in the documentation: http://pandas.pydata.org/pandas-docs/stable/indexing.html#indexing-view-versus-copy\n",
      "  if __name__ == '__main__':\n",
      "C:\\Users\\Crystal\\AppData\\Local\\Continuum\\Anaconda3\\lib\\site-packages\\ipykernel\\__main__.py:2: SettingWithCopyWarning: \n",
      "A value is trying to be set on a copy of a slice from a DataFrame\n",
      "\n",
      "See the caveats in the documentation: http://pandas.pydata.org/pandas-docs/stable/indexing.html#indexing-view-versus-copy\n",
      "  from ipykernel import kernelapp as app\n"
     ]
    }
   ],
   "source": [
    "df_2017_keep.dropna(thresh=len(df_2017_keep.columns)/2, inplace=True)\n",
    "df_2018_keep.dropna(thresh=len(df_2018_keep.columns)/2, inplace=True)"
   ]
  },
  {
   "cell_type": "markdown",
   "metadata": {},
   "source": [
    "### 3.2 - Salary\n",
    "Since the main goal is to predict salary, any rows without a salary or currency is removed.  This results in removing about 66% and 35% of the rows in 2017 and 2018 respectively.  I haven't found in the documentation whether the salaries are already converted to US dollars in 2017, but working with the data, it seems like they are converted.  In the 2018 documentation, it clearly states salaries have been converted.\n",
    "\n",
    "Since I want to know how much of each column is missing, I've written a function, getMissingPercent(), which takes a string of the column name and returns what percent of the column is missing for each year.  "
   ]
  },
  {
   "cell_type": "code",
   "execution_count": 27,
   "metadata": {
    "collapsed": false
   },
   "outputs": [],
   "source": [
    "def getMissingPercent(col):\n",
    "    print('{} - percent missing in 2017: {}%'.format(col, df_2017_keep[col].isnull().sum()/len(df_2017_keep)*100))\n",
    "    print('{} - percent missing in 2018: {}%'.format(col, df_2018_keep[col].isnull().sum()/len(df_2018_keep)*100))"
   ]
  },
  {
   "cell_type": "code",
   "execution_count": 28,
   "metadata": {
    "collapsed": false
   },
   "outputs": [
    {
     "name": "stdout",
     "output_type": "stream",
     "text": [
      "Salary - percent missing in 2017: 66.21510673234812%\n",
      "Salary - percent missing in 2018: 34.16970486712783%\n"
     ]
    }
   ],
   "source": [
    "getMissingPercent('Salary')"
   ]
  },
  {
   "cell_type": "code",
   "execution_count": 29,
   "metadata": {
    "collapsed": false
   },
   "outputs": [],
   "source": [
    "df_2017_keep = df_2017_keep[(df_2017_keep['Currency'].notnull()) & (df_2017_keep['Salary'].notnull())]\n",
    "df_2018_keep = df_2018_keep[(df_2018_keep['Currency'].notnull()) & (df_2018_keep['Salary'].notnull())]"
   ]
  },
  {
   "cell_type": "code",
   "execution_count": 30,
   "metadata": {
    "collapsed": false
   },
   "outputs": [],
   "source": [
    "# Commented out in case need to convert 2017 currencies to USD\n",
    "\n",
    "# currency_dict = {'British pounds sterling (£)': 1.27386, 'U.S. dollars ($)': 1, 'Euros (€)': 1.14630, 'Brazilian reais (R$)': 0.269293, \n",
    "#                  'Indian rupees (?)': 0.0142103, 'Polish zloty (zl)': 0.266836, 'Canadian dollars (C$)': 0.755728, \n",
    "#                  'Russian rubles (?)': 0.0148888, 'Swiss francs': 1.01940, 'Swedish kroner (SEK)': 0.112174, \n",
    "#                  'Mexican pesos (MXN$)': 0.0517878, 'Australian dollars (A$)': 0.715379, 'Japanese yen (¥)': 0.00917943, \n",
    "#                  'Chinese yuan renminbi (¥)': 0.146269, 'Singapore dollars (S$)': 0.736965, 'South African rands (R)': 0.0721070, \n",
    "#                  'Bitcoin (btc)': 4019.77}"
   ]
  },
  {
   "cell_type": "code",
   "execution_count": 31,
   "metadata": {
    "collapsed": true
   },
   "outputs": [],
   "source": [
    "# def convert_salary(col):\n",
    "#     currency = col[0]\n",
    "#     salary = col[1]\n",
    "\n",
    "#     return currency_dict[currency] * salary"
   ]
  },
  {
   "cell_type": "code",
   "execution_count": 32,
   "metadata": {
    "collapsed": false
   },
   "outputs": [],
   "source": [
    "# df_2017_keep['Salary'] = df_2017_keep[['Currency','Salary']].apply(convert_salary, axis = 1)"
   ]
  },
  {
   "cell_type": "markdown",
   "metadata": {},
   "source": [
    "### 3.3 - Hobby\n",
    "Surprisingly, everyone filled out if they program as a hobby or not.  Although, in 2017, you could also answer if you contributed to open source projects whereas in 2018, answers constrained to yes or no.  I've simplified the 2017 answers so that anything aside from \"no\" becomes \"yes\".  "
   ]
  },
  {
   "cell_type": "code",
   "execution_count": 34,
   "metadata": {
    "collapsed": false
   },
   "outputs": [
    {
     "name": "stdout",
     "output_type": "stream",
     "text": [
      "Hobby - percent missing in 2017: 0.0%\n",
      "Hobby - percent missing in 2018: 0.0%\n"
     ]
    }
   ],
   "source": [
    "getMissingPercent('Hobby')"
   ]
  },
  {
   "cell_type": "code",
   "execution_count": 35,
   "metadata": {
    "collapsed": false
   },
   "outputs": [
    {
     "data": {
      "text/plain": [
       "[Yes, both, Yes, I program as a hobby, No, Yes, I contribute to open source projects]\n",
       "Categories (4, object): [Yes, both, Yes, I program as a hobby, No, Yes, I contribute to open source projects]"
      ]
     },
     "execution_count": 35,
     "metadata": {},
     "output_type": "execute_result"
    }
   ],
   "source": [
    "df_2017_keep['Hobby'].unique()"
   ]
  },
  {
   "cell_type": "code",
   "execution_count": 36,
   "metadata": {
    "collapsed": false
   },
   "outputs": [
    {
     "data": {
      "text/plain": [
       "[Yes, No]\n",
       "Categories (2, object): [Yes, No]"
      ]
     },
     "execution_count": 36,
     "metadata": {},
     "output_type": "execute_result"
    }
   ],
   "source": [
    "df_2018_keep['Hobby'].unique()"
   ]
  },
  {
   "cell_type": "code",
   "execution_count": 37,
   "metadata": {
    "collapsed": false
   },
   "outputs": [],
   "source": [
    "def hobby(col):\n",
    "    for row in col:\n",
    "        if row != 'No':\n",
    "            return 'Yes'\n",
    "        else:\n",
    "            return 'No'"
   ]
  },
  {
   "cell_type": "code",
   "execution_count": 38,
   "metadata": {
    "collapsed": false
   },
   "outputs": [],
   "source": [
    "df_2017_keep['Hobby'] = df_2017_keep[['Hobby']].apply(hobby, axis = 1)"
   ]
  },
  {
   "cell_type": "markdown",
   "metadata": {},
   "source": [
    "### 3.4 - Country\n",
    "Respondents state what country they reside in.  Again, no missing data.  But respondents had to type in the country name, so watch out for typos later."
   ]
  },
  {
   "cell_type": "code",
   "execution_count": 39,
   "metadata": {
    "collapsed": false
   },
   "outputs": [
    {
     "name": "stdout",
     "output_type": "stream",
     "text": [
      "Country - percent missing in 2017: 0.0%\n",
      "Country - percent missing in 2018: 0.0%\n"
     ]
    }
   ],
   "source": [
    "getMissingPercent('Country')"
   ]
  },
  {
   "cell_type": "markdown",
   "metadata": {},
   "source": [
    "### 3.5 - Student\n",
    "For both years, this asks if the respondent is currently enrolled in a college or university program.  They have the same answer choices of full time, part time, no, or prefer not to say.  However, in the 2018 dataset, \"I prefer not to say\" all comes out as null values.  This seems to be true for all of 2018 data.  Null values are filled in with \"I prefer not to say\"."
   ]
  },
  {
   "cell_type": "code",
   "execution_count": 40,
   "metadata": {
    "collapsed": false
   },
   "outputs": [
    {
     "name": "stdout",
     "output_type": "stream",
     "text": [
      "Student - percent missing in 2017: 0.0%\n",
      "Student - percent missing in 2018: 0.7303854295085017%\n"
     ]
    }
   ],
   "source": [
    "getMissingPercent('Student')"
   ]
  },
  {
   "cell_type": "code",
   "execution_count": 41,
   "metadata": {
    "collapsed": false
   },
   "outputs": [
    {
     "data": {
      "text/plain": [
       "[No, Yes, part-time, Yes, full-time, I prefer not to say]\n",
       "Categories (4, object): [No, Yes, part-time, Yes, full-time, I prefer not to say]"
      ]
     },
     "execution_count": 41,
     "metadata": {},
     "output_type": "execute_result"
    }
   ],
   "source": [
    "df_2017_keep['Student'].unique()"
   ]
  },
  {
   "cell_type": "code",
   "execution_count": 42,
   "metadata": {
    "collapsed": false
   },
   "outputs": [
    {
     "data": {
      "text/plain": [
       "[No, Yes, part-time, Yes, full-time, NaN]\n",
       "Categories (3, object): [No, Yes, part-time, Yes, full-time]"
      ]
     },
     "execution_count": 42,
     "metadata": {},
     "output_type": "execute_result"
    }
   ],
   "source": [
    "df_2018_keep['Student'].unique()"
   ]
  },
  {
   "cell_type": "code",
   "execution_count": 43,
   "metadata": {
    "collapsed": false
   },
   "outputs": [],
   "source": [
    "df_2018_keep['Student'] = df_2018_keep.Student.cat.add_categories('I prefer not to say').fillna('I prefer not to say')"
   ]
  },
  {
   "cell_type": "markdown",
   "metadata": {},
   "source": [
    "### 3.6 - Employment\n",
    "After removing null salaries, 2017 only has two employment statuses: employed full time or part time.  In the 2017 documentation, it states that salary information was only collected if respondents stated they were employed.  \n",
    "\n",
    "There was no such filter for the 2018 data, so I've filtered out anyone unemployed, which includes independent contractors/freelancers/self-employed, those unemployed but looking for work, those unemployed and not looking for work, and retired people."
   ]
  },
  {
   "cell_type": "code",
   "execution_count": 44,
   "metadata": {
    "collapsed": false
   },
   "outputs": [
    {
     "name": "stdout",
     "output_type": "stream",
     "text": [
      "Employment - percent missing in 2017: 0.0%\n",
      "Employment - percent missing in 2018: 0.2907585308552953%\n"
     ]
    }
   ],
   "source": [
    "getMissingPercent('Employment')"
   ]
  },
  {
   "cell_type": "code",
   "execution_count": 45,
   "metadata": {
    "collapsed": false
   },
   "outputs": [
    {
     "data": {
      "text/plain": [
       "['Employed full-time', 'Employed part-time']"
      ]
     },
     "execution_count": 45,
     "metadata": {},
     "output_type": "execute_result"
    }
   ],
   "source": [
    "sorted(df_2017_keep['Employment'].unique())"
   ]
  },
  {
   "cell_type": "code",
   "execution_count": 46,
   "metadata": {
    "collapsed": false
   },
   "outputs": [
    {
     "data": {
      "text/plain": [
       "[Employed full-time, Employed part-time, Independent contractor, freelancer, or self-em..., Not employed, and not looking for work, NaN, Not employed, but looking for work, Retired]\n",
       "Categories (6, object): [Employed full-time, Employed part-time, Independent contractor, freelancer, or self-em..., Not employed, and not looking for work, Not employed, but looking for work, Retired]"
      ]
     },
     "execution_count": 46,
     "metadata": {},
     "output_type": "execute_result"
    }
   ],
   "source": [
    "df_2018_keep['Employment'].unique()"
   ]
  },
  {
   "cell_type": "code",
   "execution_count": 47,
   "metadata": {
    "collapsed": false
   },
   "outputs": [],
   "source": [
    "df_2018_keep = df_2018_keep[(df_2018_keep['Employment']=='Employed full-time') | (df_2018_keep['Employment']=='Employed part-time')]"
   ]
  },
  {
   "cell_type": "markdown",
   "metadata": {},
   "source": [
    "### 3.7 - Education\n",
    "Education refers to the highest level of formal education that the respondent has completed.  In 2018, a category was added for associates degree.  I've added that to 2017 categories and converted null values in 2018 to \"I prefer not to say\"."
   ]
  },
  {
   "cell_type": "code",
   "execution_count": 48,
   "metadata": {
    "collapsed": false
   },
   "outputs": [
    {
     "name": "stdout",
     "output_type": "stream",
     "text": [
      "Education - percent missing in 2017: 0.0%\n",
      "Education - percent missing in 2018: 1.3720120183998512%\n"
     ]
    }
   ],
   "source": [
    "getMissingPercent('Education')"
   ]
  },
  {
   "cell_type": "code",
   "execution_count": 49,
   "metadata": {
    "collapsed": false
   },
   "outputs": [
    {
     "data": {
      "text/plain": [
       "[\"Bachelor's degree\",\n",
       " 'Professional degree',\n",
       " \"Master's degree\",\n",
       " \"Some college/university study without earning a bachelor's degree\",\n",
       " 'Doctoral degree',\n",
       " 'Secondary school',\n",
       " 'I never completed any formal education',\n",
       " 'Primary/elementary school',\n",
       " 'I prefer not to answer']"
      ]
     },
     "execution_count": 49,
     "metadata": {},
     "output_type": "execute_result"
    }
   ],
   "source": [
    "list(df_2017_keep['Education'].unique())"
   ]
  },
  {
   "cell_type": "code",
   "execution_count": 50,
   "metadata": {
    "collapsed": false
   },
   "outputs": [
    {
     "data": {
      "text/plain": [
       "['Bachelor’s degree (BA, BS, B.Eng., etc.)',\n",
       " 'Some college/university study without earning a degree',\n",
       " 'Secondary school (e.g. American high school, German Realschule or Gymnasium, etc.)',\n",
       " 'Master’s degree (MA, MS, M.Eng., MBA, etc.)',\n",
       " 'Associate degree',\n",
       " 'Professional degree (JD, MD, etc.)',\n",
       " 'Other doctoral degree (Ph.D, Ed.D., etc.)',\n",
       " nan,\n",
       " 'Primary/elementary school',\n",
       " 'I never completed any formal education']"
      ]
     },
     "execution_count": 50,
     "metadata": {},
     "output_type": "execute_result"
    }
   ],
   "source": [
    "list(df_2018_keep['Education'].unique())"
   ]
  },
  {
   "cell_type": "code",
   "execution_count": 51,
   "metadata": {
    "collapsed": true
   },
   "outputs": [],
   "source": [
    "df_2017_keep['Education'] = df_2017_keep.Education.cat.add_categories('Associate degree')\n",
    "df_2018_keep['Education'] = df_2018_keep.Education.cat.add_categories('I prefer not to answer').fillna('I prefer not to answer')"
   ]
  },
  {
   "cell_type": "markdown",
   "metadata": {},
   "source": [
    "### 3.8 - Undergraduate Major\n",
    "As one would expect this column asks what is/was the respondent's undergraduate major.  The two years have the same options to choose from, and it encompasses a wide variety of majors, with heavy emphasis on different types of computer science majors."
   ]
  },
  {
   "cell_type": "code",
   "execution_count": 52,
   "metadata": {
    "collapsed": false
   },
   "outputs": [
    {
     "name": "stdout",
     "output_type": "stream",
     "text": [
      "UndergradMajor - percent missing in 2017: 6.91035683202785%\n",
      "UndergradMajor - percent missing in 2018: 9.447206785609827%\n"
     ]
    }
   ],
   "source": [
    "getMissingPercent('UndergradMajor')"
   ]
  },
  {
   "cell_type": "code",
   "execution_count": 53,
   "metadata": {
    "collapsed": false
   },
   "outputs": [
    {
     "data": {
      "text/plain": [
       "True"
      ]
     },
     "execution_count": 53,
     "metadata": {},
     "output_type": "execute_result"
    }
   ],
   "source": [
    "list(df_2017_keep['UndergradMajor'].unique())==list(df_2017_keep['UndergradMajor'].unique())"
   ]
  },
  {
   "cell_type": "code",
   "execution_count": 54,
   "metadata": {
    "collapsed": false
   },
   "outputs": [],
   "source": [
    "df_2017_keep['UndergradMajor'] = df_2017_keep.UndergradMajor.cat.add_categories('NaN').fillna('NaN')\n",
    "df_2018_keep['UndergradMajor'] = df_2018_keep.UndergradMajor.cat.add_categories('NaN').fillna('NaN')"
   ]
  },
  {
   "cell_type": "markdown",
   "metadata": {},
   "source": [
    "### 3.9 - Company Size\n",
    "Company size options range from fewer than 10 employees to greater than 10k employees."
   ]
  },
  {
   "cell_type": "code",
   "execution_count": 55,
   "metadata": {
    "collapsed": false
   },
   "outputs": [
    {
     "name": "stdout",
     "output_type": "stream",
     "text": [
      "CompanySize - percent missing in 2017: 0.08703220191470844%\n",
      "CompanySize - percent missing in 2018: 1.59536281209285%\n"
     ]
    }
   ],
   "source": [
    "getMissingPercent('CompanySize')"
   ]
  },
  {
   "cell_type": "code",
   "execution_count": 56,
   "metadata": {
    "collapsed": false
   },
   "outputs": [],
   "source": [
    "df_2017_keep['CompanySize'] = df_2017_keep.CompanySize.cat.add_categories('NaN').fillna('NaN')\n",
    "df_2018_keep['CompanySize'] = df_2018_keep.CompanySize.cat.add_categories('NaN').fillna('NaN')"
   ]
  },
  {
   "cell_type": "code",
   "execution_count": 57,
   "metadata": {
    "collapsed": false
   },
   "outputs": [
    {
     "data": {
      "text/plain": [
       "True"
      ]
     },
     "execution_count": 57,
     "metadata": {},
     "output_type": "execute_result"
    }
   ],
   "source": [
    "sorted(df_2017_keep['UndergradMajor'].unique())==sorted(df_2017_keep['UndergradMajor'].unique())"
   ]
  },
  {
   "cell_type": "markdown",
   "metadata": {},
   "source": [
    "### 3.10 - Years Coded \n",
    "This section asks how many years the respondent has been coding, including for school, for fun, or for work (professionally).  The answer choices for 2017 were a little confusing.  For example, answer choices included 1 to 2 years, 2 to 3 years, and so forth.  2018 choices were less ambiguous, with example choices of 0-2 years and 3-5 years.  \n",
    "\n",
    "For the 2017 choices, I've reworked the answer choices so that the first number is included, and the second is excluded.  To clarify, if the respondent chose answer choice 1 to to years, it means they have been coding anywhere between 1 to 1.99 years.  With this method, I am able to make the same answer choices between the two datasets."
   ]
  },
  {
   "cell_type": "code",
   "execution_count": 58,
   "metadata": {
    "collapsed": false
   },
   "outputs": [
    {
     "name": "stdout",
     "output_type": "stream",
     "text": [
      "YearsCoding - percent missing in 2017: 0.06092254134029591%\n",
      "YearsCoding - percent missing in 2018: 0.034566194262011754%\n"
     ]
    }
   ],
   "source": [
    "getMissingPercent('YearsCoding')"
   ]
  },
  {
   "cell_type": "code",
   "execution_count": 59,
   "metadata": {
    "collapsed": true
   },
   "outputs": [],
   "source": [
    "df_2017_keep['YearsCoding'] = df_2017_keep.YearsCoding.cat.add_categories('NaN').fillna('NaN')\n",
    "df_2018_keep['YearsCoding'] = df_2018_keep.YearsCoding.cat.add_categories('NaN').fillna('NaN')"
   ]
  },
  {
   "cell_type": "code",
   "execution_count": 60,
   "metadata": {
    "collapsed": true
   },
   "outputs": [],
   "source": [
    "YearsCoding2017_dict ={'Less than a year':  '0-2 years',   '1 to 2 years': '0-2 years', '2 to 3 years':  '3-5 years',\n",
    "                      '3 to 4 years':  '3-5 years', '4 to 5 years': '3-5 years', '5 to 6 years':  '6-8 years',\n",
    "                       '6 to 7 years': '6-8 years', '7 to 8 years': '6-8 years', '8 to 9 years':  '9-11 years',\n",
    "                      '9 to 10 years':  '9-11 years', '10 to 11 years': '9-11 years', '11 to 12 years':  '12-14 years',\n",
    "                      '12 to 13 years': '12-14 years', '13 to 14 years': '12-14 years', '14 to 15 years':  '15-17 years',\n",
    "                      '15 to 16 years':  '15-17 years', '16 to 17 years': '15-17 years', '17 to 18 years':  '18-20 years',\n",
    "                      '18 to 19 years': '18-20 years', '19 to 20 years': '18-20 years', '20 or more years': '20 or more years',\n",
    "                      'NaN': 'NaN'}"
   ]
  },
  {
   "cell_type": "code",
   "execution_count": 61,
   "metadata": {
    "collapsed": true
   },
   "outputs": [],
   "source": [
    "def convert_YearsCoding2017(col):\n",
    "    return YearsCoding2017_dict[col]"
   ]
  },
  {
   "cell_type": "code",
   "execution_count": 62,
   "metadata": {
    "collapsed": false
   },
   "outputs": [],
   "source": [
    "df_2017_keep['YearsCoding'] = df_2017_keep['YearsCoding'].apply(convert_YearsCoding2017)"
   ]
  },
  {
   "cell_type": "code",
   "execution_count": 63,
   "metadata": {
    "collapsed": false
   },
   "outputs": [],
   "source": [
    "YearsCoding2018_dict = {'21-23 years': '20 or more years', '24-26 years': '20 or more years', '27-29 years': '20 or more years',\n",
    "                       '30 or more years': '20 or more years', 'NaN': 'NaN'}"
   ]
  },
  {
   "cell_type": "code",
   "execution_count": 64,
   "metadata": {
    "collapsed": false
   },
   "outputs": [],
   "source": [
    "def convert_YearsCoding2018(col):\n",
    "    try:\n",
    "        return YearsCoding2018_dict[col]\n",
    "    except:\n",
    "        return col"
   ]
  },
  {
   "cell_type": "code",
   "execution_count": 65,
   "metadata": {
    "collapsed": true
   },
   "outputs": [],
   "source": [
    "df_2018_keep['YearsCoding'] = df_2018_keep['YearsCoding'].apply(convert_YearsCoding2018)"
   ]
  },
  {
   "cell_type": "markdown",
   "metadata": {},
   "source": [
    "### 3.11 - Years Coded Professionally\n",
    "Similar to section 3.10's Years Coded, but only applies to the years that the respondent has coded for work.  I was able to reuse the years coding dictionary."
   ]
  },
  {
   "cell_type": "code",
   "execution_count": 66,
   "metadata": {
    "collapsed": false
   },
   "outputs": [
    {
     "name": "stdout",
     "output_type": "stream",
     "text": [
      "YearsCodingProf - percent missing in 2017: 0.38294168842471715%\n",
      "YearsCodingProf - percent missing in 2018: 0.8668137945704486%\n"
     ]
    }
   ],
   "source": [
    "getMissingPercent('YearsCodingProf')"
   ]
  },
  {
   "cell_type": "code",
   "execution_count": 67,
   "metadata": {
    "collapsed": true
   },
   "outputs": [],
   "source": [
    "df_2017_keep['YearsCodingProf'] = df_2017_keep.YearsCodingProf.cat.add_categories('NaN').fillna('NaN')\n",
    "df_2018_keep['YearsCodingProf'] = df_2018_keep.YearsCodingProf.cat.add_categories('NaN').fillna('NaN')"
   ]
  },
  {
   "cell_type": "code",
   "execution_count": 68,
   "metadata": {
    "collapsed": true
   },
   "outputs": [],
   "source": [
    "df_2017_keep['YearsCodingProf'] = df_2017_keep['YearsCodingProf'].apply(convert_YearsCoding2017)\n",
    "df_2018_keep['YearsCodingProf'] = df_2018_keep['YearsCodingProf'].apply(convert_YearsCoding2018)"
   ]
  },
  {
   "cell_type": "markdown",
   "metadata": {},
   "source": [
    "### 3.12 -  Software Developer Type\n",
    "This question asks the respondent what type of software developer they are.  Multiple responses are allowed, which has resulted in ~900 and 4800 unique responses for 2017 and 2018 respectively.  For now, I will fill in the null values as \"NaN\", and create a new column that indicates how many options the respondent chose, as written in get_count()."
   ]
  },
  {
   "cell_type": "code",
   "execution_count": 69,
   "metadata": {
    "collapsed": false
   },
   "outputs": [
    {
     "name": "stdout",
     "output_type": "stream",
     "text": [
      "DevType - percent missing in 2017: 0.017406440382941687%\n",
      "DevType - percent missing in 2018: 0.7551383977239491%\n"
     ]
    }
   ],
   "source": [
    "getMissingPercent('DevType')"
   ]
  },
  {
   "cell_type": "code",
   "execution_count": 70,
   "metadata": {
    "collapsed": false
   },
   "outputs": [],
   "source": [
    "df_2017_keep['DevType']= df_2017_keep.DevType.cat.add_categories('NaN').fillna('NaN')\n",
    "df_2018_keep['DevType']= df_2018_keep.DevType.cat.add_categories('NaN').fillna('NaN')"
   ]
  },
  {
   "cell_type": "code",
   "execution_count": 71,
   "metadata": {
    "collapsed": false
   },
   "outputs": [
    {
     "data": {
      "text/plain": [
       "3"
      ]
     },
     "execution_count": 71,
     "metadata": {},
     "output_type": "execute_result"
    }
   ],
   "source": [
    "len(df_2017_keep['DevType'][36].split(\";\"))"
   ]
  },
  {
   "cell_type": "code",
   "execution_count": 72,
   "metadata": {
    "collapsed": true
   },
   "outputs": [],
   "source": [
    "def get_count(col):\n",
    "    count = len(col.split(';'))\n",
    "    if col == 'NaN':\n",
    "        count = 0\n",
    "    return count"
   ]
  },
  {
   "cell_type": "code",
   "execution_count": 73,
   "metadata": {
    "collapsed": false
   },
   "outputs": [],
   "source": [
    "df_2017_keep['DevType_Count'] = df_2017_keep['DevType'].apply(get_count)"
   ]
  },
  {
   "cell_type": "code",
   "execution_count": 74,
   "metadata": {
    "collapsed": true
   },
   "outputs": [],
   "source": [
    "df_2018_keep['DevType_Count'] = df_2018_keep['DevType'].apply(get_count)"
   ]
  },
  {
   "cell_type": "markdown",
   "metadata": {},
   "source": [
    "### 3.13 - Career Satisfaction\n",
    "This question asks responded how satisfied they are with their career so far.  Again, between 2017 and 2018, completely different answer systems are used, where 2017 uses a 0 to 10 scale (where 0 is most dissatisfied and 10 is most satisfied), and in 2018, answers range from extremely dissatisfied to extremely satisfied. To combine the two, I've anchored it so that a 0 correlates to extremely dissatisfied, 5 to neither satisfied nor dissatisfied, and 10 to extremely satisfied."
   ]
  },
  {
   "cell_type": "code",
   "execution_count": 75,
   "metadata": {
    "collapsed": false
   },
   "outputs": [
    {
     "name": "stdout",
     "output_type": "stream",
     "text": [
      "CareerSatisfaction - percent missing in 2017: 0.20017406440382943%\n",
      "CareerSatisfaction - percent missing in 2018: 0.8668137945704486%\n"
     ]
    }
   ],
   "source": [
    "getMissingPercent('CareerSatisfaction')"
   ]
  },
  {
   "cell_type": "code",
   "execution_count": 76,
   "metadata": {
    "collapsed": false
   },
   "outputs": [
    {
     "data": {
      "text/plain": [
       "[8.0, 9.0, 7.0, 10.0, nan, 6.0, 5.0, 4.0, 3.0, 2.0, 0.0, 1.0]"
      ]
     },
     "execution_count": 76,
     "metadata": {},
     "output_type": "execute_result"
    }
   ],
   "source": [
    "list(df_2017_keep['CareerSatisfaction'].unique())"
   ]
  },
  {
   "cell_type": "code",
   "execution_count": 77,
   "metadata": {
    "collapsed": false
   },
   "outputs": [
    {
     "data": {
      "text/plain": [
       "['Neither satisfied nor dissatisfied',\n",
       " 'Moderately satisfied',\n",
       " 'Slightly satisfied',\n",
       " 'Moderately dissatisfied',\n",
       " 'Slightly dissatisfied',\n",
       " 'Extremely satisfied',\n",
       " 'Extremely dissatisfied',\n",
       " nan]"
      ]
     },
     "execution_count": 77,
     "metadata": {},
     "output_type": "execute_result"
    }
   ],
   "source": [
    "list(df_2018_keep['CareerSatisfaction'].unique())"
   ]
  },
  {
   "cell_type": "code",
   "execution_count": 78,
   "metadata": {
    "collapsed": true
   },
   "outputs": [],
   "source": [
    "satisfaction_dict = {0.0: 'Extremely dissatisfied', 1.0:  'Moderately dissatisfied', 2.0:  'Moderately dissatisfied',\n",
    "                    3.0: 'Slightly dissatisfied', 4.0: 'Slightly dissatisfied', 5.0: 'Neither satisfied nor dissatisfied',\n",
    "                    6.0:  'Slightly satisfied', 7.0:  'Slightly satisfied', 8.0:  'Moderately satisfied', 9.0:  'Moderately satisfied',\n",
    "                    10.0:  'Extremely satisfied', 'NaN': 'NaN'}"
   ]
  },
  {
   "cell_type": "code",
   "execution_count": 79,
   "metadata": {
    "collapsed": true
   },
   "outputs": [],
   "source": [
    "def convert_satisfaction(col):\n",
    "    return satisfaction_dict[col]"
   ]
  },
  {
   "cell_type": "code",
   "execution_count": 80,
   "metadata": {
    "collapsed": false
   },
   "outputs": [],
   "source": [
    "df_2017_keep['CareerSatisfaction'] = df_2017_keep['CareerSatisfaction'].astype('category')\n",
    "df_2017_keep['CareerSatisfaction'] = df_2017_keep.CareerSatisfaction.cat.add_categories('NaN').fillna('NaN')\n",
    "df_2018_keep['CareerSatisfaction'] = df_2018_keep.CareerSatisfaction.cat.add_categories('NaN').fillna('NaN')\n",
    "\n",
    "df_2017_keep['CareerSatisfaction'] = df_2017_keep['CareerSatisfaction'].apply(convert_satisfaction)"
   ]
  },
  {
   "cell_type": "markdown",
   "metadata": {},
   "source": [
    "### 3.14 - Job Satisfaction\n",
    "This question is similar to section 3.13, but specific to the respondent's current job.  Data processing is also similar to career satisfaction."
   ]
  },
  {
   "cell_type": "code",
   "execution_count": 81,
   "metadata": {
    "collapsed": false
   },
   "outputs": [
    {
     "name": "stdout",
     "output_type": "stream",
     "text": [
      "JobSatisfaction - percent missing in 2017: 0.26979982593559615%\n",
      "JobSatisfaction - percent missing in 2018: 0.9625355632960195%\n"
     ]
    }
   ],
   "source": [
    "getMissingPercent('JobSatisfaction')"
   ]
  },
  {
   "cell_type": "code",
   "execution_count": 82,
   "metadata": {
    "collapsed": false
   },
   "outputs": [
    {
     "data": {
      "text/plain": [
       "array([ 9.,  8.,  7., nan,  5.,  6.,  2., 10.,  4.,  3.,  1.,  0.])"
      ]
     },
     "execution_count": 82,
     "metadata": {},
     "output_type": "execute_result"
    }
   ],
   "source": [
    "df_2017_keep['JobSatisfaction'].unique()"
   ]
  },
  {
   "cell_type": "code",
   "execution_count": 83,
   "metadata": {
    "collapsed": false
   },
   "outputs": [
    {
     "data": {
      "text/plain": [
       "[Moderately dissatisfied, Slightly satisfied, Moderately satisfied, Neither satisfied nor dissatisfied, Slightly dissatisfied, Extremely dissatisfied, NaN, Extremely satisfied]\n",
       "Categories (7, object): [Moderately dissatisfied, Slightly satisfied, Moderately satisfied, Neither satisfied nor dissatisfied, Slightly dissatisfied, Extremely dissatisfied, Extremely satisfied]"
      ]
     },
     "execution_count": 83,
     "metadata": {},
     "output_type": "execute_result"
    }
   ],
   "source": [
    "df_2018_keep['JobSatisfaction'].unique()"
   ]
  },
  {
   "cell_type": "code",
   "execution_count": 84,
   "metadata": {
    "collapsed": false
   },
   "outputs": [],
   "source": [
    "df_2017_keep['JobSatisfaction'] = df_2017_keep['JobSatisfaction'].astype('category')\n",
    "df_2017_keep['JobSatisfaction'] = df_2017_keep.JobSatisfaction.cat.add_categories('NaN').fillna('NaN')\n",
    "df_2018_keep['JobSatisfaction'] = df_2018_keep.JobSatisfaction.cat.add_categories('NaN').fillna('NaN')\n",
    "\n",
    "df_2017_keep['JobSatisfaction'] = df_2017_keep['JobSatisfaction'].apply(convert_satisfaction)"
   ]
  },
  {
   "cell_type": "markdown",
   "metadata": {},
   "source": [
    "### 3.15 - Kinship with Developers\n",
    "Kinship refers to the sense of connection the respondent feels with other developers.  The two years have the same 5 point scale ranging from strongly disagree to strongly agree.  A minor difference is 2017's somewhat agree is equivalent to 2018's neither agree nor disagree.  I've decided to change this to a numerical scale where strongly disagree is a 1 and strongly agree is a 5."
   ]
  },
  {
   "cell_type": "code",
   "execution_count": 85,
   "metadata": {
    "collapsed": false
   },
   "outputs": [
    {
     "name": "stdout",
     "output_type": "stream",
     "text": [
      "KinshipDevelopers - percent missing in 2017: 30.139251523063532%\n",
      "KinshipDevelopers - percent missing in 2018: 2.3292297056555613%\n"
     ]
    }
   ],
   "source": [
    "getMissingPercent('KinshipDevelopers')"
   ]
  },
  {
   "cell_type": "code",
   "execution_count": 86,
   "metadata": {
    "collapsed": false
   },
   "outputs": [
    {
     "data": {
      "text/plain": [
       "['Somewhat agree',\n",
       " 'Agree',\n",
       " nan,\n",
       " 'Strongly agree',\n",
       " 'Disagree',\n",
       " 'Strongly disagree']"
      ]
     },
     "execution_count": 86,
     "metadata": {},
     "output_type": "execute_result"
    }
   ],
   "source": [
    "list(df_2017_keep['KinshipDevelopers'].unique())"
   ]
  },
  {
   "cell_type": "code",
   "execution_count": 87,
   "metadata": {
    "collapsed": false
   },
   "outputs": [
    {
     "data": {
      "text/plain": [
       "['Agree',\n",
       " 'Strongly agree',\n",
       " 'Disagree',\n",
       " 'Neither Agree nor Disagree',\n",
       " nan,\n",
       " 'Strongly disagree']"
      ]
     },
     "execution_count": 87,
     "metadata": {},
     "output_type": "execute_result"
    }
   ],
   "source": [
    "list(df_2018_keep['KinshipDevelopers'].unique())"
   ]
  },
  {
   "cell_type": "code",
   "execution_count": 88,
   "metadata": {
    "collapsed": true
   },
   "outputs": [],
   "source": [
    "agree_dict = {'Strongly disagree': 1, 'Disagree': 2, 'Somewhat agree': 3, 'Neither Agree nor Disagree': 3, 'Agree': 4, \n",
    "             'Strongly agree': 5}"
   ]
  },
  {
   "cell_type": "code",
   "execution_count": 89,
   "metadata": {
    "collapsed": true
   },
   "outputs": [],
   "source": [
    "def convert_agreement(col):\n",
    "    return agree_dict[col]"
   ]
  },
  {
   "cell_type": "code",
   "execution_count": 90,
   "metadata": {
    "collapsed": false
   },
   "outputs": [],
   "source": [
    "df_2017_keep['KinshipDevelopers'] = df_2017_keep['KinshipDevelopers'].apply(convert_agreement)\n",
    "df_2018_keep['KinshipDevelopers'] = df_2018_keep['KinshipDevelopers'].apply(convert_agreement)"
   ]
  },
  {
   "cell_type": "code",
   "execution_count": 91,
   "metadata": {
    "collapsed": false
   },
   "outputs": [
    {
     "name": "stderr",
     "output_type": "stream",
     "text": [
      "C:\\Users\\Crystal\\AppData\\Local\\Continuum\\Anaconda3\\lib\\site-packages\\numpy\\core\\fromnumeric.py:83: RuntimeWarning: invalid value encountered in reduce\n",
      "  return ufunc.reduce(obj, axis, dtype, out, **passkwargs)\n"
     ]
    }
   ],
   "source": [
    "df_2017_keep['KinshipDevelopers'] = pd.to_numeric(df_2017_keep['KinshipDevelopers'], downcast='unsigned')\n",
    "df_2018_keep['KinshipDevelopers'] = pd.to_numeric(df_2018_keep['KinshipDevelopers'], downcast='unsigned')"
   ]
  },
  {
   "cell_type": "code",
   "execution_count": 92,
   "metadata": {
    "collapsed": true
   },
   "outputs": [],
   "source": [
    "df_2017_keep['KinshipDevelopers'] = df_2017_keep['KinshipDevelopers'].fillna(0)\n",
    "df_2018_keep['KinshipDevelopers'] = df_2018_keep['KinshipDevelopers'].fillna(0)"
   ]
  },
  {
   "cell_type": "markdown",
   "metadata": {},
   "source": [
    "### 3.16 - Compete with Peers\n",
    "For the philosophers, would this be the opposite or similar emotion to kinship with other developers (section 3.15)?  As the title suggests, the survey is questioning if the respondent thinks of themselves in competition with their peers.  It uses the same 5 point scale as section 3.15. "
   ]
  },
  {
   "cell_type": "code",
   "execution_count": 93,
   "metadata": {
    "collapsed": false
   },
   "outputs": [
    {
     "name": "stdout",
     "output_type": "stream",
     "text": [
      "CompetePeers - percent missing in 2017: 29.930374238468232%\n",
      "CompetePeers - percent missing in 2018: 2.222872184849371%\n"
     ]
    }
   ],
   "source": [
    "getMissingPercent('CompetePeers')"
   ]
  },
  {
   "cell_type": "code",
   "execution_count": 94,
   "metadata": {
    "collapsed": false
   },
   "outputs": [
    {
     "data": {
      "text/plain": [
       "[Disagree, Somewhat agree, Strongly disagree, NaN, Agree, Strongly agree]\n",
       "Categories (5, object): [Disagree, Somewhat agree, Strongly disagree, Agree, Strongly agree]"
      ]
     },
     "execution_count": 94,
     "metadata": {},
     "output_type": "execute_result"
    }
   ],
   "source": [
    "df_2017_keep['CompetePeers'].unique()"
   ]
  },
  {
   "cell_type": "code",
   "execution_count": 95,
   "metadata": {
    "collapsed": false
   },
   "outputs": [
    {
     "data": {
      "text/plain": [
       "[Agree, Neither Agree nor Disagree, Strongly disagree, Disagree, NaN, Strongly agree]\n",
       "Categories (5, object): [Agree, Neither Agree nor Disagree, Strongly disagree, Disagree, Strongly agree]"
      ]
     },
     "execution_count": 95,
     "metadata": {},
     "output_type": "execute_result"
    }
   ],
   "source": [
    "df_2018_keep['CompetePeers'].unique()"
   ]
  },
  {
   "cell_type": "code",
   "execution_count": 96,
   "metadata": {
    "collapsed": true
   },
   "outputs": [],
   "source": [
    "df_2017_keep['CompetePeers'] = df_2017_keep['CompetePeers'].apply(convert_agreement)\n",
    "df_2018_keep['CompetePeers'] = df_2018_keep['CompetePeers'].apply(convert_agreement)"
   ]
  },
  {
   "cell_type": "code",
   "execution_count": 97,
   "metadata": {
    "collapsed": false
   },
   "outputs": [
    {
     "name": "stderr",
     "output_type": "stream",
     "text": [
      "C:\\Users\\Crystal\\AppData\\Local\\Continuum\\Anaconda3\\lib\\site-packages\\numpy\\core\\fromnumeric.py:83: RuntimeWarning: invalid value encountered in reduce\n",
      "  return ufunc.reduce(obj, axis, dtype, out, **passkwargs)\n"
     ]
    }
   ],
   "source": [
    "df_2017_keep['CompetePeers'] = pd.to_numeric(df_2017_keep['CompetePeers'], downcast='unsigned')\n",
    "df_2018_keep['CompetePeers'] = pd.to_numeric(df_2018_keep['CompetePeers'], downcast='unsigned')"
   ]
  },
  {
   "cell_type": "code",
   "execution_count": 98,
   "metadata": {
    "collapsed": true
   },
   "outputs": [],
   "source": [
    "df_2017_keep['CompetePeers'] = df_2017_keep['CompetePeers'].fillna(0)\n",
    "df_2018_keep['CompetePeers'] = df_2018_keep['CompetePeers'].fillna(0)"
   ]
  },
  {
   "cell_type": "markdown",
   "metadata": {},
   "source": [
    "### 3.17 - Last New Job\n",
    "This section asks when was the last time the respondent took a job with a new employer.  Responses range from never to more than four years ago.  I changed 2018's 'I've never had a job' to 'Not applicable/ never' to match 2017's response."
   ]
  },
  {
   "cell_type": "code",
   "execution_count": 99,
   "metadata": {
    "collapsed": false
   },
   "outputs": [
    {
     "name": "stdout",
     "output_type": "stream",
     "text": [
      "LastNewJob - percent missing in 2017: 28.006962576153178%\n",
      "LastNewJob - percent missing in 2018: 0.1435826530883565%\n"
     ]
    }
   ],
   "source": [
    "getMissingPercent('LastNewJob')"
   ]
  },
  {
   "cell_type": "code",
   "execution_count": 100,
   "metadata": {
    "collapsed": false
   },
   "outputs": [
    {
     "data": {
      "text/plain": [
       "[nan,\n",
       " 'More than 4 years ago',\n",
       " 'Less than a year ago',\n",
       " 'Between 1 and 2 years ago',\n",
       " 'Between 2 and 4 years ago',\n",
       " 'Not applicable/ never']"
      ]
     },
     "execution_count": 100,
     "metadata": {},
     "output_type": "execute_result"
    }
   ],
   "source": [
    "list(df_2017_keep['LastNewJob'].unique())"
   ]
  },
  {
   "cell_type": "code",
   "execution_count": 101,
   "metadata": {
    "collapsed": false
   },
   "outputs": [
    {
     "data": {
      "text/plain": [
       "['More than 4 years ago',\n",
       " 'Between 1 and 2 years ago',\n",
       " 'Between 2 and 4 years ago',\n",
       " 'Less than a year ago',\n",
       " nan,\n",
       " \"I've never had a job\"]"
      ]
     },
     "execution_count": 101,
     "metadata": {},
     "output_type": "execute_result"
    }
   ],
   "source": [
    "list(df_2018_keep['LastNewJob'].unique())"
   ]
  },
  {
   "cell_type": "code",
   "execution_count": 102,
   "metadata": {
    "collapsed": true
   },
   "outputs": [],
   "source": [
    "df_2017_keep['LastNewJob'] = df_2017_keep.LastNewJob.cat.add_categories('NaN').fillna('NaN')\n",
    "df_2018_keep['LastNewJob'] = df_2018_keep.LastNewJob.cat.add_categories('NaN').fillna('NaN')"
   ]
  },
  {
   "cell_type": "code",
   "execution_count": 103,
   "metadata": {
    "collapsed": true
   },
   "outputs": [],
   "source": [
    "df_2018_keep['LastNewJob'] = df_2018_keep['LastNewJob'].replace(\"I've never had a job\", 'Not applicable/ never')"
   ]
  },
  {
   "cell_type": "markdown",
   "metadata": {},
   "source": [
    "### 3.18 - Assessing Jobs: Industry\n",
    "The subsequent assessing jobs sections are based on if the respondent is assessing a potential job to apply to, how important is each category.  In this section, the category is the industry.  \n",
    "\n",
    "For all of the assessing jobs columns, 2017 potential responses range from not at all important to very important, whereas 2018's responses range from 1 to 10.  I've anchored it so that a 1 corresponds to not at all important, 5 is somewhat important, and 10 corresponds to very important."
   ]
  },
  {
   "cell_type": "code",
   "execution_count": 104,
   "metadata": {
    "collapsed": false
   },
   "outputs": [
    {
     "name": "stdout",
     "output_type": "stream",
     "text": [
      "AssessJobIndustry - percent missing in 2017: 47.136640557006096%\n",
      "AssessJobIndustry - percent missing in 2018: 3.866095881305007%\n"
     ]
    }
   ],
   "source": [
    "getMissingPercent('AssessJobIndustry')"
   ]
  },
  {
   "cell_type": "code",
   "execution_count": 105,
   "metadata": {
    "collapsed": false
   },
   "outputs": [
    {
     "data": {
      "text/plain": [
       "[nan,\n",
       " 'Important',\n",
       " 'Not very important',\n",
       " 'Very important',\n",
       " 'Somewhat important',\n",
       " 'Not at all important']"
      ]
     },
     "execution_count": 105,
     "metadata": {},
     "output_type": "execute_result"
    }
   ],
   "source": [
    "list(df_2017_keep['AssessJobIndustry'].unique())"
   ]
  },
  {
   "cell_type": "code",
   "execution_count": 106,
   "metadata": {
    "collapsed": false
   },
   "outputs": [
    {
     "data": {
      "text/plain": [
       "[1.0, 8.0, 5.0, 6.0, 9.0, 7.0, 3.0, 10.0, nan, 4.0, 2.0]"
      ]
     },
     "execution_count": 106,
     "metadata": {},
     "output_type": "execute_result"
    }
   ],
   "source": [
    "list(df_2018_keep['AssessJobIndustry'].unique())"
   ]
  },
  {
   "cell_type": "code",
   "execution_count": 107,
   "metadata": {
    "collapsed": false
   },
   "outputs": [],
   "source": [
    "df_2018_keep['AssessJobIndustry'] = df_2018_keep['AssessJobIndustry'].astype('category')"
   ]
  },
  {
   "cell_type": "code",
   "execution_count": 108,
   "metadata": {
    "collapsed": false
   },
   "outputs": [],
   "source": [
    "df_2018_keep['AssessJobIndustry'] = df_2018_keep.AssessJobIndustry.cat.add_categories('NaN').fillna('NaN')"
   ]
  },
  {
   "cell_type": "code",
   "execution_count": 109,
   "metadata": {
    "collapsed": true
   },
   "outputs": [],
   "source": [
    "df_2017_keep['AssessJobIndustry'] = df_2017_keep.AssessJobIndustry.cat.add_categories('NaN').fillna('NaN')"
   ]
  },
  {
   "cell_type": "code",
   "execution_count": 110,
   "metadata": {
    "collapsed": true
   },
   "outputs": [],
   "source": [
    "importance_dict = {1: 'Not at all important', 2: 'Not at all important', 3:  'Not very important', 4:  'Not very important',\n",
    "                  5:  'Somewhat important', 6:  'Somewhat important', 7:  'Important', 8:  'Important', 9:  'Very important',\n",
    "                  10:  'Very important', 'NaN': 'NaN'}"
   ]
  },
  {
   "cell_type": "code",
   "execution_count": 111,
   "metadata": {
    "collapsed": true
   },
   "outputs": [],
   "source": [
    "def convert_importance(col):\n",
    "    return importance_dict[col]"
   ]
  },
  {
   "cell_type": "code",
   "execution_count": 112,
   "metadata": {
    "collapsed": false
   },
   "outputs": [],
   "source": [
    "df_2018_keep['AssessJobIndustry'] = df_2018_keep['AssessJobIndustry'].apply(convert_importance)"
   ]
  },
  {
   "cell_type": "markdown",
   "metadata": {},
   "source": [
    "### 3.19 - Assessing Jobs: Department\n",
    "How important is the specific team or department when assessing potential jobs?  "
   ]
  },
  {
   "cell_type": "code",
   "execution_count": 113,
   "metadata": {
    "collapsed": false
   },
   "outputs": [
    {
     "name": "stdout",
     "output_type": "stream",
     "text": [
      "AssessJobDept - percent missing in 2017: 47.17145343777197%\n",
      "AssessJobDept - percent missing in 2018: 3.866095881305007%\n"
     ]
    }
   ],
   "source": [
    "getMissingPercent('AssessJobDept')"
   ]
  },
  {
   "cell_type": "code",
   "execution_count": 114,
   "metadata": {
    "collapsed": false
   },
   "outputs": [
    {
     "data": {
      "text/plain": [
       "[nan,\n",
       " 'Very important',\n",
       " 'Not very important',\n",
       " 'Important',\n",
       " 'Somewhat important',\n",
       " 'Not at all important']"
      ]
     },
     "execution_count": 114,
     "metadata": {},
     "output_type": "execute_result"
    }
   ],
   "source": [
    "list(df_2017_keep['AssessJobDept'].unique())"
   ]
  },
  {
   "cell_type": "code",
   "execution_count": 115,
   "metadata": {
    "collapsed": false
   },
   "outputs": [
    {
     "data": {
      "text/plain": [
       "array([10.,  7.,  4.,  9.,  2., nan,  6.,  8.,  5.,  3.,  1.])"
      ]
     },
     "execution_count": 115,
     "metadata": {},
     "output_type": "execute_result"
    }
   ],
   "source": [
    "df_2018_keep['AssessJobDept'].unique()"
   ]
  },
  {
   "cell_type": "code",
   "execution_count": 116,
   "metadata": {
    "collapsed": true
   },
   "outputs": [],
   "source": [
    "df_2018_keep['AssessJobDept'] = df_2018_keep['AssessJobDept'].astype('category')"
   ]
  },
  {
   "cell_type": "code",
   "execution_count": 117,
   "metadata": {
    "collapsed": true
   },
   "outputs": [],
   "source": [
    "df_2017_keep['AssessJobDept'] = df_2017_keep.AssessJobDept.cat.add_categories('NaN').fillna('NaN')\n",
    "df_2018_keep['AssessJobDept'] = df_2018_keep.AssessJobDept.cat.add_categories('NaN').fillna('NaN')"
   ]
  },
  {
   "cell_type": "code",
   "execution_count": 118,
   "metadata": {
    "collapsed": true
   },
   "outputs": [],
   "source": [
    "df_2018_keep['AssessJobDept'] = df_2018_keep['AssessJobDept'].apply(convert_importance)"
   ]
  },
  {
   "cell_type": "markdown",
   "metadata": {},
   "source": [
    "### 3.20 - Assessing Jobs: Technology\n",
    "How important is the language, frameworks, and/or other technologies when assessing a potential job?"
   ]
  },
  {
   "cell_type": "code",
   "execution_count": 119,
   "metadata": {
    "collapsed": false
   },
   "outputs": [
    {
     "name": "stdout",
     "output_type": "stream",
     "text": [
      "AssessJobTech - percent missing in 2017: 47.06701479547433%\n",
      "AssessJobTech - percent missing in 2018: 3.866095881305007%\n"
     ]
    }
   ],
   "source": [
    "getMissingPercent('AssessJobTech')"
   ]
  },
  {
   "cell_type": "code",
   "execution_count": 120,
   "metadata": {
    "collapsed": true
   },
   "outputs": [],
   "source": [
    "df_2018_keep['AssessJobTech'] = df_2018_keep['AssessJobTech'].astype('category')"
   ]
  },
  {
   "cell_type": "code",
   "execution_count": 121,
   "metadata": {
    "collapsed": true
   },
   "outputs": [],
   "source": [
    "df_2017_keep['AssessJobTech'] = df_2017_keep.AssessJobTech.cat.add_categories('NaN').fillna('NaN')\n",
    "df_2018_keep['AssessJobTech'] = df_2018_keep.AssessJobTech.cat.add_categories('NaN').fillna('NaN')"
   ]
  },
  {
   "cell_type": "code",
   "execution_count": 122,
   "metadata": {
    "collapsed": true
   },
   "outputs": [],
   "source": [
    "df_2018_keep['AssessJobTech'] = df_2018_keep['AssessJobTech'].apply(convert_importance)"
   ]
  },
  {
   "cell_type": "markdown",
   "metadata": {},
   "source": [
    "### 3.21 - Assessing Jobs: Compensation\n",
    "How important are the benefits and compensation when assessing a potential job?"
   ]
  },
  {
   "cell_type": "code",
   "execution_count": 123,
   "metadata": {
    "collapsed": false
   },
   "outputs": [
    {
     "name": "stdout",
     "output_type": "stream",
     "text": [
      "AssessJobCompensation - percent missing in 2017: 47.11923411662315%\n",
      "AssessJobCompensation - percent missing in 2018: 3.866095881305007%\n"
     ]
    }
   ],
   "source": [
    "getMissingPercent('AssessJobCompensation')"
   ]
  },
  {
   "cell_type": "code",
   "execution_count": 124,
   "metadata": {
    "collapsed": true
   },
   "outputs": [],
   "source": [
    "df_2018_keep['AssessJobCompensation'] = df_2018_keep['AssessJobCompensation'].astype('category')"
   ]
  },
  {
   "cell_type": "code",
   "execution_count": 125,
   "metadata": {
    "collapsed": true
   },
   "outputs": [],
   "source": [
    "df_2017_keep['AssessJobCompensation'] = df_2017_keep.AssessJobCompensation.cat.add_categories('NaN').fillna('NaN')\n",
    "df_2018_keep['AssessJobCompensation'] = df_2018_keep.AssessJobCompensation.cat.add_categories('NaN').fillna('NaN')"
   ]
  },
  {
   "cell_type": "code",
   "execution_count": 126,
   "metadata": {
    "collapsed": true
   },
   "outputs": [],
   "source": [
    "df_2018_keep['AssessJobCompensation'] = df_2018_keep['AssessJobCompensation'].apply(convert_importance)"
   ]
  },
  {
   "cell_type": "markdown",
   "metadata": {},
   "source": [
    "### 3.22 -  Assessing Jobs: Office\n",
    "How important is the office environment/company culture when assessing a potential job?"
   ]
  },
  {
   "cell_type": "code",
   "execution_count": 127,
   "metadata": {
    "collapsed": false
   },
   "outputs": [
    {
     "name": "stdout",
     "output_type": "stream",
     "text": [
      "AssessJobOffice - percent missing in 2017: 47.180156657963444%\n",
      "AssessJobOffice - percent missing in 2018: 3.866095881305007%\n"
     ]
    }
   ],
   "source": [
    "getMissingPercent('AssessJobOffice')"
   ]
  },
  {
   "cell_type": "code",
   "execution_count": 128,
   "metadata": {
    "collapsed": true
   },
   "outputs": [],
   "source": [
    "df_2018_keep['AssessJobOffice'] = df_2018_keep['AssessJobOffice'].astype('category')"
   ]
  },
  {
   "cell_type": "code",
   "execution_count": 129,
   "metadata": {
    "collapsed": true
   },
   "outputs": [],
   "source": [
    "df_2017_keep['AssessJobOffice'] = df_2017_keep.AssessJobOffice.cat.add_categories('NaN').fillna('NaN')\n",
    "df_2018_keep['AssessJobOffice'] = df_2018_keep.AssessJobOffice.cat.add_categories('NaN').fillna('NaN')"
   ]
  },
  {
   "cell_type": "code",
   "execution_count": 130,
   "metadata": {
    "collapsed": true
   },
   "outputs": [],
   "source": [
    "df_2018_keep['AssessJobOffice'] = df_2018_keep['AssessJobOffice'].apply(convert_importance)"
   ]
  },
  {
   "cell_type": "markdown",
   "metadata": {},
   "source": [
    "### 3.23 - Assessing Jobs: Work Remotely\n",
    "How important is working from home/remotely when assessing a potential job?"
   ]
  },
  {
   "cell_type": "code",
   "execution_count": 131,
   "metadata": {
    "collapsed": false
   },
   "outputs": [
    {
     "name": "stdout",
     "output_type": "stream",
     "text": [
      "AssessJobRemote - percent missing in 2017: 47.14534377719756%\n",
      "AssessJobRemote - percent missing in 2018: 3.866095881305007%\n"
     ]
    }
   ],
   "source": [
    "getMissingPercent(\"AssessJobRemote\")"
   ]
  },
  {
   "cell_type": "code",
   "execution_count": 132,
   "metadata": {
    "collapsed": true
   },
   "outputs": [],
   "source": [
    "df_2018_keep['AssessJobRemote'] = df_2018_keep['AssessJobRemote'].astype('category')"
   ]
  },
  {
   "cell_type": "code",
   "execution_count": 133,
   "metadata": {
    "collapsed": true
   },
   "outputs": [],
   "source": [
    "df_2017_keep['AssessJobRemote'] = df_2017_keep.AssessJobRemote.cat.add_categories('NaN').fillna('NaN')\n",
    "df_2018_keep['AssessJobRemote'] = df_2018_keep.AssessJobRemote.cat.add_categories('NaN').fillna('NaN')"
   ]
  },
  {
   "cell_type": "code",
   "execution_count": 134,
   "metadata": {
    "collapsed": true
   },
   "outputs": [],
   "source": [
    "df_2018_keep['AssessJobRemote'] = df_2018_keep['AssessJobRemote'].apply(convert_importance)"
   ]
  },
  {
   "cell_type": "markdown",
   "metadata": {},
   "source": [
    "### 3.24 - Assessing Jobs: Professional Development\n",
    "How important are opportunities for professional development when assessing a potential job?"
   ]
  },
  {
   "cell_type": "code",
   "execution_count": 135,
   "metadata": {
    "collapsed": false
   },
   "outputs": [
    {
     "name": "stdout",
     "output_type": "stream",
     "text": [
      "AssessJobProfDevel - percent missing in 2017: 47.127937336814625%\n",
      "AssessJobProfDevel - percent missing in 2018: 3.866095881305007%\n"
     ]
    }
   ],
   "source": [
    "getMissingPercent('AssessJobProfDevel')"
   ]
  },
  {
   "cell_type": "code",
   "execution_count": 136,
   "metadata": {
    "collapsed": true
   },
   "outputs": [],
   "source": [
    "df_2018_keep['AssessJobProfDevel'] = df_2018_keep['AssessJobProfDevel'].astype('category')"
   ]
  },
  {
   "cell_type": "code",
   "execution_count": 137,
   "metadata": {
    "collapsed": true
   },
   "outputs": [],
   "source": [
    "df_2017_keep['AssessJobProfDevel'] = df_2017_keep.AssessJobProfDevel.cat.add_categories('NaN').fillna('NaN')\n",
    "df_2018_keep['AssessJobProfDevel'] = df_2018_keep.AssessJobProfDevel.cat.add_categories('NaN').fillna('NaN')"
   ]
  },
  {
   "cell_type": "code",
   "execution_count": 138,
   "metadata": {
    "collapsed": true
   },
   "outputs": [],
   "source": [
    "df_2018_keep['AssessJobProfDevel'] = df_2018_keep['AssessJobProfDevel'].apply(convert_importance)"
   ]
  },
  {
   "cell_type": "markdown",
   "metadata": {},
   "source": [
    "### 3.25 - Assessing Jobs: Diversity\n",
    "How important is the diversity of the company or organization when assessing a potential job?"
   ]
  },
  {
   "cell_type": "code",
   "execution_count": 139,
   "metadata": {
    "collapsed": false
   },
   "outputs": [
    {
     "name": "stdout",
     "output_type": "stream",
     "text": [
      "AssessJobDiversity - percent missing in 2017: 47.05831157528286%\n",
      "AssessJobDiversity - percent missing in 2018: 3.866095881305007%\n"
     ]
    }
   ],
   "source": [
    "getMissingPercent('AssessJobDiversity')"
   ]
  },
  {
   "cell_type": "code",
   "execution_count": 140,
   "metadata": {
    "collapsed": true
   },
   "outputs": [],
   "source": [
    "df_2018_keep['AssessJobDiversity'] = df_2018_keep['AssessJobDiversity'].astype('category')"
   ]
  },
  {
   "cell_type": "code",
   "execution_count": 141,
   "metadata": {
    "collapsed": true
   },
   "outputs": [],
   "source": [
    "df_2017_keep['AssessJobDiversity'] = df_2017_keep.AssessJobDiversity.cat.add_categories('NaN').fillna('NaN')\n",
    "df_2018_keep['AssessJobDiversity'] = df_2018_keep.AssessJobDiversity.cat.add_categories('NaN').fillna('NaN')"
   ]
  },
  {
   "cell_type": "code",
   "execution_count": 142,
   "metadata": {
    "collapsed": true
   },
   "outputs": [],
   "source": [
    "df_2018_keep['AssessJobDiversity'] = df_2018_keep['AssessJobDiversity'].apply(convert_importance)"
   ]
  },
  {
   "cell_type": "markdown",
   "metadata": {},
   "source": [
    "### 3.26 - Assessing Jobs: Product Impact\n",
    "How important is the impactfulness of the product or service the respondent would be working on when assessing a potential job?"
   ]
  },
  {
   "cell_type": "code",
   "execution_count": 143,
   "metadata": {
    "collapsed": false
   },
   "outputs": [
    {
     "name": "stdout",
     "output_type": "stream",
     "text": [
      "AssessJobProduct - percent missing in 2017: 47.136640557006096%\n",
      "AssessJobProduct - percent missing in 2018: 3.866095881305007%\n"
     ]
    }
   ],
   "source": [
    "getMissingPercent('AssessJobProduct')"
   ]
  },
  {
   "cell_type": "code",
   "execution_count": 144,
   "metadata": {
    "collapsed": true
   },
   "outputs": [],
   "source": [
    "df_2018_keep['AssessJobProduct'] = df_2018_keep['AssessJobProduct'].astype('category')"
   ]
  },
  {
   "cell_type": "code",
   "execution_count": 145,
   "metadata": {
    "collapsed": true
   },
   "outputs": [],
   "source": [
    "df_2017_keep['AssessJobProduct'] = df_2017_keep.AssessJobProduct.cat.add_categories('NaN').fillna('NaN')\n",
    "df_2018_keep['AssessJobProduct'] = df_2018_keep.AssessJobProduct.cat.add_categories('NaN').fillna('NaN')"
   ]
  },
  {
   "cell_type": "code",
   "execution_count": 146,
   "metadata": {
    "collapsed": true
   },
   "outputs": [],
   "source": [
    "df_2018_keep['AssessJobProduct'] = df_2018_keep['AssessJobProduct'].apply(convert_importance)"
   ]
  },
  {
   "cell_type": "markdown",
   "metadata": {},
   "source": [
    "### 3.27 - Assessing Jobs: Finances\n",
    "How important is the financial performance or funding status of the company when assessing a potential job?"
   ]
  },
  {
   "cell_type": "code",
   "execution_count": 147,
   "metadata": {
    "collapsed": false
   },
   "outputs": [
    {
     "name": "stdout",
     "output_type": "stream",
     "text": [
      "AssessJobFinances - percent missing in 2017: 47.10182767624021%\n",
      "AssessJobFinances - percent missing in 2018: 3.866095881305007%\n"
     ]
    }
   ],
   "source": [
    "getMissingPercent('AssessJobFinances')"
   ]
  },
  {
   "cell_type": "code",
   "execution_count": 148,
   "metadata": {
    "collapsed": false
   },
   "outputs": [],
   "source": [
    "df_2018_keep['AssessJobFinances'] = df_2018_keep['AssessJobFinances'].astype('category')"
   ]
  },
  {
   "cell_type": "code",
   "execution_count": 149,
   "metadata": {
    "collapsed": true
   },
   "outputs": [],
   "source": [
    "df_2017_keep['AssessJobFinances'] = df_2017_keep.AssessJobFinances.cat.add_categories('NaN').fillna('NaN')\n",
    "df_2018_keep['AssessJobFinances'] = df_2018_keep.AssessJobFinances.cat.add_categories('NaN').fillna('NaN')"
   ]
  },
  {
   "cell_type": "code",
   "execution_count": 150,
   "metadata": {
    "collapsed": true
   },
   "outputs": [],
   "source": [
    "df_2018_keep['AssessJobFinances'] = df_2018_keep['AssessJobFinances'].apply(convert_importance)"
   ]
  },
  {
   "cell_type": "markdown",
   "metadata": {},
   "source": [
    "### 3.28 - Reason for Updated CV\n",
    "What was the reason the respondent last updated their resume/CV?  They could only pick one response, but between the two years, the responses were vastly different.  I added categories as appropriate to each year."
   ]
  },
  {
   "cell_type": "code",
   "execution_count": 151,
   "metadata": {
    "collapsed": false
   },
   "outputs": [
    {
     "name": "stdout",
     "output_type": "stream",
     "text": [
      "UpdateCV - percent missing in 2017: 30.513489991296776%\n",
      "UpdateCV - percent missing in 2018: 3.6454040256321623%\n"
     ]
    }
   ],
   "source": [
    "getMissingPercent('UpdateCV')"
   ]
  },
  {
   "cell_type": "code",
   "execution_count": 152,
   "metadata": {
    "collapsed": false
   },
   "outputs": [
    {
     "data": {
      "text/plain": [
       "[nan,\n",
       " 'A recruiter contacted me',\n",
       " 'A friend told me about a job opportunity',\n",
       " 'I completed a major project, assignment, or contract',\n",
       " 'Something else',\n",
       " \"I saw an employer's advertisement\",\n",
       " 'I was just giving it a regular update',\n",
       " 'I received bad news about the future of my company or depart',\n",
       " 'I received negative feedback on my job performance']"
      ]
     },
     "execution_count": 152,
     "metadata": {},
     "output_type": "execute_result"
    }
   ],
   "source": [
    "list(df_2017_keep['UpdateCV'].unique())"
   ]
  },
  {
   "cell_type": "code",
   "execution_count": 153,
   "metadata": {
    "collapsed": false
   },
   "outputs": [
    {
     "data": {
      "text/plain": [
       "['I saw an employer’s advertisement',\n",
       " 'My job status or other personal status changed',\n",
       " 'I did not receive an expected change in compensation',\n",
       " 'A friend told me about a job opportunity',\n",
       " 'I had a negative experience or interaction at work',\n",
       " nan,\n",
       " 'A recruiter contacted me',\n",
       " 'I received bad news about the future of my company or department',\n",
       " 'I received negative feedback on my job performance']"
      ]
     },
     "execution_count": 153,
     "metadata": {},
     "output_type": "execute_result"
    }
   ],
   "source": [
    "list(df_2018_keep['UpdateCV'].unique())"
   ]
  },
  {
   "cell_type": "code",
   "execution_count": 154,
   "metadata": {
    "collapsed": true
   },
   "outputs": [],
   "source": [
    "df_2017_keep['UpdateCV'] = df_2017_keep.UpdateCV.cat.add_categories('NaN').fillna('NaN')\n",
    "df_2018_keep['UpdateCV'] = df_2018_keep.UpdateCV.cat.add_categories('NaN').fillna('NaN')"
   ]
  },
  {
   "cell_type": "code",
   "execution_count": 155,
   "metadata": {
    "collapsed": true
   },
   "outputs": [],
   "source": [
    "df_2017_keep['UpdateCV'] = df_2017_keep.UpdateCV.cat.add_categories(['My job status or other personal status changed',\n",
    "                                                                     'I did not receive an expected change in compensation',\n",
    "                                                                     'I had a negative experience or interaction at work',\n",
    "                                                                     'I received bad news about the future of my company or department'])"
   ]
  },
  {
   "cell_type": "code",
   "execution_count": 156,
   "metadata": {
    "collapsed": false
   },
   "outputs": [],
   "source": [
    "df_2018_keep['UpdateCV'] = df_2018_keep.UpdateCV.cat.add_categories(['I completed a major project, assignment, or contract',\n",
    "                                                                     'Something else',\n",
    "                                                                     'I was just giving it a regular update'])"
   ]
  },
  {
   "cell_type": "markdown",
   "metadata": {},
   "source": [
    "### 3.29 -  Informal Schooling Education Types\n",
    "The respondent is asked what types of activities they have participated in outside of their formal schooling.  Multiple answers are allowed, resulting in ~425 unique responses for each year.  Answers include anything from taking an online programming course, participating in coding competitions or hackathons, and contributing to open source software."
   ]
  },
  {
   "cell_type": "code",
   "execution_count": 157,
   "metadata": {
    "collapsed": false
   },
   "outputs": [
    {
     "name": "stdout",
     "output_type": "stream",
     "text": [
      "EducationTypes - percent missing in 2017: 29.89556135770235%\n",
      "EducationTypes - percent missing in 2018: 3.4965034965034967%\n"
     ]
    }
   ],
   "source": [
    "getMissingPercent('EducationTypes')"
   ]
  },
  {
   "cell_type": "code",
   "execution_count": 158,
   "metadata": {
    "collapsed": false
   },
   "outputs": [
    {
     "data": {
      "text/plain": [
       "[Self-taught; Coding competition; Hackathon; Op..., NaN, On-the-job training; Self-taught; Coding compe..., Self-taught, Part-time/evening course; Self-taught; Coding ..., ..., Online course; Bootcamp; Part-time/evening cou..., Bootcamp; On-the-job training; Open source con..., Online course; Industry certification; Coding ..., Online course; Bootcamp; Part-time/evening cou..., Online course; Bootcamp; Part-time/evening course]\n",
       "Length: 348\n",
       "Categories (347, object): [Self-taught; Coding competition; Hackathon; Op..., On-the-job training; Self-taught; Coding compe..., Self-taught, Part-time/evening course; Self-taught; Coding ..., ..., Bootcamp; On-the-job training; Open source con..., Online course; Industry certification; Coding ..., Online course; Bootcamp; Part-time/evening cou..., Online course; Bootcamp; Part-time/evening course]"
      ]
     },
     "execution_count": 158,
     "metadata": {},
     "output_type": "execute_result"
    }
   ],
   "source": [
    "df_2017_keep['EducationTypes'].unique()"
   ]
  },
  {
   "cell_type": "code",
   "execution_count": 159,
   "metadata": {
    "collapsed": true
   },
   "outputs": [],
   "source": [
    "df_2017_keep['EducationTypes']= df_2017_keep.EducationTypes.cat.add_categories('NaN').fillna('NaN')\n",
    "df_2018_keep['EducationTypes']= df_2018_keep.EducationTypes.cat.add_categories('NaN').fillna('NaN')"
   ]
  },
  {
   "cell_type": "code",
   "execution_count": 160,
   "metadata": {
    "collapsed": true
   },
   "outputs": [],
   "source": [
    "df_2017_keep['EducationTypes_Count'] = df_2017_keep['EducationTypes'].apply(get_count)\n",
    "df_2018_keep['EducationTypes_Count'] = df_2018_keep['EducationTypes'].apply(get_count)"
   ]
  },
  {
   "cell_type": "markdown",
   "metadata": {},
   "source": [
    "### 3.30 - Resources for the Self Taught \n",
    "Respondents who indicated they taught themselves a programming technology without taking a course are asked what resources they went to.  Sources include books, Stack Overflow, and official documentation."
   ]
  },
  {
   "cell_type": "code",
   "execution_count": 161,
   "metadata": {
    "collapsed": false
   },
   "outputs": [
    {
     "name": "stdout",
     "output_type": "stream",
     "text": [
      "SelfTaughtTypes - percent missing in 2017: 35.38729329852045%\n",
      "SelfTaughtTypes - percent missing in 2018: 14.456646015581375%\n"
     ]
    }
   ],
   "source": [
    "getMissingPercent('SelfTaughtTypes')"
   ]
  },
  {
   "cell_type": "code",
   "execution_count": 162,
   "metadata": {
    "collapsed": false
   },
   "outputs": [],
   "source": [
    "df_2017_keep['SelfTaughtTypes']= df_2017_keep.SelfTaughtTypes.cat.add_categories('NaN').fillna('NaN')\n",
    "df_2018_keep['SelfTaughtTypes']= df_2018_keep.SelfTaughtTypes.cat.add_categories('NaN').fillna('NaN')"
   ]
  },
  {
   "cell_type": "markdown",
   "metadata": {},
   "source": [
    "### 3.31 - Time After Bootcamp to get Hired\n",
    "For respondents who indicated they went to a bootcamp, this question asks how long did it take for each person to get hired after the camp. Both years have essentially the same options, but the wording is slightly different.  \n",
    "\n",
    "Also note that there is an extremely high number of missing data for both years."
   ]
  },
  {
   "cell_type": "code",
   "execution_count": 163,
   "metadata": {
    "collapsed": false
   },
   "outputs": [
    {
     "name": "stdout",
     "output_type": "stream",
     "text": [
      "TimeAfterBootcamp - percent missing in 2017: 94.02088772845954%\n",
      "TimeAfterBootcamp - percent missing in 2018: 90.71498843361961%\n"
     ]
    }
   ],
   "source": [
    "getMissingPercent('TimeAfterBootcamp')"
   ]
  },
  {
   "cell_type": "code",
   "execution_count": 164,
   "metadata": {
    "collapsed": false
   },
   "outputs": [
    {
     "data": {
      "text/plain": [
       "[nan,\n",
       " 'I already had a job as a developer when I started the program',\n",
       " 'One to three months',\n",
       " 'I got a job as a developer before completing the program',\n",
       " 'Less than a month',\n",
       " 'Four to six months',\n",
       " 'Immediately upon graduating',\n",
       " 'Longer than a year',\n",
       " 'Six months to a year',\n",
       " \"I haven't gotten a job as a developer yet\"]"
      ]
     },
     "execution_count": 164,
     "metadata": {},
     "output_type": "execute_result"
    }
   ],
   "source": [
    "list(df_2017_keep['TimeAfterBootcamp'].unique())"
   ]
  },
  {
   "cell_type": "code",
   "execution_count": 165,
   "metadata": {
    "collapsed": false
   },
   "outputs": [
    {
     "data": {
      "text/plain": [
       "[nan,\n",
       " 'I already had a full-time job as a developer when I began the program',\n",
       " 'Immediately after graduating',\n",
       " 'Four to six months',\n",
       " 'One to three months',\n",
       " 'I haven’t gotten a developer job',\n",
       " 'Six months to a year',\n",
       " 'Less than a month',\n",
       " 'Longer than a year']"
      ]
     },
     "execution_count": 165,
     "metadata": {},
     "output_type": "execute_result"
    }
   ],
   "source": [
    "list(df_2018_keep['TimeAfterBootcamp'].unique())"
   ]
  },
  {
   "cell_type": "code",
   "execution_count": 166,
   "metadata": {
    "collapsed": false
   },
   "outputs": [],
   "source": [
    "df_2017_keep['TimeAfterBootcamp']= df_2017_keep.TimeAfterBootcamp.cat.add_categories('NaN').fillna('NaN')\n",
    "df_2018_keep['TimeAfterBootcamp']= df_2018_keep.TimeAfterBootcamp.cat.add_categories('NaN').fillna('NaN')"
   ]
  },
  {
   "cell_type": "code",
   "execution_count": 167,
   "metadata": {
    "collapsed": false
   },
   "outputs": [],
   "source": [
    "def convert_TimeAfterBootcamp(col):\n",
    "    if col ==  'I already had a full-time job as a developer when I began the program':\n",
    "        return  'I already had a job as a developer when I started the program'\n",
    "    elif col ==  'Immediately after graduating':\n",
    "        return  'Immediately upon graduating'\n",
    "    elif col ==  'I haven’t gotten a developer job':\n",
    "        return  \"I haven't gotten a job as a developer yet\"\n",
    "    else:\n",
    "        return col"
   ]
  },
  {
   "cell_type": "code",
   "execution_count": 168,
   "metadata": {
    "collapsed": true
   },
   "outputs": [],
   "source": [
    "df_2018_keep['TimeAfterBootcamp'] = df_2018_keep['TimeAfterBootcamp'].apply(convert_TimeAfterBootcamp)"
   ]
  },
  {
   "cell_type": "code",
   "execution_count": 169,
   "metadata": {
    "collapsed": true
   },
   "outputs": [],
   "source": [
    "df_2018_keep['TimeAfterBootcamp'] = df_2018_keep.TimeAfterBootcamp.cat.add_categories('I got a job as a developer before completing the program')"
   ]
  },
  {
   "cell_type": "markdown",
   "metadata": {},
   "source": [
    "### 3.32 - Languages Worked With\n",
    "What programming languages has the respondent worked with extensively in the past year?  Multiple languages are allowed, which gives many unique variables."
   ]
  },
  {
   "cell_type": "code",
   "execution_count": 170,
   "metadata": {
    "collapsed": false
   },
   "outputs": [
    {
     "name": "stdout",
     "output_type": "stream",
     "text": [
      "LanguageWorkedWith - percent missing in 2017: 2.0365535248041775%\n",
      "LanguageWorkedWith - percent missing in 2018: 2.0925842218617885%\n"
     ]
    }
   ],
   "source": [
    "getMissingPercent('LanguageWorkedWith')"
   ]
  },
  {
   "cell_type": "code",
   "execution_count": 171,
   "metadata": {
    "collapsed": false
   },
   "outputs": [],
   "source": [
    "df_2017_keep['LanguageWorkedWith']= df_2017_keep.LanguageWorkedWith.cat.add_categories('NaN').fillna('NaN')\n",
    "df_2018_keep['LanguageWorkedWith']= df_2018_keep.LanguageWorkedWith.cat.add_categories('NaN').fillna('NaN')"
   ]
  },
  {
   "cell_type": "code",
   "execution_count": 172,
   "metadata": {
    "collapsed": true
   },
   "outputs": [],
   "source": [
    "df_2017_keep['LanguageWorkedWith_Count'] = df_2017_keep['LanguageWorkedWith'].apply(get_count)\n",
    "df_2018_keep['LanguageWorkedWith_Count'] = df_2018_keep['LanguageWorkedWith'].apply(get_count)"
   ]
  },
  {
   "cell_type": "markdown",
   "metadata": {},
   "source": [
    "### 3.33 - Languages Want to Work With\n",
    "Similar to section 3.32, but with languages the respondent would like to learn in the next year."
   ]
  },
  {
   "cell_type": "code",
   "execution_count": 173,
   "metadata": {
    "collapsed": false
   },
   "outputs": [
    {
     "name": "stdout",
     "output_type": "stream",
     "text": [
      "LanguageDesireNextYear - percent missing in 2017: 9.138381201044385%\n",
      "LanguageDesireNextYear - percent missing in 2018: 7.737509638650324%\n"
     ]
    }
   ],
   "source": [
    "getMissingPercent('LanguageDesireNextYear')"
   ]
  },
  {
   "cell_type": "code",
   "execution_count": 174,
   "metadata": {
    "collapsed": false
   },
   "outputs": [],
   "source": [
    "df_2017_keep['LanguageDesireNextYear']= df_2017_keep.LanguageDesireNextYear.cat.add_categories('NaN').fillna('NaN')\n",
    "df_2018_keep['LanguageDesireNextYear']= df_2018_keep.LanguageDesireNextYear.cat.add_categories('NaN').fillna('NaN')"
   ]
  },
  {
   "cell_type": "code",
   "execution_count": 175,
   "metadata": {
    "collapsed": true
   },
   "outputs": [],
   "source": [
    "df_2017_keep['LanguageDesireNextYear_Count'] = df_2017_keep['LanguageDesireNextYear'].apply(get_count)\n",
    "df_2018_keep['LanguageDesireNextYear_Count'] = df_2018_keep['LanguageDesireNextYear'].apply(get_count)"
   ]
  },
  {
   "cell_type": "markdown",
   "metadata": {},
   "source": [
    "### 3.34 - Frameworks Worked With\n",
    "Similar to section 3.32, but with frameworks (ex: Django, TensorFlow, Angular, etc)"
   ]
  },
  {
   "cell_type": "code",
   "execution_count": 176,
   "metadata": {
    "collapsed": false
   },
   "outputs": [
    {
     "name": "stdout",
     "output_type": "stream",
     "text": [
      "FrameworkWorkedWith - percent missing in 2017: 41.72323759791123%\n",
      "FrameworkWorkedWith - percent missing in 2018: 30.862293599936187%\n"
     ]
    }
   ],
   "source": [
    "getMissingPercent('FrameworkWorkedWith')"
   ]
  },
  {
   "cell_type": "code",
   "execution_count": 177,
   "metadata": {
    "collapsed": false
   },
   "outputs": [],
   "source": [
    "df_2017_keep['FrameworkWorkedWith']= df_2017_keep.FrameworkWorkedWith.cat.add_categories('NaN').fillna('NaN')\n",
    "df_2018_keep['FrameworkWorkedWith']= df_2018_keep.FrameworkWorkedWith.cat.add_categories('NaN').fillna('NaN')"
   ]
  },
  {
   "cell_type": "code",
   "execution_count": 178,
   "metadata": {
    "collapsed": true
   },
   "outputs": [],
   "source": [
    "df_2017_keep['FrameworkWorkedWith_Count'] = df_2017_keep['FrameworkWorkedWith'].apply(get_count)\n",
    "df_2018_keep['FrameworkWorkedWith_Count'] = df_2018_keep['FrameworkWorkedWith'].apply(get_count)"
   ]
  },
  {
   "cell_type": "markdown",
   "metadata": {},
   "source": [
    "### 3.35 - Frameworks Want to Work With\n",
    "Similar to section 3.33 and 3.34, but with frameworks the respondent would like to learn next year."
   ]
  },
  {
   "cell_type": "code",
   "execution_count": 179,
   "metadata": {
    "collapsed": false
   },
   "outputs": [
    {
     "name": "stdout",
     "output_type": "stream",
     "text": [
      "FrameworkDesireNextYear - percent missing in 2017: 33.072236727589214%\n",
      "FrameworkDesireNextYear - percent missing in 2018: 27.251455768566036%\n"
     ]
    }
   ],
   "source": [
    "getMissingPercent('FrameworkDesireNextYear')"
   ]
  },
  {
   "cell_type": "code",
   "execution_count": 180,
   "metadata": {
    "collapsed": false
   },
   "outputs": [],
   "source": [
    "df_2017_keep['FrameworkDesireNextYear']= df_2017_keep.FrameworkDesireNextYear.cat.add_categories('NaN').fillna('NaN')\n",
    "df_2018_keep['FrameworkDesireNextYear']= df_2018_keep.FrameworkDesireNextYear.cat.add_categories('NaN').fillna('NaN')"
   ]
  },
  {
   "cell_type": "code",
   "execution_count": 181,
   "metadata": {
    "collapsed": true
   },
   "outputs": [],
   "source": [
    "df_2017_keep['FrameworkDesireNextYear_Count'] = df_2017_keep['FrameworkDesireNextYear'].apply(get_count)\n",
    "df_2018_keep['FrameworkDesireNextYear_Count'] = df_2018_keep['FrameworkDesireNextYear'].apply(get_count)"
   ]
  },
  {
   "cell_type": "markdown",
   "metadata": {},
   "source": [
    "### 3.36 - Databases Worked With\n",
    "Similar to section 3.32, but with databases (ex: Microsoft Azure, MySQL, MongoDB, etc.)"
   ]
  },
  {
   "cell_type": "code",
   "execution_count": 182,
   "metadata": {
    "collapsed": false
   },
   "outputs": [
    {
     "name": "stdout",
     "output_type": "stream",
     "text": [
      "DatabaseWorkedWith - percent missing in 2017: 18.085291557876417%\n",
      "DatabaseWorkedWith - percent missing in 2018: 14.469940705682149%\n"
     ]
    }
   ],
   "source": [
    "getMissingPercent('DatabaseWorkedWith')"
   ]
  },
  {
   "cell_type": "code",
   "execution_count": 183,
   "metadata": {
    "collapsed": false
   },
   "outputs": [],
   "source": [
    "df_2017_keep['DatabaseWorkedWith']= df_2017_keep.DatabaseWorkedWith.cat.add_categories('NaN').fillna('NaN')\n",
    "df_2018_keep['DatabaseWorkedWith']= df_2018_keep.DatabaseWorkedWith.cat.add_categories('NaN').fillna('NaN')"
   ]
  },
  {
   "cell_type": "code",
   "execution_count": 184,
   "metadata": {
    "collapsed": true
   },
   "outputs": [],
   "source": [
    "df_2017_keep['DatabaseWorkedWith_Count'] = df_2017_keep['DatabaseWorkedWith'].apply(get_count)\n",
    "df_2018_keep['DatabaseWorkedWith_Count'] = df_2018_keep['DatabaseWorkedWith'].apply(get_count)"
   ]
  },
  {
   "cell_type": "markdown",
   "metadata": {},
   "source": [
    "### 3.37 - Databases Want to Work With\n",
    "Similar to section 3.33, but with databases."
   ]
  },
  {
   "cell_type": "code",
   "execution_count": 185,
   "metadata": {
    "collapsed": false
   },
   "outputs": [
    {
     "name": "stdout",
     "output_type": "stream",
     "text": [
      "DatabaseDesireNextYear - percent missing in 2017: 30.43516100957354%\n",
      "DatabaseDesireNextYear - percent missing in 2018: 25.93262251056928%\n"
     ]
    }
   ],
   "source": [
    "getMissingPercent('DatabaseDesireNextYear')"
   ]
  },
  {
   "cell_type": "code",
   "execution_count": 186,
   "metadata": {
    "collapsed": true
   },
   "outputs": [],
   "source": [
    "df_2017_keep['DatabaseDesireNextYear']= df_2017_keep.DatabaseDesireNextYear.cat.add_categories('NaN').fillna('NaN')\n",
    "df_2018_keep['DatabaseDesireNextYear']= df_2018_keep.DatabaseDesireNextYear.cat.add_categories('NaN').fillna('NaN')"
   ]
  },
  {
   "cell_type": "code",
   "execution_count": 187,
   "metadata": {
    "collapsed": true
   },
   "outputs": [],
   "source": [
    "df_2017_keep['DatabaseDesireNextYear_Count'] = df_2017_keep['DatabaseDesireNextYear'].apply(get_count)\n",
    "df_2018_keep['DatabaseDesireNextYear_Count'] = df_2018_keep['DatabaseDesireNextYear'].apply(get_count)"
   ]
  },
  {
   "cell_type": "markdown",
   "metadata": {},
   "source": [
    "### 3.38 - Platforms Worked With\n",
    "Similar to section 3.32 but with platforms (ex: Linux, Microsoft Azure, AWS, etc.)"
   ]
  },
  {
   "cell_type": "code",
   "execution_count": 188,
   "metadata": {
    "collapsed": false
   },
   "outputs": [
    {
     "name": "stdout",
     "output_type": "stream",
     "text": [
      "PlatformWorkedWith - percent missing in 2017: 22.010443864229764%\n",
      "PlatformWorkedWith - percent missing in 2018: 15.358026004413839%\n"
     ]
    }
   ],
   "source": [
    "getMissingPercent('PlatformWorkedWith')"
   ]
  },
  {
   "cell_type": "code",
   "execution_count": 189,
   "metadata": {
    "collapsed": true
   },
   "outputs": [],
   "source": [
    "df_2017_keep['PlatformWorkedWith']= df_2017_keep.PlatformWorkedWith.cat.add_categories('NaN').fillna('NaN')\n",
    "df_2018_keep['PlatformWorkedWith']= df_2018_keep.PlatformWorkedWith.cat.add_categories('NaN').fillna('NaN')"
   ]
  },
  {
   "cell_type": "code",
   "execution_count": 190,
   "metadata": {
    "collapsed": true
   },
   "outputs": [],
   "source": [
    "df_2017_keep['PlatformWorkedWith_Count'] = df_2017_keep['PlatformWorkedWith'].apply(get_count)\n",
    "df_2018_keep['PlatformWorkedWith_Count'] = df_2018_keep['PlatformWorkedWith'].apply(get_count)"
   ]
  },
  {
   "cell_type": "markdown",
   "metadata": {},
   "source": [
    "### 3.39 - Platforms Want to Work With\n",
    "Similar to section 3.33, but with platforms."
   ]
  },
  {
   "cell_type": "code",
   "execution_count": 191,
   "metadata": {
    "collapsed": false
   },
   "outputs": [
    {
     "name": "stdout",
     "output_type": "stream",
     "text": [
      "PlatformDesireNextYear - percent missing in 2017: 24.04699738903394%\n",
      "PlatformDesireNextYear - percent missing in 2018: 20.904570714456646%\n"
     ]
    }
   ],
   "source": [
    "getMissingPercent('PlatformDesireNextYear')"
   ]
  },
  {
   "cell_type": "code",
   "execution_count": 192,
   "metadata": {
    "collapsed": true
   },
   "outputs": [],
   "source": [
    "df_2017_keep['PlatformDesireNextYear']= df_2017_keep.PlatformDesireNextYear.cat.add_categories('NaN').fillna('NaN')\n",
    "df_2018_keep['PlatformDesireNextYear']= df_2018_keep.PlatformDesireNextYear.cat.add_categories('NaN').fillna('NaN')"
   ]
  },
  {
   "cell_type": "code",
   "execution_count": 193,
   "metadata": {
    "collapsed": true
   },
   "outputs": [],
   "source": [
    "df_2017_keep['PlatformDesireNextYear_Count'] = df_2017_keep['PlatformDesireNextYear'].apply(get_count)\n",
    "df_2018_keep['PlatformDesireNextYear_Count'] = df_2018_keep['PlatformDesireNextYear'].apply(get_count)"
   ]
  },
  {
   "cell_type": "markdown",
   "metadata": {},
   "source": [
    "### 3.40 - IDE\n",
    "What development environment does the respondent use on a regular basis?  Examples include Sublime, RStudio, PyCharm, etc.  Multiple answers allowed."
   ]
  },
  {
   "cell_type": "code",
   "execution_count": 194,
   "metadata": {
    "collapsed": false
   },
   "outputs": [
    {
     "name": "stdout",
     "output_type": "stream",
     "text": [
      "IDE - percent missing in 2017: 3.29852045256745%\n",
      "IDE - percent missing in 2018: 3.1242521736818314%\n"
     ]
    }
   ],
   "source": [
    "getMissingPercent('IDE')"
   ]
  },
  {
   "cell_type": "code",
   "execution_count": 195,
   "metadata": {
    "collapsed": false
   },
   "outputs": [],
   "source": [
    "df_2017_keep['IDE']= df_2017_keep.IDE.cat.add_categories('NaN').fillna('NaN')\n",
    "df_2018_keep['IDE']= df_2018_keep.IDE.cat.add_categories('NaN').fillna('NaN')"
   ]
  },
  {
   "cell_type": "code",
   "execution_count": 196,
   "metadata": {
    "collapsed": true
   },
   "outputs": [],
   "source": [
    "df_2017_keep['IDE_Count'] = df_2017_keep['IDE'].apply(get_count)\n",
    "df_2018_keep['IDE_Count'] = df_2018_keep['IDE'].apply(get_count)"
   ]
  },
  {
   "cell_type": "markdown",
   "metadata": {},
   "source": [
    "### 3.41 - Methodology\n",
    "Asks the respondent what types of methodology they are familiar with.  Examples include pair programming, lean, and scrum.  Multiple answers allowed."
   ]
  },
  {
   "cell_type": "code",
   "execution_count": 197,
   "metadata": {
    "collapsed": false
   },
   "outputs": [
    {
     "name": "stdout",
     "output_type": "stream",
     "text": [
      "Methodology - percent missing in 2017: 35.50043516100958%\n",
      "Methodology - percent missing in 2018: 16.323220505730013%\n"
     ]
    }
   ],
   "source": [
    "getMissingPercent('Methodology')"
   ]
  },
  {
   "cell_type": "code",
   "execution_count": 198,
   "metadata": {
    "collapsed": false
   },
   "outputs": [],
   "source": [
    "df_2017_keep['Methodology']= df_2017_keep.Methodology.cat.add_categories('NaN').fillna('NaN')\n",
    "df_2018_keep['Methodology']= df_2018_keep.Methodology.cat.add_categories('NaN').fillna('NaN')"
   ]
  },
  {
   "cell_type": "code",
   "execution_count": 199,
   "metadata": {
    "collapsed": false
   },
   "outputs": [],
   "source": [
    "df_2017_keep['Methodology_Count'] = df_2017_keep['Methodology'].apply(get_count)\n",
    "df_2018_keep['Methodology_Count'] = df_2018_keep['Methodology'].apply(get_count)"
   ]
  },
  {
   "cell_type": "markdown",
   "metadata": {},
   "source": [
    "### 3.42 - Version Control\n",
    "Asks the respondent what version control (if at all) they use.  Multiple answers allowed."
   ]
  },
  {
   "cell_type": "code",
   "execution_count": 200,
   "metadata": {
    "collapsed": false
   },
   "outputs": [
    {
     "name": "stdout",
     "output_type": "stream",
     "text": [
      "VersionControl - percent missing in 2017: 29.67798085291558%\n",
      "VersionControl - percent missing in 2018: 3.6081788933499963%\n"
     ]
    }
   ],
   "source": [
    "getMissingPercent('VersionControl')"
   ]
  },
  {
   "cell_type": "code",
   "execution_count": 201,
   "metadata": {
    "collapsed": false
   },
   "outputs": [],
   "source": [
    "df_2017_keep['VersionControl']= df_2017_keep.VersionControl.cat.add_categories('NaN').fillna('NaN')\n",
    "df_2018_keep['VersionControl']= df_2018_keep.VersionControl.cat.add_categories('NaN').fillna('NaN')"
   ]
  },
  {
   "cell_type": "code",
   "execution_count": 202,
   "metadata": {
    "collapsed": true
   },
   "outputs": [],
   "source": [
    "df_2017_keep['VersionControl_Count'] = df_2017_keep['VersionControl'].apply(get_count)\n",
    "df_2018_keep['VersionControl_Count'] = df_2018_keep['VersionControl'].apply(get_count)"
   ]
  },
  {
   "cell_type": "markdown",
   "metadata": {},
   "source": [
    "### 3.43 - Frequency of Checking in Code\n",
    "Asks the respondent over the past year, how often they checked in or committed code.  Answers are similarly worded for the two years.  "
   ]
  },
  {
   "cell_type": "code",
   "execution_count": 203,
   "metadata": {
    "collapsed": false
   },
   "outputs": [
    {
     "name": "stdout",
     "output_type": "stream",
     "text": [
      "CheckInCode - percent missing in 2017: 29.521322889469104%\n",
      "CheckInCode - percent missing in 2018: 4.219734637985589%\n"
     ]
    }
   ],
   "source": [
    "getMissingPercent('CheckInCode')"
   ]
  },
  {
   "cell_type": "code",
   "execution_count": 204,
   "metadata": {
    "collapsed": false
   },
   "outputs": [
    {
     "data": {
      "text/plain": [
       "['Multiple times a day',\n",
       " nan,\n",
       " 'A few times a month',\n",
       " 'Once a day',\n",
       " 'A few times a week',\n",
       " 'Never',\n",
       " 'Just a few times over the year']"
      ]
     },
     "execution_count": 204,
     "metadata": {},
     "output_type": "execute_result"
    }
   ],
   "source": [
    "list(df_2017_keep['CheckInCode'].unique())"
   ]
  },
  {
   "cell_type": "code",
   "execution_count": 205,
   "metadata": {
    "collapsed": false
   },
   "outputs": [
    {
     "data": {
      "text/plain": [
       "['A few times per week',\n",
       " 'Weekly or a few times per month',\n",
       " 'Multiple times per day',\n",
       " 'Never',\n",
       " 'Less than once per month',\n",
       " 'Once a day',\n",
       " nan]"
      ]
     },
     "execution_count": 205,
     "metadata": {},
     "output_type": "execute_result"
    }
   ],
   "source": [
    "list(df_2018_keep['CheckInCode'].unique())"
   ]
  },
  {
   "cell_type": "code",
   "execution_count": 206,
   "metadata": {
    "collapsed": true
   },
   "outputs": [],
   "source": [
    "df_2017_keep['CheckInCode']= df_2017_keep.CheckInCode.cat.add_categories('NaN').fillna('NaN')\n",
    "df_2018_keep['CheckInCode']= df_2018_keep.CheckInCode.cat.add_categories('NaN').fillna('NaN')"
   ]
  },
  {
   "cell_type": "code",
   "execution_count": 207,
   "metadata": {
    "collapsed": true
   },
   "outputs": [],
   "source": [
    "checkInCode_dict = { 'Just a few times over the year': 'Less than once per month',  'A few times a month':  'Weekly or a few times per month',\n",
    "                   'Multiple times a day':  'Multiple times per day',  'Once a day':  'Once a day',  'A few times a week': 'A few times per week',\n",
    "                     'Never':  'Never', 'NaN': 'NaN'}"
   ]
  },
  {
   "cell_type": "code",
   "execution_count": 208,
   "metadata": {
    "collapsed": true
   },
   "outputs": [],
   "source": [
    "def convert_checkInCode(col):\n",
    "    return checkInCode_dict[col]"
   ]
  },
  {
   "cell_type": "code",
   "execution_count": 209,
   "metadata": {
    "collapsed": false
   },
   "outputs": [],
   "source": [
    "df_2017_keep['CheckInCode'] = df_2017_keep['CheckInCode'].apply(convert_checkInCode)"
   ]
  },
  {
   "cell_type": "markdown",
   "metadata": {},
   "source": [
    "### 3.44 - Stack Overflow Jobs\n",
    "Respondents are asked if they have ever used or visited the Stack Overflow Jobs webpage.  It was difficult to combine responses between the two years, so I simplified answers to yes or no."
   ]
  },
  {
   "cell_type": "code",
   "execution_count": 210,
   "metadata": {
    "collapsed": false
   },
   "outputs": [
    {
     "name": "stdout",
     "output_type": "stream",
     "text": [
      "StackOverflowJobs - percent missing in 2017: 7.6153176675369885%\n",
      "StackOverflowJobs - percent missing in 2018: 2.6057592597516552%\n"
     ]
    }
   ],
   "source": [
    "getMissingPercent('StackOverflowJobs')"
   ]
  },
  {
   "cell_type": "code",
   "execution_count": 211,
   "metadata": {
    "collapsed": false
   },
   "outputs": [
    {
     "data": {
      "text/plain": [
       "[\"Haven't done at all\",\n",
       " 'Several times',\n",
       " 'Once or twice',\n",
       " nan,\n",
       " 'At least once each week',\n",
       " 'At least once each day']"
      ]
     },
     "execution_count": 211,
     "metadata": {},
     "output_type": "execute_result"
    }
   ],
   "source": [
    "list(df_2017_keep['StackOverflowJobs'].unique())"
   ]
  },
  {
   "cell_type": "code",
   "execution_count": 212,
   "metadata": {
    "collapsed": false
   },
   "outputs": [
    {
     "data": {
      "text/plain": [
       "['Yes',\n",
       " 'No, I knew that Stack Overflow had a jobs board but have never used or visited it',\n",
       " \"No, I didn't know that Stack Overflow had a jobs board\",\n",
       " nan]"
      ]
     },
     "execution_count": 212,
     "metadata": {},
     "output_type": "execute_result"
    }
   ],
   "source": [
    "list(df_2018_keep['StackOverflowJobs'].unique())"
   ]
  },
  {
   "cell_type": "code",
   "execution_count": 213,
   "metadata": {
    "collapsed": true
   },
   "outputs": [],
   "source": [
    "df_2017_keep['StackOverflowJobs']= df_2017_keep.StackOverflowJobs.cat.add_categories('NaN').fillna('NaN')\n",
    "df_2018_keep['StackOverflowJobs']= df_2018_keep.StackOverflowJobs.cat.add_categories('NaN').fillna('NaN')"
   ]
  },
  {
   "cell_type": "code",
   "execution_count": 214,
   "metadata": {
    "collapsed": true
   },
   "outputs": [],
   "source": [
    "SOJobs_dict = {'Yes': 'Yes', 'No, I knew that Stack Overflow had a jobs board but have never used or visited it': 'No',\n",
    "              \"No, I didn't know that Stack Overflow had a jobs board\": 'No', \"Haven't done at all\": 'No', 'Several times': 'Yes',\n",
    "              'Once or twice': 'Yes', 'At least once each week': 'Yes', 'At least once each day': 'Yes', 'NaN': 'NaN'}"
   ]
  },
  {
   "cell_type": "code",
   "execution_count": 215,
   "metadata": {
    "collapsed": true
   },
   "outputs": [],
   "source": [
    "def convert_SOJobs(col):\n",
    "    return SOJobs_dict[col]"
   ]
  },
  {
   "cell_type": "code",
   "execution_count": 216,
   "metadata": {
    "collapsed": false
   },
   "outputs": [],
   "source": [
    "df_2017_keep['StackOverflowJobs'] = df_2017_keep['StackOverflowJobs'].apply(convert_SOJobs)\n",
    "df_2018_keep['StackOverflowJobs'] = df_2018_keep['StackOverflowJobs'].apply(convert_SOJobs)"
   ]
  },
  {
   "cell_type": "markdown",
   "metadata": {},
   "source": [
    "### 3.45 -  Gender\n",
    "Respondents are asked what gender(s) they identify with.  Multiple answers allowed, so there are more unique answers than just your typical male/female binary."
   ]
  },
  {
   "cell_type": "code",
   "execution_count": 217,
   "metadata": {
    "collapsed": false
   },
   "outputs": [
    {
     "name": "stdout",
     "output_type": "stream",
     "text": [
      "Gender - percent missing in 2017: 5.230635335073977%\n",
      "Gender - percent missing in 2018: 5.987928421388498%\n"
     ]
    }
   ],
   "source": [
    "getMissingPercent('Gender')"
   ]
  },
  {
   "cell_type": "code",
   "execution_count": 218,
   "metadata": {
    "collapsed": false
   },
   "outputs": [
    {
     "data": {
      "text/plain": [
       "[Male, Female, NaN, Other, Female; Transgender, ..., Male; Female; Transgender, Transgender, Male; Gender non-conforming; Other, Female; Transgender; Other, Male; Transgender; Other]\n",
       "Length: 20\n",
       "Categories (19, object): [Male, Female, Other, Female; Transgender, ..., Transgender, Male; Gender non-conforming; Other, Female; Transgender; Other, Male; Transgender; Other]"
      ]
     },
     "execution_count": 218,
     "metadata": {},
     "output_type": "execute_result"
    }
   ],
   "source": [
    "df_2017_keep['Gender'].unique()"
   ]
  },
  {
   "cell_type": "code",
   "execution_count": 219,
   "metadata": {
    "collapsed": false
   },
   "outputs": [
    {
     "data": {
      "text/plain": [
       "[Male, Female;Male;Transgender;Non-binary, genderquee..., Female;Male, Female, Male;Non-binary, genderqueer, or gender non-co..., ..., Female;Transgender;Non-binary, genderqueer, or..., Male;Transgender, Female;Male;Non-binary, genderqueer, or gender..., Male;Transgender;Non-binary, genderqueer, or g..., Female;Male;Transgender]\n",
       "Length: 16\n",
       "Categories (15, object): [Male, Female;Male;Transgender;Non-binary, genderquee..., Female;Male, Female, ..., Male;Transgender, Female;Male;Non-binary, genderqueer, or gender..., Male;Transgender;Non-binary, genderqueer, or g..., Female;Male;Transgender]"
      ]
     },
     "execution_count": 219,
     "metadata": {},
     "output_type": "execute_result"
    }
   ],
   "source": [
    "df_2018_keep['Gender'].unique()"
   ]
  },
  {
   "cell_type": "code",
   "execution_count": 220,
   "metadata": {
    "collapsed": true
   },
   "outputs": [],
   "source": [
    "df_2017_keep['Gender']= df_2017_keep.Gender.cat.add_categories('I prefer not to answer').fillna('I prefer not to answer')\n",
    "df_2018_keep['Gender']= df_2018_keep.Gender.cat.add_categories('I prefer not to answer').fillna('I prefer not to answer')"
   ]
  },
  {
   "cell_type": "code",
   "execution_count": 221,
   "metadata": {
    "collapsed": true
   },
   "outputs": [],
   "source": [
    "df_2017_keep['Gender_Count'] = df_2017_keep['Gender'].apply(get_count)\n",
    "df_2018_keep['Gender_Count'] = df_2018_keep['Gender'].apply(get_count)"
   ]
  },
  {
   "cell_type": "markdown",
   "metadata": {},
   "source": [
    "### 3.46 - Parents' Highest Education\n",
    "Asks what is the respondent's' parents highest level of education.  Both years had similar answers but different wording."
   ]
  },
  {
   "cell_type": "code",
   "execution_count": 222,
   "metadata": {
    "collapsed": false
   },
   "outputs": [
    {
     "name": "stdout",
     "output_type": "stream",
     "text": [
      "EducationParents - percent missing in 2017: 5.291557876414274%\n",
      "EducationParents - percent missing in 2018: 8.085830519290594%\n"
     ]
    }
   ],
   "source": [
    "getMissingPercent('EducationParents')"
   ]
  },
  {
   "cell_type": "code",
   "execution_count": 223,
   "metadata": {
    "collapsed": false
   },
   "outputs": [
    {
     "data": {
      "text/plain": [
       "['A professional degree',\n",
       " 'High school',\n",
       " \"A master's degree\",\n",
       " \"A bachelor's degree\",\n",
       " 'A doctoral degree',\n",
       " 'Primary/elementary school',\n",
       " \"Some college/university study, no bachelor's degree\",\n",
       " nan,\n",
       " \"I don't know/not sure\",\n",
       " 'No education',\n",
       " 'I prefer not to answer']"
      ]
     },
     "execution_count": 223,
     "metadata": {},
     "output_type": "execute_result"
    }
   ],
   "source": [
    "list(df_2017_keep['EducationParents'].unique())"
   ]
  },
  {
   "cell_type": "code",
   "execution_count": 224,
   "metadata": {
    "collapsed": false
   },
   "outputs": [
    {
     "data": {
      "text/plain": [
       "['Bachelor’s degree (BA, BS, B.Eng., etc.)',\n",
       " 'Some college/university study without earning a degree',\n",
       " 'Secondary school (e.g. American high school, German Realschule or Gymnasium, etc.)',\n",
       " 'Master’s degree (MA, MS, M.Eng., MBA, etc.)',\n",
       " 'Associate degree',\n",
       " 'They never completed any formal education',\n",
       " nan,\n",
       " 'Other doctoral degree (Ph.D, Ed.D., etc.)',\n",
       " 'Professional degree (JD, MD, etc.)',\n",
       " 'Primary/elementary school']"
      ]
     },
     "execution_count": 224,
     "metadata": {},
     "output_type": "execute_result"
    }
   ],
   "source": [
    "list(df_2018_keep['EducationParents'].unique())"
   ]
  },
  {
   "cell_type": "code",
   "execution_count": 225,
   "metadata": {
    "collapsed": true
   },
   "outputs": [],
   "source": [
    "df_2017_keep['EducationParents']= df_2017_keep.EducationParents.cat.add_categories('NaN').fillna('NaN')\n",
    "df_2018_keep['EducationParents']= df_2018_keep.EducationParents.cat.add_categories('NaN').fillna('NaN')"
   ]
  },
  {
   "cell_type": "code",
   "execution_count": 226,
   "metadata": {
    "collapsed": false
   },
   "outputs": [],
   "source": [
    "df_2017_keep['EducationParents']= df_2017_keep.EducationParents.cat.add_categories('Associate degree')\n",
    "df_2018_keep['EducationParents']= df_2018_keep.EducationParents.cat.add_categories(['I don\\'t know/not sure', 'I prefer not to answer'])"
   ]
  },
  {
   "cell_type": "code",
   "execution_count": 227,
   "metadata": {
    "collapsed": true
   },
   "outputs": [],
   "source": [
    "educationParents_dict = {'NaN': 'NaN', 'A professional degree': 'A professional degree',  \n",
    "                         'Professional degree (JD, MD, etc.)':'A professional degree',\n",
    "                         \"A bachelor's degree\":  \"A bachelor's degree\",\n",
    "                        'Bachelor’s degree (BA, BS, B.Eng., etc.)': \"A bachelor's degree\",\n",
    "                         \"A master's degree\":  \"A master's degree\",\n",
    "                         'Master’s degree (MA, MS, M.Eng., MBA, etc.)': \"A master's degree\",\n",
    "                         'High school':  'High school',\n",
    "                         'Secondary school (e.g. American high school, German Realschule or Gymnasium, etc.)': 'High school',\n",
    "                         'A doctoral degree':  'A doctoral degree',\n",
    "                         'Other doctoral degree (Ph.D, Ed.D., etc.)': 'A doctoral degree',\n",
    "                        'Some college/university study, no bachelor\\'s degree': 'Some college/university',\n",
    "                         'Some college/university study without earning a degree': 'Some college/university',\n",
    "                         'Primary/elementary school': 'Primary/elementary school',\n",
    "                         'No education':  'No education',  'They never completed any formal education': 'No education',\n",
    "                         'I prefer not to answer':  'I prefer not to answer',  \"I don't know/not sure\":  \"I don't know/not sure\",\n",
    "                         'Associate degree':  'Associate degree'}"
   ]
  },
  {
   "cell_type": "code",
   "execution_count": 228,
   "metadata": {
    "collapsed": true
   },
   "outputs": [],
   "source": [
    "def convert_educationParents(col):\n",
    "    return educationParents_dict[col]"
   ]
  },
  {
   "cell_type": "code",
   "execution_count": 229,
   "metadata": {
    "collapsed": false
   },
   "outputs": [],
   "source": [
    "df_2017_keep['EducationParents'] = df_2017_keep['EducationParents'].apply(convert_educationParents)\n",
    "df_2018_keep['EducationParents'] = df_2018_keep['EducationParents'].apply(convert_educationParents)"
   ]
  },
  {
   "cell_type": "markdown",
   "metadata": {},
   "source": [
    "### 3.47 - Race\n",
    "Respondents are asked what race(s) they identify with.  Multiple answers allowed."
   ]
  },
  {
   "cell_type": "code",
   "execution_count": 230,
   "metadata": {
    "collapsed": false
   },
   "outputs": [
    {
     "name": "stdout",
     "output_type": "stream",
     "text": [
      "Race - percent missing in 2017: 8.485639686684072%\n",
      "Race - percent missing in 2018: 12.438512058283921%\n"
     ]
    }
   ],
   "source": [
    "getMissingPercent('Race')"
   ]
  },
  {
   "cell_type": "code",
   "execution_count": 231,
   "metadata": {
    "collapsed": true
   },
   "outputs": [],
   "source": [
    "df_2017_keep['Race']= df_2017_keep.Race.cat.add_categories('NaN').fillna('NaN')\n",
    "df_2018_keep['Race']= df_2018_keep.Race.cat.add_categories('NaN').fillna('NaN')"
   ]
  },
  {
   "cell_type": "code",
   "execution_count": 232,
   "metadata": {
    "collapsed": true
   },
   "outputs": [],
   "source": [
    "df_2017_keep['Race_Count'] = df_2017_keep['Race'].apply(get_count)\n",
    "df_2018_keep['Race_Count'] = df_2018_keep['Race'].apply(get_count)"
   ]
  },
  {
   "cell_type": "markdown",
   "metadata": {},
   "source": [
    "### 3.48 - Survey too Long\n",
    "Lastly, respondents are asked if the survey was too long.  "
   ]
  },
  {
   "cell_type": "code",
   "execution_count": 233,
   "metadata": {
    "collapsed": false
   },
   "outputs": [
    {
     "name": "stdout",
     "output_type": "stream",
     "text": [
      "SurveyLong - percent missing in 2017: 5.97911227154047%\n",
      "SurveyLong - percent missing in 2018: 4.804701002419633%\n"
     ]
    }
   ],
   "source": [
    "getMissingPercent('SurveyLong')"
   ]
  },
  {
   "cell_type": "code",
   "execution_count": 234,
   "metadata": {
    "collapsed": false
   },
   "outputs": [
    {
     "data": {
      "text/plain": [
       "['Somewhat agree',\n",
       " 'Disagree',\n",
       " 'Strongly agree',\n",
       " 'Agree',\n",
       " 'Strongly disagree',\n",
       " nan]"
      ]
     },
     "execution_count": 234,
     "metadata": {},
     "output_type": "execute_result"
    }
   ],
   "source": [
    "list(df_2017_keep['SurveyLong'].unique())"
   ]
  },
  {
   "cell_type": "code",
   "execution_count": 235,
   "metadata": {
    "collapsed": false
   },
   "outputs": [
    {
     "data": {
      "text/plain": [
       "['The survey was an appropriate length',\n",
       " 'The survey was too long',\n",
       " nan,\n",
       " 'The survey was too short']"
      ]
     },
     "execution_count": 235,
     "metadata": {},
     "output_type": "execute_result"
    }
   ],
   "source": [
    "list(df_2018_keep['SurveyLong'].unique())"
   ]
  },
  {
   "cell_type": "code",
   "execution_count": 236,
   "metadata": {
    "collapsed": false
   },
   "outputs": [],
   "source": [
    "surveyLength_dict = {'Strongly disagree':  'The survey was too short', 'Disagree': 'The survey was too short',\n",
    "                    'Somewhat agree': 'The survey was an appropriate length',  'Agree':  'The survey was too long',\n",
    "                     'Strongly agree': 'The survey was too long', 'NaN': 'NaN'}\n"
   ]
  },
  {
   "cell_type": "code",
   "execution_count": 237,
   "metadata": {
    "collapsed": true
   },
   "outputs": [],
   "source": [
    "def convert_survey(col):\n",
    "    return surveyLength_dict[col]"
   ]
  },
  {
   "cell_type": "code",
   "execution_count": 238,
   "metadata": {
    "collapsed": true
   },
   "outputs": [],
   "source": [
    "df_2017_keep['SurveyLong']= df_2017_keep.SurveyLong.cat.add_categories('NaN').fillna('NaN')\n",
    "df_2018_keep['SurveyLong']= df_2018_keep.SurveyLong.cat.add_categories('NaN').fillna('NaN')"
   ]
  },
  {
   "cell_type": "code",
   "execution_count": 239,
   "metadata": {
    "collapsed": true
   },
   "outputs": [],
   "source": [
    "df_2017_keep['SurveyLong'] = df_2017_keep['SurveyLong'].apply(convert_survey)"
   ]
  },
  {
   "cell_type": "markdown",
   "metadata": {},
   "source": [
    "# 4 - Saving the Data\n",
    "Before saving the data, lets check the data types for each column is what we want."
   ]
  },
  {
   "cell_type": "markdown",
   "metadata": {},
   "source": [
    "### 4.1 - Checking Datatypes"
   ]
  },
  {
   "cell_type": "code",
   "execution_count": 240,
   "metadata": {
    "collapsed": false
   },
   "outputs": [
    {
     "name": "stdout",
     "output_type": "stream",
     "text": [
      "<class 'pandas.core.frame.DataFrame'>\n",
      "Int64Index: 11490 entries, 2 to 51390\n",
      "Data columns (total 64 columns):\n",
      "ID                               11490 non-null float32\n",
      "Hobby                            11490 non-null object\n",
      "Country                          11490 non-null category\n",
      "Student                          11490 non-null category\n",
      "Employment                       11490 non-null category\n",
      "Education                        11490 non-null category\n",
      "UndergradMajor                   11490 non-null category\n",
      "CompanySize                      11490 non-null category\n",
      "YearsCoding                      11490 non-null object\n",
      "YearsCodingProf                  11490 non-null object\n",
      "DevType                          11490 non-null category\n",
      "CareerSatisfaction               11490 non-null object\n",
      "JobSatisfaction                  11490 non-null object\n",
      "KinshipDevelopers                11490 non-null float64\n",
      "CompetePeers                     11490 non-null float64\n",
      "LastNewJob                       11490 non-null category\n",
      "AssessJobIndustry                11490 non-null category\n",
      "AssessJobDept                    11490 non-null category\n",
      "AssessJobTech                    11490 non-null category\n",
      "AssessJobCompensation            11490 non-null category\n",
      "AssessJobOffice                  11490 non-null category\n",
      "AssessJobRemote                  11490 non-null category\n",
      "AssessJobProfDevel               11490 non-null category\n",
      "AssessJobDiversity               11490 non-null category\n",
      "AssessJobProduct                 11490 non-null category\n",
      "AssessJobFinances                11490 non-null category\n",
      "UpdateCV                         11490 non-null category\n",
      "Currency                         11490 non-null category\n",
      "EducationTypes                   11490 non-null category\n",
      "SelfTaughtTypes                  11490 non-null category\n",
      "TimeAfterBootcamp                11490 non-null category\n",
      "LanguageWorkedWith               11490 non-null category\n",
      "LanguageDesireNextYear           11490 non-null category\n",
      "FrameworkWorkedWith              11490 non-null category\n",
      "FrameworkDesireNextYear          11490 non-null category\n",
      "DatabaseWorkedWith               11490 non-null category\n",
      "DatabaseDesireNextYear           11490 non-null category\n",
      "PlatformWorkedWith               11490 non-null category\n",
      "PlatformDesireNextYear           11490 non-null category\n",
      "IDE                              11490 non-null category\n",
      "Methodology                      11490 non-null category\n",
      "VersionControl                   11490 non-null category\n",
      "CheckInCode                      11490 non-null category\n",
      "StackOverflowJobs                11490 non-null object\n",
      "Gender                           11490 non-null category\n",
      "EducationParents                 11490 non-null category\n",
      "Race                             11490 non-null category\n",
      "SurveyLong                       11490 non-null object\n",
      "Salary                           11490 non-null float32\n",
      "DevType_Count                    11490 non-null int64\n",
      "EducationTypes_Count             11490 non-null int64\n",
      "LanguageWorkedWith_Count         11490 non-null int64\n",
      "LanguageDesireNextYear_Count     11490 non-null int64\n",
      "FrameworkWorkedWith_Count        11490 non-null int64\n",
      "FrameworkDesireNextYear_Count    11490 non-null int64\n",
      "DatabaseWorkedWith_Count         11490 non-null int64\n",
      "DatabaseDesireNextYear_Count     11490 non-null int64\n",
      "PlatformWorkedWith_Count         11490 non-null int64\n",
      "PlatformDesireNextYear_Count     11490 non-null int64\n",
      "IDE_Count                        11490 non-null int64\n",
      "Methodology_Count                11490 non-null int64\n",
      "VersionControl_Count             11490 non-null int64\n",
      "Gender_Count                     11490 non-null int64\n",
      "Race_Count                       11490 non-null int64\n",
      "dtypes: category(38), float32(2), float64(2), int64(15), object(7)\n",
      "memory usage: 4.6+ MB\n"
     ]
    }
   ],
   "source": [
    "df_2017_keep.info()"
   ]
  },
  {
   "cell_type": "code",
   "execution_count": 241,
   "metadata": {
    "collapsed": false
   },
   "outputs": [
    {
     "name": "stdout",
     "output_type": "stream",
     "text": [
      "<class 'pandas.core.frame.DataFrame'>\n",
      "Int64Index: 37609 entries, 1 to 89960\n",
      "Data columns (total 64 columns):\n",
      "ID                               37609 non-null float32\n",
      "Hobby                            37609 non-null category\n",
      "Country                          37609 non-null category\n",
      "Student                          37609 non-null category\n",
      "Employment                       37609 non-null category\n",
      "Education                        37609 non-null category\n",
      "UndergradMajor                   37609 non-null category\n",
      "CompanySize                      37609 non-null category\n",
      "DevType                          37609 non-null category\n",
      "YearsCoding                      37609 non-null object\n",
      "YearsCodingProf                  37609 non-null object\n",
      "JobSatisfaction                  37609 non-null category\n",
      "CareerSatisfaction               37609 non-null category\n",
      "LastNewJob                       37609 non-null object\n",
      "AssessJobIndustry                37609 non-null object\n",
      "AssessJobFinances                37609 non-null object\n",
      "AssessJobDept                    37609 non-null object\n",
      "AssessJobTech                    37609 non-null object\n",
      "AssessJobCompensation            37609 non-null object\n",
      "AssessJobOffice                  37609 non-null object\n",
      "AssessJobRemote                  37609 non-null object\n",
      "AssessJobProfDevel               37609 non-null object\n",
      "AssessJobDiversity               37609 non-null object\n",
      "AssessJobProduct                 37609 non-null object\n",
      "UpdateCV                         37609 non-null category\n",
      "Currency                         37609 non-null category\n",
      "Salary                           37609 non-null float32\n",
      "EducationTypes                   37609 non-null category\n",
      "SelfTaughtTypes                  37609 non-null category\n",
      "TimeAfterBootcamp                37609 non-null category\n",
      "KinshipDevelopers                37609 non-null float64\n",
      "CompetePeers                     37609 non-null float64\n",
      "LanguageWorkedWith               37609 non-null category\n",
      "LanguageDesireNextYear           37609 non-null category\n",
      "DatabaseWorkedWith               37609 non-null category\n",
      "DatabaseDesireNextYear           37609 non-null category\n",
      "PlatformWorkedWith               37609 non-null category\n",
      "PlatformDesireNextYear           37609 non-null category\n",
      "FrameworkWorkedWith              37609 non-null category\n",
      "FrameworkDesireNextYear          37609 non-null category\n",
      "IDE                              37609 non-null category\n",
      "Methodology                      37609 non-null category\n",
      "VersionControl                   37609 non-null category\n",
      "CheckInCode                      37609 non-null category\n",
      "StackOverflowJobs                37609 non-null object\n",
      "Gender                           37609 non-null category\n",
      "EducationParents                 37609 non-null category\n",
      "Race                             37609 non-null category\n",
      "SurveyLong                       37609 non-null category\n",
      "DevType_Count                    37609 non-null int64\n",
      "EducationTypes_Count             37609 non-null int64\n",
      "LanguageWorkedWith_Count         37609 non-null int64\n",
      "LanguageDesireNextYear_Count     37609 non-null int64\n",
      "FrameworkWorkedWith_Count        37609 non-null int64\n",
      "FrameworkDesireNextYear_Count    37609 non-null int64\n",
      "DatabaseWorkedWith_Count         37609 non-null int64\n",
      "DatabaseDesireNextYear_Count     37609 non-null int64\n",
      "PlatformWorkedWith_Count         37609 non-null int64\n",
      "PlatformDesireNextYear_Count     37609 non-null int64\n",
      "IDE_Count                        37609 non-null int64\n",
      "Methodology_Count                37609 non-null int64\n",
      "VersionControl_Count             37609 non-null int64\n",
      "Gender_Count                     37609 non-null int64\n",
      "Race_Count                       37609 non-null int64\n",
      "dtypes: category(31), float32(2), float64(2), int64(15), object(14)\n",
      "memory usage: 16.9+ MB\n"
     ]
    }
   ],
   "source": [
    "df_2018_keep.info()"
   ]
  },
  {
   "cell_type": "markdown",
   "metadata": {},
   "source": [
    "I see lots of object categories, and I'm fairly certain the 'Count' columns don't need to be 64 bit.  Lets downcast both dataframes again."
   ]
  },
  {
   "cell_type": "code",
   "execution_count": 242,
   "metadata": {
    "collapsed": true
   },
   "outputs": [],
   "source": [
    "downcast(df_2017_keep)\n",
    "downcast(df_2018_keep)"
   ]
  },
  {
   "cell_type": "code",
   "execution_count": 243,
   "metadata": {
    "collapsed": false
   },
   "outputs": [
    {
     "name": "stdout",
     "output_type": "stream",
     "text": [
      "Total memory usage for category: 9.28803 MB\n",
      "Total memory usage for float32: 0.57549 MB\n",
      "Total memory usage for int8: 0.56453 MB\n",
      "\n",
      "Total Memory Usage: 9.63 MB\n"
     ]
    }
   ],
   "source": [
    "get_memoryUsage(df_2017_keep)"
   ]
  },
  {
   "cell_type": "code",
   "execution_count": 244,
   "metadata": {
    "collapsed": false
   },
   "outputs": [
    {
     "name": "stdout",
     "output_type": "stream",
     "text": [
      "Total memory usage for category: 35.69232 MB\n",
      "Total memory usage for float32: 0.86080 MB\n",
      "Total memory usage for int8: 0.82493 MB\n",
      "\n",
      "Total Memory Usage: 36.80 MB\n"
     ]
    }
   ],
   "source": [
    "get_memoryUsage(df_2018_keep)"
   ]
  },
  {
   "cell_type": "markdown",
   "metadata": {},
   "source": [
    "As expected, objects were converted to categories, and the 'count' columns were converted to int8."
   ]
  },
  {
   "cell_type": "markdown",
   "metadata": {},
   "source": [
    "### 4.2 - Saving to Feather\n",
    "Finally, we can save the updated columns to feather format and it should be able to run through a random forest model without a problem.  Since I deleted some rows, the index is not in sequential order.  The index must be reset before saving to feather."
   ]
  },
  {
   "cell_type": "code",
   "execution_count": 245,
   "metadata": {
    "collapsed": false
   },
   "outputs": [],
   "source": [
    "df_2017_keep.reset_index(inplace = True)\n",
    "df_2018_keep.reset_index(inplace = True)"
   ]
  },
  {
   "cell_type": "code",
   "execution_count": 246,
   "metadata": {
    "collapsed": false
   },
   "outputs": [],
   "source": [
    "df_2017_keep.to_feather('tmp/df_2017_2keep')\n",
    "df_2018_keep.to_feather('tmp/df_2018_2keep')"
   ]
  },
  {
   "cell_type": "code",
   "execution_count": null,
   "metadata": {
    "collapsed": true
   },
   "outputs": [],
   "source": []
  },
  {
   "cell_type": "code",
   "execution_count": null,
   "metadata": {
    "collapsed": true
   },
   "outputs": [],
   "source": [
    "    "
   ]
  },
  {
   "cell_type": "code",
   "execution_count": null,
   "metadata": {
    "collapsed": true
   },
   "outputs": [],
   "source": []
  },
  {
   "cell_type": "code",
   "execution_count": 247,
   "metadata": {
    "collapsed": false
   },
   "outputs": [
    {
     "data": {
      "text/plain": [
       "Index(['index', 'ID', 'Hobby', 'Country', 'Student', 'Employment', 'Education',\n",
       "       'UndergradMajor', 'CompanySize', 'YearsCoding', 'YearsCodingProf',\n",
       "       'DevType', 'CareerSatisfaction', 'JobSatisfaction', 'KinshipDevelopers',\n",
       "       'CompetePeers', 'LastNewJob', 'AssessJobIndustry', 'AssessJobDept',\n",
       "       'AssessJobTech', 'AssessJobCompensation', 'AssessJobOffice',\n",
       "       'AssessJobRemote', 'AssessJobProfDevel', 'AssessJobDiversity',\n",
       "       'AssessJobProduct', 'AssessJobFinances', 'UpdateCV', 'Currency',\n",
       "       'EducationTypes', 'SelfTaughtTypes', 'TimeAfterBootcamp',\n",
       "       'LanguageWorkedWith', 'LanguageDesireNextYear', 'FrameworkWorkedWith',\n",
       "       'FrameworkDesireNextYear', 'DatabaseWorkedWith',\n",
       "       'DatabaseDesireNextYear', 'PlatformWorkedWith',\n",
       "       'PlatformDesireNextYear', 'IDE', 'Methodology', 'VersionControl',\n",
       "       'CheckInCode', 'StackOverflowJobs', 'Gender', 'EducationParents',\n",
       "       'Race', 'SurveyLong', 'Salary', 'DevType_Count', 'EducationTypes_Count',\n",
       "       'LanguageWorkedWith_Count', 'LanguageDesireNextYear_Count',\n",
       "       'FrameworkWorkedWith_Count', 'FrameworkDesireNextYear_Count',\n",
       "       'DatabaseWorkedWith_Count', 'DatabaseDesireNextYear_Count',\n",
       "       'PlatformWorkedWith_Count', 'PlatformDesireNextYear_Count', 'IDE_Count',\n",
       "       'Methodology_Count', 'VersionControl_Count', 'Gender_Count',\n",
       "       'Race_Count'],\n",
       "      dtype='object')"
      ]
     },
     "execution_count": 247,
     "metadata": {},
     "output_type": "execute_result"
    }
   ],
   "source": [
    "df_2017_keep.columns"
   ]
  },
  {
   "cell_type": "markdown",
   "metadata": {},
   "source": [
    "### test data"
   ]
  },
  {
   "cell_type": "code",
   "execution_count": 248,
   "metadata": {
    "collapsed": false
   },
   "outputs": [
    {
     "data": {
      "text/plain": [
       "0                                                Other\n",
       "1              Embedded applications/devices developer\n",
       "2    Web developer; Embedded applications/devices d...\n",
       "3                                                Other\n",
       "4                                        Web developer\n",
       "Name: DevType, dtype: category\n",
       "Categories (1824, object): [Data scientist, Data scientist; Database administrator, Data scientist; Database administrator; DevOps..., Data scientist; Database administrator; Other, ..., Web developer; Systems administrator; DevOps s..., Web developer; Systems administrator; Other, Web developer; Systems administrator; Quality ..., NaN]"
      ]
     },
     "execution_count": 248,
     "metadata": {},
     "output_type": "execute_result"
    }
   ],
   "source": [
    "df_2017_keep['DevType'][:5]"
   ]
  },
  {
   "cell_type": "code",
   "execution_count": 249,
   "metadata": {
    "collapsed": false
   },
   "outputs": [],
   "source": [
    "test = pd.DataFrame({'A':['adlkfslkfd', 'Nan', 'NaN', 'joke;asdlfk;asdf', 'adsf;dsf;asdf;dsa;fds;;fd;faf;ds'], \n",
    "                     'B': [np.nan, 'No', 'Yes, fdas', 'Yes', 'No'], 'C':[45, 65,23,45,74]})"
   ]
  },
  {
   "cell_type": "code",
   "execution_count": 250,
   "metadata": {
    "collapsed": false
   },
   "outputs": [
    {
     "data": {
      "text/html": [
       "<div>\n",
       "<style>\n",
       "    .dataframe thead tr:only-child th {\n",
       "        text-align: right;\n",
       "    }\n",
       "\n",
       "    .dataframe thead th {\n",
       "        text-align: left;\n",
       "    }\n",
       "\n",
       "    .dataframe tbody tr th {\n",
       "        vertical-align: top;\n",
       "    }\n",
       "</style>\n",
       "<table border=\"1\" class=\"dataframe\">\n",
       "  <thead>\n",
       "    <tr style=\"text-align: right;\">\n",
       "      <th></th>\n",
       "      <th>A</th>\n",
       "      <th>B</th>\n",
       "      <th>C</th>\n",
       "    </tr>\n",
       "  </thead>\n",
       "  <tbody>\n",
       "    <tr>\n",
       "      <th>0</th>\n",
       "      <td>adlkfslkfd</td>\n",
       "      <td>NaN</td>\n",
       "      <td>45</td>\n",
       "    </tr>\n",
       "    <tr>\n",
       "      <th>1</th>\n",
       "      <td>Nan</td>\n",
       "      <td>No</td>\n",
       "      <td>65</td>\n",
       "    </tr>\n",
       "    <tr>\n",
       "      <th>2</th>\n",
       "      <td>NaN</td>\n",
       "      <td>Yes, fdas</td>\n",
       "      <td>23</td>\n",
       "    </tr>\n",
       "    <tr>\n",
       "      <th>3</th>\n",
       "      <td>joke;asdlfk;asdf</td>\n",
       "      <td>Yes</td>\n",
       "      <td>45</td>\n",
       "    </tr>\n",
       "    <tr>\n",
       "      <th>4</th>\n",
       "      <td>adsf;dsf;asdf;dsa;fds;;fd;faf;ds</td>\n",
       "      <td>No</td>\n",
       "      <td>74</td>\n",
       "    </tr>\n",
       "  </tbody>\n",
       "</table>\n",
       "</div>"
      ],
      "text/plain": [
       "                                  A          B   C\n",
       "0                        adlkfslkfd        NaN  45\n",
       "1                               Nan         No  65\n",
       "2                               NaN  Yes, fdas  23\n",
       "3                  joke;asdlfk;asdf        Yes  45\n",
       "4  adsf;dsf;asdf;dsa;fds;;fd;faf;ds         No  74"
      ]
     },
     "execution_count": 250,
     "metadata": {},
     "output_type": "execute_result"
    }
   ],
   "source": [
    "test"
   ]
  },
  {
   "cell_type": "code",
   "execution_count": 251,
   "metadata": {
    "collapsed": false
   },
   "outputs": [
    {
     "data": {
      "text/plain": [
       "0    1\n",
       "1    1\n",
       "2    0\n",
       "3    3\n",
       "4    9\n",
       "Name: A, dtype: int64"
      ]
     },
     "execution_count": 251,
     "metadata": {},
     "output_type": "execute_result"
    }
   ],
   "source": [
    "test['A'].apply(get_count)"
   ]
  },
  {
   "cell_type": "code",
   "execution_count": 252,
   "metadata": {
    "collapsed": false
   },
   "outputs": [],
   "source": [
    "def test_func(col):\n",
    "    return len(col.split(';'))\n",
    "#     col_suffix = '_count'\n",
    "#     for row in df[col]:\n",
    "#         df[col + col_suffix] = row.split(';')"
   ]
  },
  {
   "cell_type": "code",
   "execution_count": 253,
   "metadata": {
    "collapsed": false
   },
   "outputs": [],
   "source": [
    "test['A_Count'] = test['A'].apply(test_func)"
   ]
  },
  {
   "cell_type": "code",
   "execution_count": 254,
   "metadata": {
    "collapsed": false
   },
   "outputs": [
    {
     "data": {
      "text/html": [
       "<div>\n",
       "<style>\n",
       "    .dataframe thead tr:only-child th {\n",
       "        text-align: right;\n",
       "    }\n",
       "\n",
       "    .dataframe thead th {\n",
       "        text-align: left;\n",
       "    }\n",
       "\n",
       "    .dataframe tbody tr th {\n",
       "        vertical-align: top;\n",
       "    }\n",
       "</style>\n",
       "<table border=\"1\" class=\"dataframe\">\n",
       "  <thead>\n",
       "    <tr style=\"text-align: right;\">\n",
       "      <th></th>\n",
       "      <th>A</th>\n",
       "      <th>B</th>\n",
       "      <th>C</th>\n",
       "      <th>A_Count</th>\n",
       "    </tr>\n",
       "  </thead>\n",
       "  <tbody>\n",
       "    <tr>\n",
       "      <th>0</th>\n",
       "      <td>adlkfslkfd</td>\n",
       "      <td>NaN</td>\n",
       "      <td>45</td>\n",
       "      <td>1</td>\n",
       "    </tr>\n",
       "    <tr>\n",
       "      <th>1</th>\n",
       "      <td>Nan</td>\n",
       "      <td>No</td>\n",
       "      <td>65</td>\n",
       "      <td>1</td>\n",
       "    </tr>\n",
       "    <tr>\n",
       "      <th>2</th>\n",
       "      <td>NaN</td>\n",
       "      <td>Yes, fdas</td>\n",
       "      <td>23</td>\n",
       "      <td>1</td>\n",
       "    </tr>\n",
       "    <tr>\n",
       "      <th>3</th>\n",
       "      <td>joke;asdlfk;asdf</td>\n",
       "      <td>Yes</td>\n",
       "      <td>45</td>\n",
       "      <td>3</td>\n",
       "    </tr>\n",
       "    <tr>\n",
       "      <th>4</th>\n",
       "      <td>adsf;dsf;asdf;dsa;fds;;fd;faf;ds</td>\n",
       "      <td>No</td>\n",
       "      <td>74</td>\n",
       "      <td>9</td>\n",
       "    </tr>\n",
       "  </tbody>\n",
       "</table>\n",
       "</div>"
      ],
      "text/plain": [
       "                                  A          B   C  A_Count\n",
       "0                        adlkfslkfd        NaN  45        1\n",
       "1                               Nan         No  65        1\n",
       "2                               NaN  Yes, fdas  23        1\n",
       "3                  joke;asdlfk;asdf        Yes  45        3\n",
       "4  adsf;dsf;asdf;dsa;fds;;fd;faf;ds         No  74        9"
      ]
     },
     "execution_count": 254,
     "metadata": {},
     "output_type": "execute_result"
    }
   ],
   "source": [
    "test"
   ]
  },
  {
   "cell_type": "code",
   "execution_count": 255,
   "metadata": {
    "collapsed": false
   },
   "outputs": [
    {
     "data": {
      "text/plain": [
       "2"
      ]
     },
     "execution_count": 255,
     "metadata": {},
     "output_type": "execute_result"
    }
   ],
   "source": [
    "len('web;asdf'.split(';'))"
   ]
  },
  {
   "cell_type": "code",
   "execution_count": 256,
   "metadata": {
    "collapsed": false
   },
   "outputs": [
    {
     "data": {
      "text/html": [
       "<div>\n",
       "<style>\n",
       "    .dataframe thead tr:only-child th {\n",
       "        text-align: right;\n",
       "    }\n",
       "\n",
       "    .dataframe thead th {\n",
       "        text-align: left;\n",
       "    }\n",
       "\n",
       "    .dataframe tbody tr th {\n",
       "        vertical-align: top;\n",
       "    }\n",
       "</style>\n",
       "<table border=\"1\" class=\"dataframe\">\n",
       "  <thead>\n",
       "    <tr style=\"text-align: right;\">\n",
       "      <th></th>\n",
       "      <th>Respondent</th>\n",
       "      <th>Hobby</th>\n",
       "      <th>OpenSource</th>\n",
       "      <th>Country</th>\n",
       "      <th>Student</th>\n",
       "      <th>Employment</th>\n",
       "      <th>FormalEducation</th>\n",
       "      <th>UndergradMajor</th>\n",
       "      <th>CompanySize</th>\n",
       "      <th>DevType</th>\n",
       "      <th>YearsCoding</th>\n",
       "      <th>YearsCodingProf</th>\n",
       "      <th>JobSatisfaction</th>\n",
       "      <th>CareerSatisfaction</th>\n",
       "      <th>HopeFiveYears</th>\n",
       "      <th>JobSearchStatus</th>\n",
       "      <th>LastNewJob</th>\n",
       "      <th>AssessJob1</th>\n",
       "      <th>AssessJob2</th>\n",
       "      <th>AssessJob3</th>\n",
       "      <th>AssessJob4</th>\n",
       "      <th>AssessJob5</th>\n",
       "      <th>AssessJob6</th>\n",
       "      <th>AssessJob7</th>\n",
       "      <th>AssessJob8</th>\n",
       "      <th>AssessJob9</th>\n",
       "      <th>AssessJob10</th>\n",
       "      <th>AssessBenefits1</th>\n",
       "      <th>AssessBenefits2</th>\n",
       "      <th>AssessBenefits3</th>\n",
       "      <th>AssessBenefits4</th>\n",
       "      <th>AssessBenefits5</th>\n",
       "      <th>AssessBenefits6</th>\n",
       "      <th>AssessBenefits7</th>\n",
       "      <th>AssessBenefits8</th>\n",
       "      <th>AssessBenefits9</th>\n",
       "      <th>AssessBenefits10</th>\n",
       "      <th>AssessBenefits11</th>\n",
       "      <th>JobContactPriorities1</th>\n",
       "      <th>JobContactPriorities2</th>\n",
       "      <th>JobContactPriorities3</th>\n",
       "      <th>JobContactPriorities4</th>\n",
       "      <th>JobContactPriorities5</th>\n",
       "      <th>JobEmailPriorities1</th>\n",
       "      <th>JobEmailPriorities2</th>\n",
       "      <th>JobEmailPriorities3</th>\n",
       "      <th>JobEmailPriorities4</th>\n",
       "      <th>JobEmailPriorities5</th>\n",
       "      <th>JobEmailPriorities6</th>\n",
       "      <th>JobEmailPriorities7</th>\n",
       "      <th>UpdateCV</th>\n",
       "      <th>Currency</th>\n",
       "      <th>Salary</th>\n",
       "      <th>SalaryType</th>\n",
       "      <th>ConvertedSalary</th>\n",
       "      <th>CurrencySymbol</th>\n",
       "      <th>CommunicationTools</th>\n",
       "      <th>TimeFullyProductive</th>\n",
       "      <th>EducationTypes</th>\n",
       "      <th>SelfTaughtTypes</th>\n",
       "      <th>TimeAfterBootcamp</th>\n",
       "      <th>HackathonReasons</th>\n",
       "      <th>AgreeDisagree1</th>\n",
       "      <th>AgreeDisagree2</th>\n",
       "      <th>AgreeDisagree3</th>\n",
       "      <th>LanguageWorkedWith</th>\n",
       "      <th>LanguageDesireNextYear</th>\n",
       "      <th>DatabaseWorkedWith</th>\n",
       "      <th>DatabaseDesireNextYear</th>\n",
       "      <th>PlatformWorkedWith</th>\n",
       "      <th>PlatformDesireNextYear</th>\n",
       "      <th>FrameworkWorkedWith</th>\n",
       "      <th>FrameworkDesireNextYear</th>\n",
       "      <th>IDE</th>\n",
       "      <th>OperatingSystem</th>\n",
       "      <th>NumberMonitors</th>\n",
       "      <th>Methodology</th>\n",
       "      <th>VersionControl</th>\n",
       "      <th>CheckInCode</th>\n",
       "      <th>AdBlocker</th>\n",
       "      <th>AdBlockerDisable</th>\n",
       "      <th>AdBlockerReasons</th>\n",
       "      <th>AdsAgreeDisagree1</th>\n",
       "      <th>AdsAgreeDisagree2</th>\n",
       "      <th>AdsAgreeDisagree3</th>\n",
       "      <th>AdsActions</th>\n",
       "      <th>AdsPriorities1</th>\n",
       "      <th>AdsPriorities2</th>\n",
       "      <th>AdsPriorities3</th>\n",
       "      <th>AdsPriorities4</th>\n",
       "      <th>AdsPriorities5</th>\n",
       "      <th>AdsPriorities6</th>\n",
       "      <th>AdsPriorities7</th>\n",
       "      <th>AIDangerous</th>\n",
       "      <th>AIInteresting</th>\n",
       "      <th>AIResponsible</th>\n",
       "      <th>AIFuture</th>\n",
       "      <th>EthicsChoice</th>\n",
       "      <th>EthicsReport</th>\n",
       "      <th>EthicsResponsible</th>\n",
       "      <th>EthicalImplications</th>\n",
       "      <th>StackOverflowRecommend</th>\n",
       "      <th>StackOverflowVisit</th>\n",
       "      <th>StackOverflowHasAccount</th>\n",
       "      <th>StackOverflowParticipate</th>\n",
       "      <th>StackOverflowJobs</th>\n",
       "      <th>StackOverflowDevStory</th>\n",
       "      <th>StackOverflowJobsRecommend</th>\n",
       "      <th>StackOverflowConsiderMember</th>\n",
       "      <th>HypotheticalTools1</th>\n",
       "      <th>HypotheticalTools2</th>\n",
       "      <th>HypotheticalTools3</th>\n",
       "      <th>HypotheticalTools4</th>\n",
       "      <th>HypotheticalTools5</th>\n",
       "      <th>WakeTime</th>\n",
       "      <th>HoursComputer</th>\n",
       "      <th>HoursOutside</th>\n",
       "      <th>SkipMeals</th>\n",
       "      <th>ErgonomicDevices</th>\n",
       "      <th>Exercise</th>\n",
       "      <th>Gender</th>\n",
       "      <th>SexualOrientation</th>\n",
       "      <th>EducationParents</th>\n",
       "      <th>RaceEthnicity</th>\n",
       "      <th>Age</th>\n",
       "      <th>Dependents</th>\n",
       "      <th>MilitaryUS</th>\n",
       "      <th>SurveyTooLong</th>\n",
       "      <th>SurveyEasy</th>\n",
       "    </tr>\n",
       "  </thead>\n",
       "  <tbody>\n",
       "    <tr>\n",
       "      <th>14</th>\n",
       "      <td>21.0</td>\n",
       "      <td>No</td>\n",
       "      <td>No</td>\n",
       "      <td>Netherlands</td>\n",
       "      <td>Yes, full-time</td>\n",
       "      <td>Employed full-time</td>\n",
       "      <td>Secondary school (e.g. American high school, G...</td>\n",
       "      <td>NaN</td>\n",
       "      <td>20 to 99 employees</td>\n",
       "      <td>Back-end developer;Front-end developer;Student</td>\n",
       "      <td>0-2 years</td>\n",
       "      <td>0-2 years</td>\n",
       "      <td>Neither satisfied nor dissatisfied</td>\n",
       "      <td>Moderately dissatisfied</td>\n",
       "      <td>Working in a career completely unrelated to so...</td>\n",
       "      <td>I’m not actively looking, but I am open to new...</td>\n",
       "      <td>Between 2 and 4 years ago</td>\n",
       "      <td>1.0</td>\n",
       "      <td>9.0</td>\n",
       "      <td>2.0</td>\n",
       "      <td>10.0</td>\n",
       "      <td>6.0</td>\n",
       "      <td>3.0</td>\n",
       "      <td>4.0</td>\n",
       "      <td>5.0</td>\n",
       "      <td>7.0</td>\n",
       "      <td>8.0</td>\n",
       "      <td>2.0</td>\n",
       "      <td>3.0</td>\n",
       "      <td>6.0</td>\n",
       "      <td>11.0</td>\n",
       "      <td>9.0</td>\n",
       "      <td>8.0</td>\n",
       "      <td>10.0</td>\n",
       "      <td>4.0</td>\n",
       "      <td>5.0</td>\n",
       "      <td>7.0</td>\n",
       "      <td>1.0</td>\n",
       "      <td>5.0</td>\n",
       "      <td>3.0</td>\n",
       "      <td>2.0</td>\n",
       "      <td>1.0</td>\n",
       "      <td>4.0</td>\n",
       "      <td>1.0</td>\n",
       "      <td>2.0</td>\n",
       "      <td>6.0</td>\n",
       "      <td>7.0</td>\n",
       "      <td>3.0</td>\n",
       "      <td>4.0</td>\n",
       "      <td>5.0</td>\n",
       "      <td>My job status or other personal status changed</td>\n",
       "      <td>Euros (€)</td>\n",
       "      <td>0</td>\n",
       "      <td>Monthly</td>\n",
       "      <td>0.0</td>\n",
       "      <td>EUR</td>\n",
       "      <td>NaN</td>\n",
       "      <td>Less than a month</td>\n",
       "      <td>Received on-the-job training in software devel...</td>\n",
       "      <td>NaN</td>\n",
       "      <td>NaN</td>\n",
       "      <td>NaN</td>\n",
       "      <td>Disagree</td>\n",
       "      <td>Strongly disagree</td>\n",
       "      <td>Strongly agree</td>\n",
       "      <td>Java;JavaScript;PHP;VB.NET;HTML;CSS</td>\n",
       "      <td>NaN</td>\n",
       "      <td>SQL Server;MySQL</td>\n",
       "      <td>NaN</td>\n",
       "      <td>Windows Desktop or Server</td>\n",
       "      <td>NaN</td>\n",
       "      <td>NaN</td>\n",
       "      <td>NaN</td>\n",
       "      <td>Notepad++;Visual Studio</td>\n",
       "      <td>Windows</td>\n",
       "      <td>2</td>\n",
       "      <td>Agile;Scrum</td>\n",
       "      <td>Copying and pasting files to network shares</td>\n",
       "      <td>Never</td>\n",
       "      <td>No</td>\n",
       "      <td>NaN</td>\n",
       "      <td>NaN</td>\n",
       "      <td>Strongly agree</td>\n",
       "      <td>Somewhat agree</td>\n",
       "      <td>Neither agree nor disagree</td>\n",
       "      <td>Clicked on an online advertisement</td>\n",
       "      <td>4.0</td>\n",
       "      <td>5.0</td>\n",
       "      <td>6.0</td>\n",
       "      <td>2.0</td>\n",
       "      <td>1.0</td>\n",
       "      <td>7.0</td>\n",
       "      <td>3.0</td>\n",
       "      <td>Artificial intelligence surpassing human intel...</td>\n",
       "      <td>NaN</td>\n",
       "      <td>The developers or the people creating the AI</td>\n",
       "      <td>I'm worried about the dangers more than I'm ex...</td>\n",
       "      <td>No</td>\n",
       "      <td>Yes, and publicly</td>\n",
       "      <td>The person who came up with the idea</td>\n",
       "      <td>Yes</td>\n",
       "      <td>8</td>\n",
       "      <td>Daily or almost daily</td>\n",
       "      <td>Yes</td>\n",
       "      <td>Less than once per month or monthly</td>\n",
       "      <td>No, I knew that Stack Overflow had a jobs boar...</td>\n",
       "      <td>No, and I don't know what that is</td>\n",
       "      <td>NaN</td>\n",
       "      <td>No</td>\n",
       "      <td>Not at all interested</td>\n",
       "      <td>Not at all interested</td>\n",
       "      <td>Not at all interested</td>\n",
       "      <td>Not at all interested</td>\n",
       "      <td>Not at all interested</td>\n",
       "      <td>Between 6:01 - 7:00 AM</td>\n",
       "      <td>9 - 12 hours</td>\n",
       "      <td>1 - 2 hours</td>\n",
       "      <td>Never</td>\n",
       "      <td>NaN</td>\n",
       "      <td>Daily or almost every day</td>\n",
       "      <td>Male</td>\n",
       "      <td>NaN</td>\n",
       "      <td>Associate degree</td>\n",
       "      <td>White or of European descent</td>\n",
       "      <td>18 - 24 years old</td>\n",
       "      <td>No</td>\n",
       "      <td>NaN</td>\n",
       "      <td>The survey was an appropriate length</td>\n",
       "      <td>Neither easy nor difficult</td>\n",
       "    </tr>\n",
       "  </tbody>\n",
       "</table>\n",
       "</div>"
      ],
      "text/plain": [
       "    Respondent Hobby OpenSource      Country         Student  \\\n",
       "14        21.0    No         No  Netherlands  Yes, full-time   \n",
       "\n",
       "            Employment                                    FormalEducation  \\\n",
       "14  Employed full-time  Secondary school (e.g. American high school, G...   \n",
       "\n",
       "   UndergradMajor         CompanySize  \\\n",
       "14            NaN  20 to 99 employees   \n",
       "\n",
       "                                           DevType YearsCoding  \\\n",
       "14  Back-end developer;Front-end developer;Student   0-2 years   \n",
       "\n",
       "   YearsCodingProf                     JobSatisfaction  \\\n",
       "14       0-2 years  Neither satisfied nor dissatisfied   \n",
       "\n",
       "         CareerSatisfaction  \\\n",
       "14  Moderately dissatisfied   \n",
       "\n",
       "                                        HopeFiveYears  \\\n",
       "14  Working in a career completely unrelated to so...   \n",
       "\n",
       "                                      JobSearchStatus  \\\n",
       "14  I’m not actively looking, but I am open to new...   \n",
       "\n",
       "                   LastNewJob  AssessJob1  AssessJob2  AssessJob3  AssessJob4  \\\n",
       "14  Between 2 and 4 years ago         1.0         9.0         2.0        10.0   \n",
       "\n",
       "    AssessJob5  AssessJob6  AssessJob7  AssessJob8  AssessJob9  AssessJob10  \\\n",
       "14         6.0         3.0         4.0         5.0         7.0          8.0   \n",
       "\n",
       "    AssessBenefits1  AssessBenefits2  AssessBenefits3  AssessBenefits4  \\\n",
       "14              2.0              3.0              6.0             11.0   \n",
       "\n",
       "    AssessBenefits5  AssessBenefits6  AssessBenefits7  AssessBenefits8  \\\n",
       "14              9.0              8.0             10.0              4.0   \n",
       "\n",
       "    AssessBenefits9  AssessBenefits10  AssessBenefits11  \\\n",
       "14              5.0               7.0               1.0   \n",
       "\n",
       "    JobContactPriorities1  JobContactPriorities2  JobContactPriorities3  \\\n",
       "14                    5.0                    3.0                    2.0   \n",
       "\n",
       "    JobContactPriorities4  JobContactPriorities5  JobEmailPriorities1  \\\n",
       "14                    1.0                    4.0                  1.0   \n",
       "\n",
       "    JobEmailPriorities2  JobEmailPriorities3  JobEmailPriorities4  \\\n",
       "14                  2.0                  6.0                  7.0   \n",
       "\n",
       "    JobEmailPriorities5  JobEmailPriorities6  JobEmailPriorities7  \\\n",
       "14                  3.0                  4.0                  5.0   \n",
       "\n",
       "                                          UpdateCV   Currency Salary  \\\n",
       "14  My job status or other personal status changed  Euros (€)      0   \n",
       "\n",
       "   SalaryType  ConvertedSalary CurrencySymbol CommunicationTools  \\\n",
       "14    Monthly              0.0            EUR                NaN   \n",
       "\n",
       "   TimeFullyProductive                                     EducationTypes  \\\n",
       "14   Less than a month  Received on-the-job training in software devel...   \n",
       "\n",
       "   SelfTaughtTypes TimeAfterBootcamp HackathonReasons AgreeDisagree1  \\\n",
       "14             NaN               NaN              NaN       Disagree   \n",
       "\n",
       "       AgreeDisagree2  AgreeDisagree3                   LanguageWorkedWith  \\\n",
       "14  Strongly disagree  Strongly agree  Java;JavaScript;PHP;VB.NET;HTML;CSS   \n",
       "\n",
       "   LanguageDesireNextYear DatabaseWorkedWith DatabaseDesireNextYear  \\\n",
       "14                    NaN   SQL Server;MySQL                    NaN   \n",
       "\n",
       "           PlatformWorkedWith PlatformDesireNextYear FrameworkWorkedWith  \\\n",
       "14  Windows Desktop or Server                    NaN                 NaN   \n",
       "\n",
       "   FrameworkDesireNextYear                      IDE OperatingSystem  \\\n",
       "14                     NaN  Notepad++;Visual Studio         Windows   \n",
       "\n",
       "   NumberMonitors  Methodology                               VersionControl  \\\n",
       "14              2  Agile;Scrum  Copying and pasting files to network shares   \n",
       "\n",
       "   CheckInCode AdBlocker AdBlockerDisable AdBlockerReasons AdsAgreeDisagree1  \\\n",
       "14       Never        No              NaN              NaN    Strongly agree   \n",
       "\n",
       "   AdsAgreeDisagree2           AdsAgreeDisagree3  \\\n",
       "14    Somewhat agree  Neither agree nor disagree   \n",
       "\n",
       "                            AdsActions  AdsPriorities1  AdsPriorities2  \\\n",
       "14  Clicked on an online advertisement             4.0             5.0   \n",
       "\n",
       "    AdsPriorities3  AdsPriorities4  AdsPriorities5  AdsPriorities6  \\\n",
       "14             6.0             2.0             1.0             7.0   \n",
       "\n",
       "    AdsPriorities7                                        AIDangerous  \\\n",
       "14             3.0  Artificial intelligence surpassing human intel...   \n",
       "\n",
       "   AIInteresting                                 AIResponsible  \\\n",
       "14           NaN  The developers or the people creating the AI   \n",
       "\n",
       "                                             AIFuture EthicsChoice  \\\n",
       "14  I'm worried about the dangers more than I'm ex...           No   \n",
       "\n",
       "         EthicsReport                     EthicsResponsible  \\\n",
       "14  Yes, and publicly  The person who came up with the idea   \n",
       "\n",
       "   EthicalImplications StackOverflowRecommend     StackOverflowVisit  \\\n",
       "14                 Yes                      8  Daily or almost daily   \n",
       "\n",
       "   StackOverflowHasAccount             StackOverflowParticipate  \\\n",
       "14                     Yes  Less than once per month or monthly   \n",
       "\n",
       "                                    StackOverflowJobs  \\\n",
       "14  No, I knew that Stack Overflow had a jobs boar...   \n",
       "\n",
       "                StackOverflowDevStory StackOverflowJobsRecommend  \\\n",
       "14  No, and I don't know what that is                        NaN   \n",
       "\n",
       "   StackOverflowConsiderMember     HypotheticalTools1     HypotheticalTools2  \\\n",
       "14                          No  Not at all interested  Not at all interested   \n",
       "\n",
       "       HypotheticalTools3     HypotheticalTools4     HypotheticalTools5  \\\n",
       "14  Not at all interested  Not at all interested  Not at all interested   \n",
       "\n",
       "                  WakeTime HoursComputer HoursOutside SkipMeals  \\\n",
       "14  Between 6:01 - 7:00 AM  9 - 12 hours  1 - 2 hours     Never   \n",
       "\n",
       "   ErgonomicDevices                   Exercise Gender SexualOrientation  \\\n",
       "14              NaN  Daily or almost every day   Male               NaN   \n",
       "\n",
       "    EducationParents                 RaceEthnicity                Age  \\\n",
       "14  Associate degree  White or of European descent  18 - 24 years old   \n",
       "\n",
       "   Dependents MilitaryUS                         SurveyTooLong  \\\n",
       "14         No        NaN  The survey was an appropriate length   \n",
       "\n",
       "                    SurveyEasy  \n",
       "14  Neither easy nor difficult  "
      ]
     },
     "execution_count": 256,
     "metadata": {},
     "output_type": "execute_result"
    }
   ],
   "source": [
    "df_2018[df_2018['Respondent']==21]"
   ]
  },
  {
   "cell_type": "code",
   "execution_count": null,
   "metadata": {
    "collapsed": true
   },
   "outputs": [],
   "source": []
  }
 ],
 "metadata": {
  "anaconda-cloud": {},
  "kernelspec": {
   "display_name": "Python [conda root]",
   "language": "python",
   "name": "conda-root-py"
  },
  "language_info": {
   "codemirror_mode": {
    "name": "ipython",
    "version": 3
   },
   "file_extension": ".py",
   "mimetype": "text/x-python",
   "name": "python",
   "nbconvert_exporter": "python",
   "pygments_lexer": "ipython3",
   "version": "3.5.2"
  }
 },
 "nbformat": 4,
 "nbformat_minor": 1
}
